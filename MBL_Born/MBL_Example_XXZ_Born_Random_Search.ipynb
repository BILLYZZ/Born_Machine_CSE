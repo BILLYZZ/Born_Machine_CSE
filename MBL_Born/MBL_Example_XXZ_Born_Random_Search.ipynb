{
 "cells": [
  {
   "cell_type": "code",
   "execution_count": 1,
   "metadata": {},
   "outputs": [],
   "source": [
    "# This file uses the inhouse qcbm code from the paper and compares MMD with MCR\n",
    "import numpy as np\n",
    "import matplotlib.pyplot as plt\n",
    "import copy\n",
    "import q_circuit as q # In house circuit code, to comare with Qiskit\n",
    "import torch\n",
    "import time\n",
    "import os\n",
    "\n",
    "# Oh Hail the almighty Qiskit:\n",
    "import qiskit\n",
    "from qiskit import transpile, assemble\n",
    "from qiskit.visualization import *\n",
    "from qiskit import IBMQ\n",
    "from qiskit.providers.jobstatus import JobStatus\n",
    "\n",
    "# Import custom packages: These are written by me\n",
    "import InHouse_Circuits as ihc\n",
    "import Qiskit_Circuits as qkc\n",
    "import Q_Generator as QG\n",
    "import Q_Loss_and_Gradients as Q_gradients\n",
    "import Utils\n",
    "import Discriminator_Utils as D_utils # A file that contains different discriminator architectures\n",
    "import time"
   ]
  },
  {
   "cell_type": "code",
   "execution_count": 2,
   "metadata": {},
   "outputs": [
    {
     "ename": "ModuleNotFoundError",
     "evalue": "No module named 'MMD_loss'",
     "output_type": "error",
     "traceback": [
      "\u001b[0;31m---------------------------------------------------------------------------\u001b[0m",
      "\u001b[0;31mModuleNotFoundError\u001b[0m                       Traceback (most recent call last)",
      "\u001b[0;32m<ipython-input-2-c301adac2fce>\u001b[0m in \u001b[0;36m<module>\u001b[0;34m\u001b[0m\n\u001b[1;32m     11\u001b[0m \u001b[0;31m#import tensorflow as tf\u001b[0m\u001b[0;34m\u001b[0m\u001b[0;34m\u001b[0m\u001b[0;34m\u001b[0m\u001b[0m\n\u001b[1;32m     12\u001b[0m \u001b[0;32mimport\u001b[0m \u001b[0mcv2\u001b[0m\u001b[0;34m\u001b[0m\u001b[0;34m\u001b[0m\u001b[0m\n\u001b[0;32m---> 13\u001b[0;31m \u001b[0;32mfrom\u001b[0m \u001b[0mMMD_loss\u001b[0m \u001b[0;32mimport\u001b[0m \u001b[0mRBFMMD2\u001b[0m\u001b[0;34m\u001b[0m\u001b[0;34m\u001b[0m\u001b[0m\n\u001b[0m",
      "\u001b[0;31mModuleNotFoundError\u001b[0m: No module named 'MMD_loss'"
     ]
    }
   ],
   "source": [
    "from quspin.operators import hamiltonian,exp_op # Hamiltonians and operators\n",
    "from quspin.basis import spin_basis_1d # Hilbert space spin basis\n",
    "from quspin.tools.misc import KL_div\n",
    "from scipy import integrate,optimize,special,stats,interpolate\n",
    "import numpy as np # generic math functions\n",
    "from time import time # timing package\n",
    "import matplotlib\n",
    "import matplotlib.pyplot as plt\n",
    "plt.rcParams[\"font.family\"] = \"Times New Roman\"\n",
    "matplotlib.rcParams.update({'font.size': 25})\n",
    "#import tensorflow as tf\n",
    "import cv2\n",
    "from MMD_loss import RBFMMD2"
   ]
  },
  {
   "cell_type": "code",
   "execution_count": null,
   "metadata": {},
   "outputs": [],
   "source": [
    "# IBMQ.enable_account(\"a66a83268fbf696a24b481c5d7568d50f14a1b2f28c6932d600a625b9cbffc6e28a6594bdd422676c9b2a214dcafa87d57012cc8678cbabaeecb319a0515f4c2\")"
   ]
  },
  {
   "cell_type": "code",
   "execution_count": null,
   "metadata": {},
   "outputs": [],
   "source": [
    "# provider = IBMQ.get_provider(hub='ibm-q')\n",
    "# provider.backends()"
   ]
  },
  {
   "cell_type": "code",
   "execution_count": null,
   "metadata": {},
   "outputs": [],
   "source": [
    "#backend = provider.get_backend('simulator_statevector')"
   ]
  },
  {
   "cell_type": "code",
   "execution_count": null,
   "metadata": {},
   "outputs": [
    {
     "name": "stdout",
     "output_type": "stream",
     "text": [
      "connection scheme [(0, 1), (1, 2), (2, 3), (3, 4), (4, 5), (5, 0)]\n"
     ]
    }
   ],
   "source": [
    "#======================================Start of Configurations=================================\n",
    "n_qubits = 6 # We use 6 qubits, two hidden\n",
    "n_h_qubits = 2\n",
    "n_show_qubits = n_qubits-n_h_qubits\n",
    "x_basis_m_n = torch.FloatTensor(Utils.binary_basis((n_show_qubits,))) \n",
    "sigma_list = [0.1,0.25,4,10]\n",
    "K = Utils.mix_rbf_kernel(x_basis_m_n, x_basis_m_n, sigma_list)\n",
    "\n",
    "geometry = (2,3) # The qubits are put on a 2 by 2 graph\n",
    "\n",
    "#connections = q.get_nn_pairs((2,3)) # The qubits are CNOT-entangled by nearest neighbors on the 2 by 2 graph\n",
    "connections = [(0, 1), (1, 2), (2, 3), (3, 4), (4, 5), (5,0)]\n",
    "print('connection scheme', connections)\n",
    "\n",
    "simulator = qiskit.Aer.get_backend('statevector_simulator')\n",
    "\n",
    "# t_m is the duration of each quench temperature, one delta_t time corresponds to one\n",
    "# There is no quenche layers set up when you first call the circuit initialization:\n",
    "circuit0 = qkc.MBL_Circuit(delta_t=0.1, t_m=1.0, Jxy=1.0, Jzz=1.0, n_qubits=n_qubits, n_h_qubits=n_h_qubits, \n",
    "                           connections=connections, \n",
    "                           backend=simulator, shots=100, if_measure=False)\n",
    "\n",
    "circuit0._circuit.B_gate, circuit0._circuit.C_gate = circuit0.create_B_C()"
   ]
  },
  {
   "cell_type": "code",
   "execution_count": null,
   "metadata": {},
   "outputs": [],
   "source": [
    "# There is no quenche layers set up when you first call the circuit initialization.\n",
    "# In this example, we start from the domain wall state |111000>\n",
    "circuit0._circuit.draw()"
   ]
  },
  {
   "cell_type": "code",
   "execution_count": null,
   "metadata": {},
   "outputs": [],
   "source": [
    "#======================================Create p_data==========================================\n",
    "hdim = 2**n_show_qubits\n",
    "p_data = torch.FloatTensor(Utils.gaussian_pdf((n_show_qubits,), hdim/2., hdim/4.))\n",
    "plt.plot(p_data, '*')\n",
    "plt.title('target distribution')\n"
   ]
  },
  {
   "cell_type": "markdown",
   "metadata": {},
   "source": [
    "Fast: training loop with saved statevector at each quench"
   ]
  },
  {
   "cell_type": "code",
   "execution_count": null,
   "metadata": {},
   "outputs": [],
   "source": [
    "M = 100 # Total number of quenches\n",
    "n_branches = 500 # number of search branches at each quench\n",
    "hd = 20 # Range of the randomly selected localization conef [-hd, +hd]\n",
    "training_losses = [] # To record the best mmd out of all candidate points at each quench m\n",
    "\n",
    "# Prepare the initial domain wall state\n",
    "circuit0.init_wall_state()\n",
    "circuit0.t_qc = transpile(circuit0._circuit, # Should transpile this whenever the circuit structure is altered\n",
    "                         circuit0.backend)\n",
    "qobj = qiskit.assemble(circuit0.t_qc)\n",
    "job = circuit0.backend.run(qobj)\n",
    "state = job.result().get_statevector() # This returns a list of complex numbers for the amps\n",
    "print('wallstate', state)\n",
    "\n",
    "\n",
    "\n",
    "for m in range(M):\n",
    "    t0 = time.time()\n",
    "    circuit0._circuit.data.clear() # clear the previous layers\n",
    "    circuit0._circuit._parameter_table.clear() # clear parameter table\n",
    "    #print('after clear', circuit0._circuit.data)\n",
    "    # The init state will be the wall state, the intermediate state will the best quenced state at quench m\n",
    "    circuit0._circuit.initialize(state, [i for i in range(n_qubits)])\n",
    "    # This will automatically transpile:\n",
    "    circuit0.append_layers_m(m=0, keep_previous=False) # since we will save the state vector after each quench. automatically transpile\n",
    "    \n",
    "    \n",
    "    # First randomly select candidate configurations of hz for quench m:\n",
    "    mmds = []\n",
    "    theta_list_array = []\n",
    "    for b in range(n_branches):\n",
    "        # Only randomly earch prameterse for this specific quench\n",
    "        theta_list_m = (torch.rand( circuit0.n_qubits )*2-1)*hd\n",
    "        # use these parameters \n",
    "        px, _ = circuit0.pdf_actual(theta_list_m)\n",
    "        mmd_distance = px@K@(p_data.T)\n",
    "        mmds.append(mmd_distance)\n",
    "        theta_list_array.append(theta_list_m) # keep a record of this for debugging\n",
    "    \n",
    "    #print('branch mmd', mmds)\n",
    "    ind = np.argmin(mmds)\n",
    "    print('best mmd', mmds[ind])\n",
    "    training_losses.append(mmds[ind])\n",
    "    # Recalculate the best evolved state for the next quench\n",
    "    _, state = circuit0.pdf_actual(theta_list_array[ind])\n",
    "    t1 = time.time()\n",
    "    print('time', t1-t0)"
   ]
  },
  {
   "cell_type": "code",
   "execution_count": null,
   "metadata": {},
   "outputs": [],
   "source": [
    "theta_list_m"
   ]
  },
  {
   "cell_type": "code",
   "execution_count": null,
   "metadata": {},
   "outputs": [],
   "source": [
    "plt.plot(mmds)"
   ]
  },
  {
   "cell_type": "code",
   "execution_count": null,
   "metadata": {},
   "outputs": [],
   "source": [
    "circuit0.thetas"
   ]
  },
  {
   "cell_type": "code",
   "execution_count": null,
   "metadata": {},
   "outputs": [],
   "source": [
    "phi = qiskit.circuit.Parameter('phi')\n",
    "phi2 = qiskit.circuit.Parameter('phi')\n",
    "qc = qiskit.QuantumCircuit(1)\n",
    "print('qc first praemeter', qc._parameter_table)\n",
    "# parameterize the rotation\n",
    "qc.rx(phi, 0)\n",
    "print(qc.data)\n",
    "qc.draw()\n",
    "\n",
    "# bind the parameters after circuit to create a bound circuit\n",
    "bc = qc.bind_parameters({phi: 3.14})\n",
    "bc.measure_all()\n",
    "bc.draw()\n",
    "qc.rx(phi,0)\n",
    "qc.rx(phi,0)\n",
    "\n"
   ]
  },
  {
   "cell_type": "code",
   "execution_count": null,
   "metadata": {},
   "outputs": [],
   "source": [
    "A = []\n",
    "theta = qiskit.circuit.Parameter('t')\n",
    "A.append(theta)"
   ]
  },
  {
   "cell_type": "code",
   "execution_count": null,
   "metadata": {},
   "outputs": [],
   "source": [
    "theta in A"
   ]
  },
  {
   "cell_type": "code",
   "execution_count": null,
   "metadata": {},
   "outputs": [],
   "source": [
    "theta1 = qiskit.circuit.Parameter('t')\n",
    "theta1 in A"
   ]
  },
  {
   "cell_type": "code",
   "execution_count": null,
   "metadata": {},
   "outputs": [],
   "source": [
    "theta2 = copy.deepcopy(theta)\n",
    "theta2 in A"
   ]
  },
  {
   "cell_type": "code",
   "execution_count": null,
   "metadata": {},
   "outputs": [],
   "source": [
    "id(theta2)"
   ]
  },
  {
   "cell_type": "code",
   "execution_count": null,
   "metadata": {},
   "outputs": [],
   "source": [
    "id(theta)"
   ]
  },
  {
   "cell_type": "code",
   "execution_count": null,
   "metadata": {},
   "outputs": [],
   "source": [
    "id(theta1)"
   ]
  },
  {
   "cell_type": "code",
   "execution_count": null,
   "metadata": {},
   "outputs": [],
   "source": [
    "theta2.name='new-t'"
   ]
  },
  {
   "cell_type": "code",
   "execution_count": null,
   "metadata": {},
   "outputs": [],
   "source": [
    "qc._parameter_table\n",
    "\n",
    "phi5 = copy.deepcopy(phi4)"
   ]
  },
  {
   "cell_type": "code",
   "execution_count": null,
   "metadata": {},
   "outputs": [],
   "source": [
    "phi5 in qc._parameter_table"
   ]
  },
  {
   "cell_type": "code",
   "execution_count": null,
   "metadata": {},
   "outputs": [],
   "source": [
    "phi3=phi# pass by reference\n",
    "import copy\n",
    "phi4=copy.deepcopy(phi)\n",
    "qc.rx(phi4,0)# meaning that qiskist doesn't detect parameter duplicatres via address"
   ]
  },
  {
   "cell_type": "code",
   "execution_count": null,
   "metadata": {},
   "outputs": [],
   "source": [
    "psi0=qiskit.circuit.Parameter('psi0')\n",
    "qc._update_parameter_table(qc.data[0][0])"
   ]
  },
  {
   "cell_type": "code",
   "execution_count": null,
   "metadata": {},
   "outputs": [],
   "source": [
    "qc.rx(phi2,0)"
   ]
  },
  {
   "cell_type": "code",
   "execution_count": null,
   "metadata": {},
   "outputs": [],
   "source": [
    "qc.data"
   ]
  },
  {
   "cell_type": "code",
   "execution_count": null,
   "metadata": {},
   "outputs": [],
   "source": [
    "phi4==phi"
   ]
  },
  {
   "cell_type": "code",
   "execution_count": null,
   "metadata": {},
   "outputs": [],
   "source": [
    "phi.parameters"
   ]
  },
  {
   "cell_type": "code",
   "execution_count": null,
   "metadata": {},
   "outputs": [],
   "source": [
    "qc.rx(phi2,0)"
   ]
  },
  {
   "cell_type": "code",
   "execution_count": null,
   "metadata": {},
   "outputs": [],
   "source": [
    "qc._parameter_table.clear()"
   ]
  },
  {
   "cell_type": "code",
   "execution_count": null,
   "metadata": {},
   "outputs": [],
   "source": [
    "qc.rx(phi2,0)"
   ]
  },
  {
   "cell_type": "code",
   "execution_count": null,
   "metadata": {},
   "outputs": [],
   "source": [
    "circuit0._circuit.data"
   ]
  },
  {
   "cell_type": "code",
   "execution_count": null,
   "metadata": {},
   "outputs": [],
   "source": [
    "circuit0._circuit.draw()"
   ]
  },
  {
   "cell_type": "code",
   "execution_count": null,
   "metadata": {},
   "outputs": [],
   "source": [
    "torch.cat([torch.Tensor(), torch.zeros((3))])"
   ]
  },
  {
   "cell_type": "code",
   "execution_count": null,
   "metadata": {},
   "outputs": [],
   "source": []
  },
  {
   "cell_type": "code",
   "execution_count": null,
   "metadata": {},
   "outputs": [],
   "source": [
    "torch.ones(3)@torch.ones((3,3))@torch.ones(3)"
   ]
  },
  {
   "cell_type": "code",
   "execution_count": null,
   "metadata": {},
   "outputs": [],
   "source": [
    "(torch.rand( (circuit0.current_m+1)*circuit0.n_qubits )*2-1)*1.8"
   ]
  },
  {
   "cell_type": "code",
   "execution_count": null,
   "metadata": {},
   "outputs": [],
   "source": []
  }
 ],
 "metadata": {
  "kernelspec": {
   "display_name": "Python 3",
   "language": "python",
   "name": "python3"
  },
  "language_info": {
   "codemirror_mode": {
    "name": "ipython",
    "version": 3
   },
   "file_extension": ".py",
   "mimetype": "text/x-python",
   "name": "python",
   "nbconvert_exporter": "python",
   "pygments_lexer": "ipython3",
   "version": "3.8.5"
  }
 },
 "nbformat": 4,
 "nbformat_minor": 4
}
