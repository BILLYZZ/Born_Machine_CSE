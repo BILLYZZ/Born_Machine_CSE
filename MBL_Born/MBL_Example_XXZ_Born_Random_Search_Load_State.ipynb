{
 "cells": [
  {
   "cell_type": "code",
   "execution_count": 1,
   "metadata": {},
   "outputs": [],
   "source": [
    "# This file uses the inhouse qcbm code from the paper and compares MMD with MCR\n",
    "import numpy as np\n",
    "import matplotlib.pyplot as plt\n",
    "import copy\n",
    "import q_circuit as q # In house circuit code, to comare with Qiskit\n",
    "import torch\n",
    "import time\n",
    "import os\n",
    "os.environ['KMP_DUPLICATE_LIB_OK']='True'\n",
    "# Oh Hail the almighty Qiskit:\n",
    "import qiskit\n",
    "from qiskit import transpile, assemble\n",
    "from qiskit.visualization import *\n",
    "from qiskit import IBMQ\n",
    "from qiskit.providers.jobstatus import JobStatus\n",
    "\n",
    "# Import custom packages: These are written by me\n",
    "import InHouse_Circuits as ihc\n",
    "import Qiskit_Circuits as qkc\n",
    "import Q_Generator as QG\n",
    "import Q_Loss_and_Gradients as Q_gradients\n",
    "import Utils\n",
    "import Discriminator_Utils as D_utils # A file that contains different discriminator architectures\n",
    "import time\n",
    "\n"
   ]
  },
  {
   "cell_type": "code",
   "execution_count": null,
   "metadata": {},
   "outputs": [],
   "source": []
  },
  {
   "cell_type": "code",
   "execution_count": 2,
   "metadata": {},
   "outputs": [],
   "source": [
    "# IBMQ.enable_account(\"a66a83268fbf696a24b481c5d7568d50f14a1b2f28c6932d600a625b9cbffc6e28a6594bdd422676c9b2a214dcafa87d57012cc8678cbabaeecb319a0515f4c2\")"
   ]
  },
  {
   "cell_type": "code",
   "execution_count": 3,
   "metadata": {},
   "outputs": [],
   "source": [
    "# provider = IBMQ.get_provider(hub='ibm-q')\n",
    "# provider.backends()"
   ]
  },
  {
   "cell_type": "code",
   "execution_count": 4,
   "metadata": {},
   "outputs": [],
   "source": [
    "#backend = provider.get_backend('simulator_statevector')"
   ]
  },
  {
   "cell_type": "markdown",
   "metadata": {},
   "source": [
    "Debug against quspin exact diagonalization"
   ]
  },
  {
   "cell_type": "code",
   "execution_count": 5,
   "metadata": {},
   "outputs": [
    {
     "name": "stdout",
     "output_type": "stream",
     "text": [
      "connection scheme [(0, 1), (1, 2), (2, 3), (3, 4), (4, 5), (5, 0)]\n"
     ]
    },
    {
     "data": {
      "text/html": [
       "<pre style=\"word-wrap: normal;white-space: pre;background: #fff0;line-height: 1.1;font-family: &quot;Courier New&quot;,Courier,monospace\">     »\n",
       "q_0: »\n",
       "     »\n",
       "q_1: »\n",
       "     »\n",
       "q_2: »\n",
       "     »\n",
       "q_3: »\n",
       "     »\n",
       "q_4: »\n",
       "     »\n",
       "q_5: »\n",
       "     »\n",
       "c: 4/»\n",
       "     »\n",
       "«     ┌──────────────────────────────────────────────────────────────────────────────────────────────────────────────────────────────────────────────┐»\n",
       "«q_0: ┤0                                                                                                                                             ├»\n",
       "«     │                                                                                                                                              │»\n",
       "«q_1: ┤1                                                                                                                                             ├»\n",
       "«     │                                                                                                                                              │»\n",
       "«q_2: ┤2                                                                                                                                             ├»\n",
       "«     │  Initialize(1,0,0,0,0,0,0,0,0,0,0,0,0,0,0,0,0,0,0,0,0,0,0,0,0,0,0,0,0,0,0,0,0,0,0,0,0,0,0,0,0,0,0,0,0,0,0,0,0,0,0,0,0,0,0,0,0,0,0,0,0,0,0,0) │»\n",
       "«q_3: ┤3                                                                                                                                             ├»\n",
       "«     │                                                                                                                                              │»\n",
       "«q_4: ┤4                                                                                                                                             ├»\n",
       "«     │                                                                                                                                              │»\n",
       "«q_5: ┤5                                                                                                                                             ├»\n",
       "«     └──────────────────────────────────────────────────────────────────────────────────────────────────────────────────────────────────────────────┘»\n",
       "«c: 4/════════════════════════════════════════════════════════════════════════════════════════════════════════════════════════════════════════════════»\n",
       "«                                                                                                                                                     »\n",
       "«     ┌───────────────┐┌────┐┌────┐┌────┐┌───────────────┐┌───────────────┐»\n",
       "«q_0: ┤ Rz(0.001*h_0) ├┤0   ├┤0   ├┤0   ├┤ Rz(0.001*h_0) ├┤ Rz(0.001*h_0) ├»\n",
       "«     ├───────────────┤│    ││    ││    │├───────────────┤├───────────────┤»\n",
       "«q_1: ┤ Rz(0.001*h_1) ├┤1   ├┤1   ├┤1   ├┤ Rz(0.001*h_1) ├┤ Rz(0.001*h_1) ├»\n",
       "«     ├───────────────┤│    ││    ││    │├───────────────┤├───────────────┤»\n",
       "«q_2: ┤ Rz(0.001*h_2) ├┤2   ├┤2   ├┤2   ├┤ Rz(0.001*h_2) ├┤ Rz(0.001*h_2) ├»\n",
       "«     ├───────────────┤│  B ││  C ││  B │├───────────────┤├───────────────┤»\n",
       "«q_3: ┤ Rz(0.001*h_3) ├┤3   ├┤3   ├┤3   ├┤ Rz(0.001*h_3) ├┤ Rz(0.001*h_3) ├»\n",
       "«     ├───────────────┤│    ││    ││    │├───────────────┤├───────────────┤»\n",
       "«q_4: ┤ Rz(0.001*h_4) ├┤4   ├┤4   ├┤4   ├┤ Rz(0.001*h_4) ├┤ Rz(0.001*h_4) ├»\n",
       "«     ├───────────────┤│    ││    ││    │├───────────────┤├───────────────┤»\n",
       "«q_5: ┤ Rz(0.001*h_5) ├┤5   ├┤5   ├┤5   ├┤ Rz(0.001*h_5) ├┤ Rz(0.001*h_5) ├»\n",
       "«     └───────────────┘└────┘└────┘└────┘└───────────────┘└───────────────┘»\n",
       "«c: 4/═════════════════════════════════════════════════════════════════════»\n",
       "«                                                                          »\n",
       "«     ┌────┐┌────┐┌────┐┌───────────────┐┌───────────────┐┌────┐┌────┐┌────┐»\n",
       "«q_0: ┤0   ├┤0   ├┤0   ├┤ Rz(0.001*h_0) ├┤ Rz(0.001*h_0) ├┤0   ├┤0   ├┤0   ├»\n",
       "«     │    ││    ││    │├───────────────┤├───────────────┤│    ││    ││    │»\n",
       "«q_1: ┤1   ├┤1   ├┤1   ├┤ Rz(0.001*h_1) ├┤ Rz(0.001*h_1) ├┤1   ├┤1   ├┤1   ├»\n",
       "«     │    ││    ││    │├───────────────┤├───────────────┤│    ││    ││    │»\n",
       "«q_2: ┤2   ├┤2   ├┤2   ├┤ Rz(0.001*h_2) ├┤ Rz(0.001*h_2) ├┤2   ├┤2   ├┤2   ├»\n",
       "«     │  B ││  C ││  B │├───────────────┤├───────────────┤│  B ││  C ││  B │»\n",
       "«q_3: ┤3   ├┤3   ├┤3   ├┤ Rz(0.001*h_3) ├┤ Rz(0.001*h_3) ├┤3   ├┤3   ├┤3   ├»\n",
       "«     │    ││    ││    │├───────────────┤├───────────────┤│    ││    ││    │»\n",
       "«q_4: ┤4   ├┤4   ├┤4   ├┤ Rz(0.001*h_4) ├┤ Rz(0.001*h_4) ├┤4   ├┤4   ├┤4   ├»\n",
       "«     │    ││    ││    │├───────────────┤├───────────────┤│    ││    ││    │»\n",
       "«q_5: ┤5   ├┤5   ├┤5   ├┤ Rz(0.001*h_5) ├┤ Rz(0.001*h_5) ├┤5   ├┤5   ├┤5   ├»\n",
       "«     └────┘└────┘└────┘└───────────────┘└───────────────┘└────┘└────┘└────┘»\n",
       "«c: 4/══════════════════════════════════════════════════════════════════════»\n",
       "«                                                                           »\n",
       "«     ┌───────────────┐┌───────────────┐┌────┐┌────┐┌────┐┌───────────────┐»\n",
       "«q_0: ┤ Rz(0.001*h_0) ├┤ Rz(0.001*h_0) ├┤0   ├┤0   ├┤0   ├┤ Rz(0.001*h_0) ├»\n",
       "«     ├───────────────┤├───────────────┤│    ││    ││    │├───────────────┤»\n",
       "«q_1: ┤ Rz(0.001*h_1) ├┤ Rz(0.001*h_1) ├┤1   ├┤1   ├┤1   ├┤ Rz(0.001*h_1) ├»\n",
       "«     ├───────────────┤├───────────────┤│    ││    ││    │├───────────────┤»\n",
       "«q_2: ┤ Rz(0.001*h_2) ├┤ Rz(0.001*h_2) ├┤2   ├┤2   ├┤2   ├┤ Rz(0.001*h_2) ├»\n",
       "«     ├───────────────┤├───────────────┤│  B ││  C ││  B │├───────────────┤»\n",
       "«q_3: ┤ Rz(0.001*h_3) ├┤ Rz(0.001*h_3) ├┤3   ├┤3   ├┤3   ├┤ Rz(0.001*h_3) ├»\n",
       "«     ├───────────────┤├───────────────┤│    ││    ││    │├───────────────┤»\n",
       "«q_4: ┤ Rz(0.001*h_4) ├┤ Rz(0.001*h_4) ├┤4   ├┤4   ├┤4   ├┤ Rz(0.001*h_4) ├»\n",
       "«     ├───────────────┤├───────────────┤│    ││    ││    │├───────────────┤»\n",
       "«q_5: ┤ Rz(0.001*h_5) ├┤ Rz(0.001*h_5) ├┤5   ├┤5   ├┤5   ├┤ Rz(0.001*h_5) ├»\n",
       "«     └───────────────┘└───────────────┘└────┘└────┘└────┘└───────────────┘»\n",
       "«c: 4/═════════════════════════════════════════════════════════════════════»\n",
       "«                                                                          »\n",
       "«     ┌───────────────┐┌────┐┌────┐┌────┐┌───────────────┐┌───────────────┐»\n",
       "«q_0: ┤ Rz(0.001*h_0) ├┤0   ├┤0   ├┤0   ├┤ Rz(0.001*h_0) ├┤ Rz(0.001*h_0) ├»\n",
       "«     ├───────────────┤│    ││    ││    │├───────────────┤├───────────────┤»\n",
       "«q_1: ┤ Rz(0.001*h_1) ├┤1   ├┤1   ├┤1   ├┤ Rz(0.001*h_1) ├┤ Rz(0.001*h_1) ├»\n",
       "«     ├───────────────┤│    ││    ││    │├───────────────┤├───────────────┤»\n",
       "«q_2: ┤ Rz(0.001*h_2) ├┤2   ├┤2   ├┤2   ├┤ Rz(0.001*h_2) ├┤ Rz(0.001*h_2) ├»\n",
       "«     ├───────────────┤│  B ││  C ││  B │├───────────────┤├───────────────┤»\n",
       "«q_3: ┤ Rz(0.001*h_3) ├┤3   ├┤3   ├┤3   ├┤ Rz(0.001*h_3) ├┤ Rz(0.001*h_3) ├»\n",
       "«     ├───────────────┤│    ││    ││    │├───────────────┤├───────────────┤»\n",
       "«q_4: ┤ Rz(0.001*h_4) ├┤4   ├┤4   ├┤4   ├┤ Rz(0.001*h_4) ├┤ Rz(0.001*h_4) ├»\n",
       "«     ├───────────────┤│    ││    ││    │├───────────────┤├───────────────┤»\n",
       "«q_5: ┤ Rz(0.001*h_5) ├┤5   ├┤5   ├┤5   ├┤ Rz(0.001*h_5) ├┤ Rz(0.001*h_5) ├»\n",
       "«     └───────────────┘└────┘└────┘└────┘└───────────────┘└───────────────┘»\n",
       "«c: 4/═════════════════════════════════════════════════════════════════════»\n",
       "«                                                                          »\n",
       "«     ┌────┐┌────┐┌────┐┌───────────────┐┌───────────────┐┌────┐┌────┐┌────┐»\n",
       "«q_0: ┤0   ├┤0   ├┤0   ├┤ Rz(0.001*h_0) ├┤ Rz(0.001*h_0) ├┤0   ├┤0   ├┤0   ├»\n",
       "«     │    ││    ││    │├───────────────┤├───────────────┤│    ││    ││    │»\n",
       "«q_1: ┤1   ├┤1   ├┤1   ├┤ Rz(0.001*h_1) ├┤ Rz(0.001*h_1) ├┤1   ├┤1   ├┤1   ├»\n",
       "«     │    ││    ││    │├───────────────┤├───────────────┤│    ││    ││    │»\n",
       "«q_2: ┤2   ├┤2   ├┤2   ├┤ Rz(0.001*h_2) ├┤ Rz(0.001*h_2) ├┤2   ├┤2   ├┤2   ├»\n",
       "«     │  B ││  C ││  B │├───────────────┤├───────────────┤│  B ││  C ││  B │»\n",
       "«q_3: ┤3   ├┤3   ├┤3   ├┤ Rz(0.001*h_3) ├┤ Rz(0.001*h_3) ├┤3   ├┤3   ├┤3   ├»\n",
       "«     │    ││    ││    │├───────────────┤├───────────────┤│    ││    ││    │»\n",
       "«q_4: ┤4   ├┤4   ├┤4   ├┤ Rz(0.001*h_4) ├┤ Rz(0.001*h_4) ├┤4   ├┤4   ├┤4   ├»\n",
       "«     │    ││    ││    │├───────────────┤├───────────────┤│    ││    ││    │»\n",
       "«q_5: ┤5   ├┤5   ├┤5   ├┤ Rz(0.001*h_5) ├┤ Rz(0.001*h_5) ├┤5   ├┤5   ├┤5   ├»\n",
       "«     └────┘└────┘└────┘└───────────────┘└───────────────┘└────┘└────┘└────┘»\n",
       "«c: 4/══════════════════════════════════════════════════════════════════════»\n",
       "«                                                                           »\n",
       "«     ┌───────────────┐┌───────────────┐┌────┐┌────┐┌────┐┌───────────────┐»\n",
       "«q_0: ┤ Rz(0.001*h_0) ├┤ Rz(0.001*h_0) ├┤0   ├┤0   ├┤0   ├┤ Rz(0.001*h_0) ├»\n",
       "«     ├───────────────┤├───────────────┤│    ││    ││    │├───────────────┤»\n",
       "«q_1: ┤ Rz(0.001*h_1) ├┤ Rz(0.001*h_1) ├┤1   ├┤1   ├┤1   ├┤ Rz(0.001*h_1) ├»\n",
       "«     ├───────────────┤├───────────────┤│    ││    ││    │├───────────────┤»\n",
       "«q_2: ┤ Rz(0.001*h_2) ├┤ Rz(0.001*h_2) ├┤2   ├┤2   ├┤2   ├┤ Rz(0.001*h_2) ├»\n",
       "«     ├───────────────┤├───────────────┤│  B ││  C ││  B │├───────────────┤»\n",
       "«q_3: ┤ Rz(0.001*h_3) ├┤ Rz(0.001*h_3) ├┤3   ├┤3   ├┤3   ├┤ Rz(0.001*h_3) ├»\n",
       "«     ├───────────────┤├───────────────┤│    ││    ││    │├───────────────┤»\n",
       "«q_4: ┤ Rz(0.001*h_4) ├┤ Rz(0.001*h_4) ├┤4   ├┤4   ├┤4   ├┤ Rz(0.001*h_4) ├»\n",
       "«     ├───────────────┤├───────────────┤│    ││    ││    │├───────────────┤»\n",
       "«q_5: ┤ Rz(0.001*h_5) ├┤ Rz(0.001*h_5) ├┤5   ├┤5   ├┤5   ├┤ Rz(0.001*h_5) ├»\n",
       "«     └───────────────┘└───────────────┘└────┘└────┘└────┘└───────────────┘»\n",
       "«c: 4/═════════════════════════════════════════════════════════════════════»\n",
       "«                                                                          »\n",
       "«     ┌───────────────┐┌────┐┌────┐┌────┐┌───────────────┐┌───────────────┐»\n",
       "«q_0: ┤ Rz(0.001*h_0) ├┤0   ├┤0   ├┤0   ├┤ Rz(0.001*h_0) ├┤ Rz(0.001*h_0) ├»\n",
       "«     ├───────────────┤│    ││    ││    │├───────────────┤├───────────────┤»\n",
       "«q_1: ┤ Rz(0.001*h_1) ├┤1   ├┤1   ├┤1   ├┤ Rz(0.001*h_1) ├┤ Rz(0.001*h_1) ├»\n",
       "«     ├───────────────┤│    ││    ││    │├───────────────┤├───────────────┤»\n",
       "«q_2: ┤ Rz(0.001*h_2) ├┤2   ├┤2   ├┤2   ├┤ Rz(0.001*h_2) ├┤ Rz(0.001*h_2) ├»\n",
       "«     ├───────────────┤│  B ││  C ││  B │├───────────────┤├───────────────┤»\n",
       "«q_3: ┤ Rz(0.001*h_3) ├┤3   ├┤3   ├┤3   ├┤ Rz(0.001*h_3) ├┤ Rz(0.001*h_3) ├»\n",
       "«     ├───────────────┤│    ││    ││    │├───────────────┤├───────────────┤»\n",
       "«q_4: ┤ Rz(0.001*h_4) ├┤4   ├┤4   ├┤4   ├┤ Rz(0.001*h_4) ├┤ Rz(0.001*h_4) ├»\n",
       "«     ├───────────────┤│    ││    ││    │├───────────────┤├───────────────┤»\n",
       "«q_5: ┤ Rz(0.001*h_5) ├┤5   ├┤5   ├┤5   ├┤ Rz(0.001*h_5) ├┤ Rz(0.001*h_5) ├»\n",
       "«     └───────────────┘└────┘└────┘└────┘└───────────────┘└───────────────┘»\n",
       "«c: 4/═════════════════════════════════════════════════════════════════════»\n",
       "«                                                                          »\n",
       "«     ┌────┐┌────┐┌────┐┌───────────────┐\n",
       "«q_0: ┤0   ├┤0   ├┤0   ├┤ Rz(0.001*h_0) ├\n",
       "«     │    ││    ││    │├───────────────┤\n",
       "«q_1: ┤1   ├┤1   ├┤1   ├┤ Rz(0.001*h_1) ├\n",
       "«     │    ││    ││    │├───────────────┤\n",
       "«q_2: ┤2   ├┤2   ├┤2   ├┤ Rz(0.001*h_2) ├\n",
       "«     │  B ││  C ││  B │├───────────────┤\n",
       "«q_3: ┤3   ├┤3   ├┤3   ├┤ Rz(0.001*h_3) ├\n",
       "«     │    ││    ││    │├───────────────┤\n",
       "«q_4: ┤4   ├┤4   ├┤4   ├┤ Rz(0.001*h_4) ├\n",
       "«     │    ││    ││    │├───────────────┤\n",
       "«q_5: ┤5   ├┤5   ├┤5   ├┤ Rz(0.001*h_5) ├\n",
       "«     └────┘└────┘└────┘└───────────────┘\n",
       "«c: 4/═══════════════════════════════════\n",
       "«                                        </pre>"
      ],
      "text/plain": [
       "     »\n",
       "q_0: »\n",
       "     »\n",
       "q_1: »\n",
       "     »\n",
       "q_2: »\n",
       "     »\n",
       "q_3: »\n",
       "     »\n",
       "q_4: »\n",
       "     »\n",
       "q_5: »\n",
       "     »\n",
       "c: 4/»\n",
       "     »\n",
       "«     ┌──────────────────────────────────────────────────────────────────────────────────────────────────────────────────────────────────────────────┐»\n",
       "«q_0: ┤0                                                                                                                                             ├»\n",
       "«     │                                                                                                                                              │»\n",
       "«q_1: ┤1                                                                                                                                             ├»\n",
       "«     │                                                                                                                                              │»\n",
       "«q_2: ┤2                                                                                                                                             ├»\n",
       "«     │  Initialize(1,0,0,0,0,0,0,0,0,0,0,0,0,0,0,0,0,0,0,0,0,0,0,0,0,0,0,0,0,0,0,0,0,0,0,0,0,0,0,0,0,0,0,0,0,0,0,0,0,0,0,0,0,0,0,0,0,0,0,0,0,0,0,0) │»\n",
       "«q_3: ┤3                                                                                                                                             ├»\n",
       "«     │                                                                                                                                              │»\n",
       "«q_4: ┤4                                                                                                                                             ├»\n",
       "«     │                                                                                                                                              │»\n",
       "«q_5: ┤5                                                                                                                                             ├»\n",
       "«     └──────────────────────────────────────────────────────────────────────────────────────────────────────────────────────────────────────────────┘»\n",
       "«c: 4/════════════════════════════════════════════════════════════════════════════════════════════════════════════════════════════════════════════════»\n",
       "«                                                                                                                                                     »\n",
       "«     ┌───────────────┐┌────┐┌────┐┌────┐┌───────────────┐┌───────────────┐»\n",
       "«q_0: ┤ Rz(0.001*h_0) ├┤0   ├┤0   ├┤0   ├┤ Rz(0.001*h_0) ├┤ Rz(0.001*h_0) ├»\n",
       "«     ├───────────────┤│    ││    ││    │├───────────────┤├───────────────┤»\n",
       "«q_1: ┤ Rz(0.001*h_1) ├┤1   ├┤1   ├┤1   ├┤ Rz(0.001*h_1) ├┤ Rz(0.001*h_1) ├»\n",
       "«     ├───────────────┤│    ││    ││    │├───────────────┤├───────────────┤»\n",
       "«q_2: ┤ Rz(0.001*h_2) ├┤2   ├┤2   ├┤2   ├┤ Rz(0.001*h_2) ├┤ Rz(0.001*h_2) ├»\n",
       "«     ├───────────────┤│  B ││  C ││  B │├───────────────┤├───────────────┤»\n",
       "«q_3: ┤ Rz(0.001*h_3) ├┤3   ├┤3   ├┤3   ├┤ Rz(0.001*h_3) ├┤ Rz(0.001*h_3) ├»\n",
       "«     ├───────────────┤│    ││    ││    │├───────────────┤├───────────────┤»\n",
       "«q_4: ┤ Rz(0.001*h_4) ├┤4   ├┤4   ├┤4   ├┤ Rz(0.001*h_4) ├┤ Rz(0.001*h_4) ├»\n",
       "«     ├───────────────┤│    ││    ││    │├───────────────┤├───────────────┤»\n",
       "«q_5: ┤ Rz(0.001*h_5) ├┤5   ├┤5   ├┤5   ├┤ Rz(0.001*h_5) ├┤ Rz(0.001*h_5) ├»\n",
       "«     └───────────────┘└────┘└────┘└────┘└───────────────┘└───────────────┘»\n",
       "«c: 4/═════════════════════════════════════════════════════════════════════»\n",
       "«                                                                          »\n",
       "«     ┌────┐┌────┐┌────┐┌───────────────┐┌───────────────┐┌────┐┌────┐┌────┐»\n",
       "«q_0: ┤0   ├┤0   ├┤0   ├┤ Rz(0.001*h_0) ├┤ Rz(0.001*h_0) ├┤0   ├┤0   ├┤0   ├»\n",
       "«     │    ││    ││    │├───────────────┤├───────────────┤│    ││    ││    │»\n",
       "«q_1: ┤1   ├┤1   ├┤1   ├┤ Rz(0.001*h_1) ├┤ Rz(0.001*h_1) ├┤1   ├┤1   ├┤1   ├»\n",
       "«     │    ││    ││    │├───────────────┤├───────────────┤│    ││    ││    │»\n",
       "«q_2: ┤2   ├┤2   ├┤2   ├┤ Rz(0.001*h_2) ├┤ Rz(0.001*h_2) ├┤2   ├┤2   ├┤2   ├»\n",
       "«     │  B ││  C ││  B │├───────────────┤├───────────────┤│  B ││  C ││  B │»\n",
       "«q_3: ┤3   ├┤3   ├┤3   ├┤ Rz(0.001*h_3) ├┤ Rz(0.001*h_3) ├┤3   ├┤3   ├┤3   ├»\n",
       "«     │    ││    ││    │├───────────────┤├───────────────┤│    ││    ││    │»\n",
       "«q_4: ┤4   ├┤4   ├┤4   ├┤ Rz(0.001*h_4) ├┤ Rz(0.001*h_4) ├┤4   ├┤4   ├┤4   ├»\n",
       "«     │    ││    ││    │├───────────────┤├───────────────┤│    ││    ││    │»\n",
       "«q_5: ┤5   ├┤5   ├┤5   ├┤ Rz(0.001*h_5) ├┤ Rz(0.001*h_5) ├┤5   ├┤5   ├┤5   ├»\n",
       "«     └────┘└────┘└────┘└───────────────┘└───────────────┘└────┘└────┘└────┘»\n",
       "«c: 4/══════════════════════════════════════════════════════════════════════»\n",
       "«                                                                           »\n",
       "«     ┌───────────────┐┌───────────────┐┌────┐┌────┐┌────┐┌───────────────┐»\n",
       "«q_0: ┤ Rz(0.001*h_0) ├┤ Rz(0.001*h_0) ├┤0   ├┤0   ├┤0   ├┤ Rz(0.001*h_0) ├»\n",
       "«     ├───────────────┤├───────────────┤│    ││    ││    │├───────────────┤»\n",
       "«q_1: ┤ Rz(0.001*h_1) ├┤ Rz(0.001*h_1) ├┤1   ├┤1   ├┤1   ├┤ Rz(0.001*h_1) ├»\n",
       "«     ├───────────────┤├───────────────┤│    ││    ││    │├───────────────┤»\n",
       "«q_2: ┤ Rz(0.001*h_2) ├┤ Rz(0.001*h_2) ├┤2   ├┤2   ├┤2   ├┤ Rz(0.001*h_2) ├»\n",
       "«     ├───────────────┤├───────────────┤│  B ││  C ││  B │├───────────────┤»\n",
       "«q_3: ┤ Rz(0.001*h_3) ├┤ Rz(0.001*h_3) ├┤3   ├┤3   ├┤3   ├┤ Rz(0.001*h_3) ├»\n",
       "«     ├───────────────┤├───────────────┤│    ││    ││    │├───────────────┤»\n",
       "«q_4: ┤ Rz(0.001*h_4) ├┤ Rz(0.001*h_4) ├┤4   ├┤4   ├┤4   ├┤ Rz(0.001*h_4) ├»\n",
       "«     ├───────────────┤├───────────────┤│    ││    ││    │├───────────────┤»\n",
       "«q_5: ┤ Rz(0.001*h_5) ├┤ Rz(0.001*h_5) ├┤5   ├┤5   ├┤5   ├┤ Rz(0.001*h_5) ├»\n",
       "«     └───────────────┘└───────────────┘└────┘└────┘└────┘└───────────────┘»\n",
       "«c: 4/═════════════════════════════════════════════════════════════════════»\n",
       "«                                                                          »\n",
       "«     ┌───────────────┐┌────┐┌────┐┌────┐┌───────────────┐┌───────────────┐»\n",
       "«q_0: ┤ Rz(0.001*h_0) ├┤0   ├┤0   ├┤0   ├┤ Rz(0.001*h_0) ├┤ Rz(0.001*h_0) ├»\n",
       "«     ├───────────────┤│    ││    ││    │├───────────────┤├───────────────┤»\n",
       "«q_1: ┤ Rz(0.001*h_1) ├┤1   ├┤1   ├┤1   ├┤ Rz(0.001*h_1) ├┤ Rz(0.001*h_1) ├»\n",
       "«     ├───────────────┤│    ││    ││    │├───────────────┤├───────────────┤»\n",
       "«q_2: ┤ Rz(0.001*h_2) ├┤2   ├┤2   ├┤2   ├┤ Rz(0.001*h_2) ├┤ Rz(0.001*h_2) ├»\n",
       "«     ├───────────────┤│  B ││  C ││  B │├───────────────┤├───────────────┤»\n",
       "«q_3: ┤ Rz(0.001*h_3) ├┤3   ├┤3   ├┤3   ├┤ Rz(0.001*h_3) ├┤ Rz(0.001*h_3) ├»\n",
       "«     ├───────────────┤│    ││    ││    │├───────────────┤├───────────────┤»\n",
       "«q_4: ┤ Rz(0.001*h_4) ├┤4   ├┤4   ├┤4   ├┤ Rz(0.001*h_4) ├┤ Rz(0.001*h_4) ├»\n",
       "«     ├───────────────┤│    ││    ││    │├───────────────┤├───────────────┤»\n",
       "«q_5: ┤ Rz(0.001*h_5) ├┤5   ├┤5   ├┤5   ├┤ Rz(0.001*h_5) ├┤ Rz(0.001*h_5) ├»\n",
       "«     └───────────────┘└────┘└────┘└────┘└───────────────┘└───────────────┘»\n",
       "«c: 4/═════════════════════════════════════════════════════════════════════»\n",
       "«                                                                          »\n",
       "«     ┌────┐┌────┐┌────┐┌───────────────┐┌───────────────┐┌────┐┌────┐┌────┐»\n",
       "«q_0: ┤0   ├┤0   ├┤0   ├┤ Rz(0.001*h_0) ├┤ Rz(0.001*h_0) ├┤0   ├┤0   ├┤0   ├»\n",
       "«     │    ││    ││    │├───────────────┤├───────────────┤│    ││    ││    │»\n",
       "«q_1: ┤1   ├┤1   ├┤1   ├┤ Rz(0.001*h_1) ├┤ Rz(0.001*h_1) ├┤1   ├┤1   ├┤1   ├»\n",
       "«     │    ││    ││    │├───────────────┤├───────────────┤│    ││    ││    │»\n",
       "«q_2: ┤2   ├┤2   ├┤2   ├┤ Rz(0.001*h_2) ├┤ Rz(0.001*h_2) ├┤2   ├┤2   ├┤2   ├»\n",
       "«     │  B ││  C ││  B │├───────────────┤├───────────────┤│  B ││  C ││  B │»\n",
       "«q_3: ┤3   ├┤3   ├┤3   ├┤ Rz(0.001*h_3) ├┤ Rz(0.001*h_3) ├┤3   ├┤3   ├┤3   ├»\n",
       "«     │    ││    ││    │├───────────────┤├───────────────┤│    ││    ││    │»\n",
       "«q_4: ┤4   ├┤4   ├┤4   ├┤ Rz(0.001*h_4) ├┤ Rz(0.001*h_4) ├┤4   ├┤4   ├┤4   ├»\n",
       "«     │    ││    ││    │├───────────────┤├───────────────┤│    ││    ││    │»\n",
       "«q_5: ┤5   ├┤5   ├┤5   ├┤ Rz(0.001*h_5) ├┤ Rz(0.001*h_5) ├┤5   ├┤5   ├┤5   ├»\n",
       "«     └────┘└────┘└────┘└───────────────┘└───────────────┘└────┘└────┘└────┘»\n",
       "«c: 4/══════════════════════════════════════════════════════════════════════»\n",
       "«                                                                           »\n",
       "«     ┌───────────────┐┌───────────────┐┌────┐┌────┐┌────┐┌───────────────┐»\n",
       "«q_0: ┤ Rz(0.001*h_0) ├┤ Rz(0.001*h_0) ├┤0   ├┤0   ├┤0   ├┤ Rz(0.001*h_0) ├»\n",
       "«     ├───────────────┤├───────────────┤│    ││    ││    │├───────────────┤»\n",
       "«q_1: ┤ Rz(0.001*h_1) ├┤ Rz(0.001*h_1) ├┤1   ├┤1   ├┤1   ├┤ Rz(0.001*h_1) ├»\n",
       "«     ├───────────────┤├───────────────┤│    ││    ││    │├───────────────┤»\n",
       "«q_2: ┤ Rz(0.001*h_2) ├┤ Rz(0.001*h_2) ├┤2   ├┤2   ├┤2   ├┤ Rz(0.001*h_2) ├»\n",
       "«     ├───────────────┤├───────────────┤│  B ││  C ││  B │├───────────────┤»\n",
       "«q_3: ┤ Rz(0.001*h_3) ├┤ Rz(0.001*h_3) ├┤3   ├┤3   ├┤3   ├┤ Rz(0.001*h_3) ├»\n",
       "«     ├───────────────┤├───────────────┤│    ││    ││    │├───────────────┤»\n",
       "«q_4: ┤ Rz(0.001*h_4) ├┤ Rz(0.001*h_4) ├┤4   ├┤4   ├┤4   ├┤ Rz(0.001*h_4) ├»\n",
       "«     ├───────────────┤├───────────────┤│    ││    ││    │├───────────────┤»\n",
       "«q_5: ┤ Rz(0.001*h_5) ├┤ Rz(0.001*h_5) ├┤5   ├┤5   ├┤5   ├┤ Rz(0.001*h_5) ├»\n",
       "«     └───────────────┘└───────────────┘└────┘└────┘└────┘└───────────────┘»\n",
       "«c: 4/═════════════════════════════════════════════════════════════════════»\n",
       "«                                                                          »\n",
       "«     ┌───────────────┐┌────┐┌────┐┌────┐┌───────────────┐┌───────────────┐»\n",
       "«q_0: ┤ Rz(0.001*h_0) ├┤0   ├┤0   ├┤0   ├┤ Rz(0.001*h_0) ├┤ Rz(0.001*h_0) ├»\n",
       "«     ├───────────────┤│    ││    ││    │├───────────────┤├───────────────┤»\n",
       "«q_1: ┤ Rz(0.001*h_1) ├┤1   ├┤1   ├┤1   ├┤ Rz(0.001*h_1) ├┤ Rz(0.001*h_1) ├»\n",
       "«     ├───────────────┤│    ││    ││    │├───────────────┤├───────────────┤»\n",
       "«q_2: ┤ Rz(0.001*h_2) ├┤2   ├┤2   ├┤2   ├┤ Rz(0.001*h_2) ├┤ Rz(0.001*h_2) ├»\n",
       "«     ├───────────────┤│  B ││  C ││  B │├───────────────┤├───────────────┤»\n",
       "«q_3: ┤ Rz(0.001*h_3) ├┤3   ├┤3   ├┤3   ├┤ Rz(0.001*h_3) ├┤ Rz(0.001*h_3) ├»\n",
       "«     ├───────────────┤│    ││    ││    │├───────────────┤├───────────────┤»\n",
       "«q_4: ┤ Rz(0.001*h_4) ├┤4   ├┤4   ├┤4   ├┤ Rz(0.001*h_4) ├┤ Rz(0.001*h_4) ├»\n",
       "«     ├───────────────┤│    ││    ││    │├───────────────┤├───────────────┤»\n",
       "«q_5: ┤ Rz(0.001*h_5) ├┤5   ├┤5   ├┤5   ├┤ Rz(0.001*h_5) ├┤ Rz(0.001*h_5) ├»\n",
       "«     └───────────────┘└────┘└────┘└────┘└───────────────┘└───────────────┘»\n",
       "«c: 4/═════════════════════════════════════════════════════════════════════»\n",
       "«                                                                          »\n",
       "«     ┌────┐┌────┐┌────┐┌───────────────┐\n",
       "«q_0: ┤0   ├┤0   ├┤0   ├┤ Rz(0.001*h_0) ├\n",
       "«     │    ││    ││    │├───────────────┤\n",
       "«q_1: ┤1   ├┤1   ├┤1   ├┤ Rz(0.001*h_1) ├\n",
       "«     │    ││    ││    │├───────────────┤\n",
       "«q_2: ┤2   ├┤2   ├┤2   ├┤ Rz(0.001*h_2) ├\n",
       "«     │  B ││  C ││  B │├───────────────┤\n",
       "«q_3: ┤3   ├┤3   ├┤3   ├┤ Rz(0.001*h_3) ├\n",
       "«     │    ││    ││    │├───────────────┤\n",
       "«q_4: ┤4   ├┤4   ├┤4   ├┤ Rz(0.001*h_4) ├\n",
       "«     │    ││    ││    │├───────────────┤\n",
       "«q_5: ┤5   ├┤5   ├┤5   ├┤ Rz(0.001*h_5) ├\n",
       "«     └────┘└────┘└────┘└───────────────┘\n",
       "«c: 4/═══════════════════════════════════\n",
       "«                                        "
      ]
     },
     "execution_count": 5,
     "metadata": {},
     "output_type": "execute_result"
    }
   ],
   "source": [
    "#======================================Start of Configurations=================================\n",
    "n_qubits = 6 # We use 6 qubits, two hidden\n",
    "n_h_qubits = 2\n",
    "n_show_qubits = n_qubits-n_h_qubits\n",
    "x_basis_m_n = torch.FloatTensor(Utils.binary_basis((n_show_qubits,))) \n",
    "sigma_list = [0.1,0.25,4,10]\n",
    "K = Utils.mix_rbf_kernel(x_basis_m_n, x_basis_m_n, sigma_list)\n",
    "connections = [(0, 1), (1, 2), (2, 3), (3, 4), (4, 5), (5,0)]\n",
    "print('connection scheme', connections)\n",
    " \n",
    "simulator = qiskit.Aer.get_backend('statevector_simulator')\n",
    "\n",
    "# t_m is the duration of each quench temperature, one delta_t time corresponds to one\n",
    "# There is no quenche layers set up when you first call the circuit initialization:\n",
    "circuit0 = qkc.MBL_Circuit_quench(delta_t=0.001, t_m=0.01, Jxy=1.0, Jzz=1.0, \n",
    "                                  n_qubits=n_qubits, n_h_qubits=n_h_qubits, \n",
    "                                  connections=connections, backend=simulator)\n",
    "circuit0._circuit.draw()"
   ]
  },
  {
   "cell_type": "code",
   "execution_count": 6,
   "metadata": {},
   "outputs": [
    {
     "data": {
      "text/plain": [
       "Text(0.5, 1.0, 'target distribution')"
      ]
     },
     "execution_count": 6,
     "metadata": {},
     "output_type": "execute_result"
    },
    {
     "data": {
      "image/png": "[encoded data removed]",
      "text/plain": [
       "<Figure size 432x288 with 1 Axes>"
      ]
     },
     "metadata": {
      "needs_background": "light"
     },
     "output_type": "display_data"
    }
   ],
   "source": [
    "#======================================Create p_data==========================================\n",
    "hdim = 2**n_show_qubits\n",
    "p_data = torch.FloatTensor(Utils.gaussian_pdf((n_show_qubits,), hdim/2., hdim/4.))\n",
    "plt.plot(p_data, '*')\n",
    "plt.title('target distribution')\n"
   ]
  },
  {
   "cell_type": "code",
   "execution_count": 7,
   "metadata": {},
   "outputs": [
    {
     "data": {
      "text/plain": [
       "'111000'"
      ]
     },
     "execution_count": 7,
     "metadata": {},
     "output_type": "execute_result"
    }
   ],
   "source": [
    "'1'*int(n_qubits/2)+'0'*int(n_qubits/2)"
   ]
  },
  {
   "cell_type": "markdown",
   "metadata": {},
   "source": [
    "Fast: training loop with saved statevector at each quench"
   ]
  },
  {
   "cell_type": "code",
   "execution_count": 8,
   "metadata": {},
   "outputs": [
    {
     "name": "stdout",
     "output_type": "stream",
     "text": [
      "wallstate Statevector([0.+0.j, 0.+0.j, 0.+0.j, 0.+0.j, 0.+0.j, 0.+0.j, 0.+0.j,\n",
      "             0.+0.j, 0.+0.j, 0.+0.j, 0.+0.j, 0.+0.j, 0.+0.j, 0.+0.j,\n",
      "             0.+0.j, 0.+0.j, 0.+0.j, 0.+0.j, 0.+0.j, 0.+0.j, 0.+0.j,\n",
      "             0.+0.j, 0.+0.j, 0.+0.j, 0.+0.j, 0.+0.j, 0.+0.j, 0.+0.j,\n",
      "             0.+0.j, 0.+0.j, 0.+0.j, 0.+0.j, 0.+0.j, 0.+0.j, 0.+0.j,\n",
      "             0.+0.j, 0.+0.j, 0.+0.j, 0.+0.j, 0.+0.j, 0.+0.j, 0.+0.j,\n",
      "             0.+0.j, 0.+0.j, 0.+0.j, 0.+0.j, 0.+0.j, 0.+0.j, 0.+0.j,\n",
      "             0.+0.j, 0.+0.j, 0.+0.j, 0.+0.j, 0.+0.j, 0.+0.j, 0.+0.j,\n",
      "             1.+0.j, 0.+0.j, 0.+0.j, 0.+0.j, 0.+0.j, 0.+0.j, 0.+0.j,\n",
      "             0.+0.j],\n",
      "            dims=(2, 2, 2, 2, 2, 2))\n"
     ]
    }
   ],
   "source": [
    "M = 100 # Total number of quenches\n",
    "n_branches = 500 # number of search branches at each quench\n",
    "hd = 20 # Range of the randomly selected localization conef [-hd, +hd]\n",
    "training_losses = [] # To record the best mmd out of all candidate points at each quench m\n",
    "\n",
    "# Prepare the initial domain wall state via statevec\n",
    "state = qiskit.quantum_info.Statevector.from_label('1'*int(n_qubits/2)+'0'*int(n_qubits/2))\n",
    "print('wallstate', state)"
   ]
  },
  {
   "cell_type": "code",
   "execution_count": 9,
   "metadata": {},
   "outputs": [
    {
     "data": {
      "text/plain": [
       "(Instruction(name='initialize', num_qubits=6, num_clbits=0, params=[(1+0j), 0j, 0j, 0j, 0j, 0j, 0j, 0j, 0j, 0j, 0j, 0j, 0j, 0j, 0j, 0j, 0j, 0j, 0j, 0j, 0j, 0j, 0j, 0j, 0j, 0j, 0j, 0j, 0j, 0j, 0j, 0j, 0j, 0j, 0j, 0j, 0j, 0j, 0j, 0j, 0j, 0j, 0j, 0j, 0j, 0j, 0j, 0j, 0j, 0j, 0j, 0j, 0j, 0j, 0j, 0j, 0j, 0j, 0j, 0j, 0j, 0j, 0j, 0j]),\n",
       " [Qubit(QuantumRegister(6, 'q'), 0),\n",
       "  Qubit(QuantumRegister(6, 'q'), 1),\n",
       "  Qubit(QuantumRegister(6, 'q'), 2),\n",
       "  Qubit(QuantumRegister(6, 'q'), 3),\n",
       "  Qubit(QuantumRegister(6, 'q'), 4),\n",
       "  Qubit(QuantumRegister(6, 'q'), 5)],\n",
       " [])"
      ]
     },
     "execution_count": 9,
     "metadata": {},
     "output_type": "execute_result"
    }
   ],
   "source": [
    "circuit0._circuit.data[0]"
   ]
  },
  {
   "cell_type": "code",
   "execution_count": 10,
   "metadata": {},
   "outputs": [
    {
     "name": "stderr",
     "output_type": "stream",
     "text": [
      "/Users/pengyuanzhai/Documents/MBL_Born/Qiskit_Circuits.py:248: UserWarning: The given NumPy array is not writeable, and PyTorch does not support non-writeable tensors. This means you can write to the underlying (supposedly non-writeable) NumPy array using the tensor. You may want to copy the array to protect its data or make it writeable before converting it to a tensor. This type of warning will be suppressed for the rest of this program. (Triggered internally at  /tmp/pip-req-build-7w1l4mea/torch/csrc/utils/tensor_numpy.cpp:141.)\n",
      "  return torch.FloatTensor(probabilities), full_statevec\n",
      "/Users/pengyuanzhai/Documents/MBL_Born/Qiskit_Circuits.py:248: UserWarning: Casting complex values to real discards the imaginary part (Triggered internally at  /tmp/pip-req-build-7w1l4mea/aten/src/ATen/native/Copy.cpp:162.)\n",
      "  return torch.FloatTensor(probabilities), full_statevec\n"
     ]
    },
    {
     "name": "stdout",
     "output_type": "stream",
     "text": [
      "best mmd tensor(1.9520)\n",
      "time 23.222934007644653\n",
      "best mmd tensor(1.9519)\n",
      "time 23.329622983932495\n",
      "best mmd tensor(1.9516)\n",
      "time 22.25683903694153\n",
      "best mmd tensor(1.9513)\n",
      "time 22.80996823310852\n"
     ]
    },
    {
     "ename": "KeyboardInterrupt",
     "evalue": "",
     "output_type": "error",
     "traceback": [
      "\u001b[0;31m---------------------------------------------------------------------------\u001b[0m",
      "\u001b[0;31mKeyboardInterrupt\u001b[0m                         Traceback (most recent call last)",
      "\u001b[0;32m<ipython-input-10-eb4ac91c90a2>\u001b[0m in \u001b[0;36m<module>\u001b[0;34m\u001b[0m\n\u001b[1;32m     13\u001b[0m         \u001b[0mtheta_list_m\u001b[0m \u001b[0;34m=\u001b[0m \u001b[0;34m(\u001b[0m\u001b[0mtorch\u001b[0m\u001b[0;34m.\u001b[0m\u001b[0mrand\u001b[0m\u001b[0;34m(\u001b[0m \u001b[0mcircuit0\u001b[0m\u001b[0;34m.\u001b[0m\u001b[0mn_qubits\u001b[0m \u001b[0;34m)\u001b[0m\u001b[0;34m*\u001b[0m\u001b[0;36m2\u001b[0m\u001b[0;34m-\u001b[0m\u001b[0;36m1\u001b[0m\u001b[0;34m)\u001b[0m\u001b[0;34m*\u001b[0m\u001b[0mhd\u001b[0m\u001b[0;34m\u001b[0m\u001b[0;34m\u001b[0m\u001b[0m\n\u001b[1;32m     14\u001b[0m         \u001b[0;31m# use these parameters\u001b[0m\u001b[0;34m\u001b[0m\u001b[0;34m\u001b[0m\u001b[0;34m\u001b[0m\u001b[0m\n\u001b[0;32m---> 15\u001b[0;31m         \u001b[0mpx\u001b[0m\u001b[0;34m,\u001b[0m \u001b[0m_\u001b[0m \u001b[0;34m=\u001b[0m \u001b[0mcircuit0\u001b[0m\u001b[0;34m.\u001b[0m\u001b[0mpdf_actual\u001b[0m\u001b[0;34m(\u001b[0m\u001b[0mtheta_list_m\u001b[0m\u001b[0;34m)\u001b[0m\u001b[0;34m\u001b[0m\u001b[0;34m\u001b[0m\u001b[0m\n\u001b[0m\u001b[1;32m     16\u001b[0m         \u001b[0mmmd_distance\u001b[0m \u001b[0;34m=\u001b[0m \u001b[0mpx\u001b[0m\u001b[0;34m@\u001b[0m\u001b[0mK\u001b[0m\u001b[0;34m@\u001b[0m\u001b[0;34m(\u001b[0m\u001b[0mp_data\u001b[0m\u001b[0;34m.\u001b[0m\u001b[0mT\u001b[0m\u001b[0;34m)\u001b[0m\u001b[0;34m\u001b[0m\u001b[0;34m\u001b[0m\u001b[0m\n\u001b[1;32m     17\u001b[0m         \u001b[0mmmds\u001b[0m\u001b[0;34m.\u001b[0m\u001b[0mappend\u001b[0m\u001b[0;34m(\u001b[0m\u001b[0mmmd_distance\u001b[0m\u001b[0;34m)\u001b[0m\u001b[0;34m\u001b[0m\u001b[0;34m\u001b[0m\u001b[0m\n",
      "\u001b[0;32m~/Documents/MBL_Born/Qiskit_Circuits.py\u001b[0m in \u001b[0;36mpdf_actual\u001b[0;34m(self, theta_list)\u001b[0m\n\u001b[1;32m    235\u001b[0m     \u001b[0;32mdef\u001b[0m \u001b[0mpdf_actual\u001b[0m\u001b[0;34m(\u001b[0m\u001b[0mself\u001b[0m\u001b[0;34m,\u001b[0m \u001b[0mtheta_list\u001b[0m\u001b[0;34m)\u001b[0m\u001b[0;34m:\u001b[0m\u001b[0;34m\u001b[0m\u001b[0;34m\u001b[0m\u001b[0m\n\u001b[1;32m    236\u001b[0m         \u001b[0mtheta_vals\u001b[0m \u001b[0;34m=\u001b[0m \u001b[0mtheta_list\u001b[0m\u001b[0;34m.\u001b[0m\u001b[0mdetach\u001b[0m\u001b[0;34m(\u001b[0m\u001b[0;34m)\u001b[0m\u001b[0;34m.\u001b[0m\u001b[0mnumpy\u001b[0m\u001b[0;34m(\u001b[0m\u001b[0;34m)\u001b[0m\u001b[0;34m\u001b[0m\u001b[0;34m\u001b[0m\u001b[0m\n\u001b[0;32m--> 237\u001b[0;31m         \u001b[0mqobj\u001b[0m \u001b[0;34m=\u001b[0m \u001b[0massemble\u001b[0m\u001b[0;34m(\u001b[0m\u001b[0mself\u001b[0m\u001b[0;34m.\u001b[0m\u001b[0mt_qc\u001b[0m\u001b[0;34m,\u001b[0m \u001b[0mparameter_binds\u001b[0m\u001b[0;34m=\u001b[0m\u001b[0;34m[\u001b[0m\u001b[0mself\u001b[0m\u001b[0;34m.\u001b[0m\u001b[0mbind_dict\u001b[0m\u001b[0;34m(\u001b[0m\u001b[0mtheta_vals\u001b[0m\u001b[0;34m)\u001b[0m\u001b[0;34m]\u001b[0m\u001b[0;34m)\u001b[0m\u001b[0;34m\u001b[0m\u001b[0;34m\u001b[0m\u001b[0m\n\u001b[0m\u001b[1;32m    238\u001b[0m         \u001b[0mjob\u001b[0m \u001b[0;34m=\u001b[0m \u001b[0mself\u001b[0m\u001b[0;34m.\u001b[0m\u001b[0mbackend\u001b[0m\u001b[0;34m.\u001b[0m\u001b[0mrun\u001b[0m\u001b[0;34m(\u001b[0m\u001b[0mqobj\u001b[0m\u001b[0;34m)\u001b[0m\u001b[0;34m\u001b[0m\u001b[0;34m\u001b[0m\u001b[0m\n\u001b[1;32m    239\u001b[0m         \u001b[0;31m#print('job result', job.result())\u001b[0m\u001b[0;34m\u001b[0m\u001b[0;34m\u001b[0m\u001b[0;34m\u001b[0m\u001b[0m\n",
      "\u001b[0;32m/opt/anaconda3/lib/python3.8/site-packages/qiskit/compiler/assembler.py\u001b[0m in \u001b[0;36massemble\u001b[0;34m(experiments, backend, qobj_id, qobj_header, shots, memory, max_credits, seed_simulator, qubit_lo_freq, meas_lo_freq, qubit_lo_range, meas_lo_range, schedule_los, meas_level, meas_return, meas_map, memory_slot_size, rep_time, rep_delay, parameter_binds, parametric_pulses, init_qubits, **run_config)\u001b[0m\n\u001b[1;32m    190\u001b[0m \u001b[0;34m\u001b[0m\u001b[0m\n\u001b[1;32m    191\u001b[0m         \u001b[0;31m# If circuits are parameterized, bind parameters and remove from run_config\u001b[0m\u001b[0;34m\u001b[0m\u001b[0;34m\u001b[0m\u001b[0;34m\u001b[0m\u001b[0m\n\u001b[0;32m--> 192\u001b[0;31m         bound_experiments, run_config = _expand_parameters(\n\u001b[0m\u001b[1;32m    193\u001b[0m             \u001b[0mcircuits\u001b[0m\u001b[0;34m=\u001b[0m\u001b[0mexperiments\u001b[0m\u001b[0;34m,\u001b[0m \u001b[0mrun_config\u001b[0m\u001b[0;34m=\u001b[0m\u001b[0mrun_config\u001b[0m\u001b[0;34m\u001b[0m\u001b[0;34m\u001b[0m\u001b[0m\n\u001b[1;32m    194\u001b[0m         )\n",
      "\u001b[0;32m/opt/anaconda3/lib/python3.8/site-packages/qiskit/compiler/assembler.py\u001b[0m in \u001b[0;36m_expand_parameters\u001b[0;34m(circuits, run_config)\u001b[0m\n\u001b[1;32m    589\u001b[0m             )\n\u001b[1;32m    590\u001b[0m \u001b[0;34m\u001b[0m\u001b[0m\n\u001b[0;32m--> 591\u001b[0;31m         circuits = [\n\u001b[0m\u001b[1;32m    592\u001b[0m             \u001b[0mcircuit\u001b[0m\u001b[0;34m.\u001b[0m\u001b[0mbind_parameters\u001b[0m\u001b[0;34m(\u001b[0m\u001b[0mbinds\u001b[0m\u001b[0;34m)\u001b[0m \u001b[0;32mfor\u001b[0m \u001b[0mcircuit\u001b[0m \u001b[0;32min\u001b[0m \u001b[0mcircuits\u001b[0m \u001b[0;32mfor\u001b[0m \u001b[0mbinds\u001b[0m \u001b[0;32min\u001b[0m \u001b[0mparameter_binds\u001b[0m\u001b[0;34m\u001b[0m\u001b[0;34m\u001b[0m\u001b[0m\n\u001b[1;32m    593\u001b[0m         ]\n",
      "\u001b[0;32m/opt/anaconda3/lib/python3.8/site-packages/qiskit/compiler/assembler.py\u001b[0m in \u001b[0;36m<listcomp>\u001b[0;34m(.0)\u001b[0m\n\u001b[1;32m    590\u001b[0m \u001b[0;34m\u001b[0m\u001b[0m\n\u001b[1;32m    591\u001b[0m         circuits = [\n\u001b[0;32m--> 592\u001b[0;31m             \u001b[0mcircuit\u001b[0m\u001b[0;34m.\u001b[0m\u001b[0mbind_parameters\u001b[0m\u001b[0;34m(\u001b[0m\u001b[0mbinds\u001b[0m\u001b[0;34m)\u001b[0m \u001b[0;32mfor\u001b[0m \u001b[0mcircuit\u001b[0m \u001b[0;32min\u001b[0m \u001b[0mcircuits\u001b[0m \u001b[0;32mfor\u001b[0m \u001b[0mbinds\u001b[0m \u001b[0;32min\u001b[0m \u001b[0mparameter_binds\u001b[0m\u001b[0;34m\u001b[0m\u001b[0;34m\u001b[0m\u001b[0m\n\u001b[0m\u001b[1;32m    593\u001b[0m         ]\n\u001b[1;32m    594\u001b[0m \u001b[0;34m\u001b[0m\u001b[0m\n",
      "\u001b[0;32m/opt/anaconda3/lib/python3.8/site-packages/qiskit/circuit/quantumcircuit.py\u001b[0m in \u001b[0;36mbind_parameters\u001b[0;34m(self, values)\u001b[0m\n\u001b[1;32m   2547\u001b[0m                     \u001b[0;34m\"Found ParameterExpression in values; use assign_parameters() instead.\"\u001b[0m\u001b[0;34m\u001b[0m\u001b[0;34m\u001b[0m\u001b[0m\n\u001b[1;32m   2548\u001b[0m                 )\n\u001b[0;32m-> 2549\u001b[0;31m             \u001b[0;32mreturn\u001b[0m \u001b[0mself\u001b[0m\u001b[0;34m.\u001b[0m\u001b[0massign_parameters\u001b[0m\u001b[0;34m(\u001b[0m\u001b[0mvalues\u001b[0m\u001b[0;34m)\u001b[0m\u001b[0;34m\u001b[0m\u001b[0;34m\u001b[0m\u001b[0m\n\u001b[0m\u001b[1;32m   2550\u001b[0m         \u001b[0;32melse\u001b[0m\u001b[0;34m:\u001b[0m\u001b[0;34m\u001b[0m\u001b[0;34m\u001b[0m\u001b[0m\n\u001b[1;32m   2551\u001b[0m             \u001b[0;32mif\u001b[0m \u001b[0many\u001b[0m\u001b[0;34m(\u001b[0m\u001b[0misinstance\u001b[0m\u001b[0;34m(\u001b[0m\u001b[0mvalue\u001b[0m\u001b[0;34m,\u001b[0m \u001b[0mParameterExpression\u001b[0m\u001b[0;34m)\u001b[0m \u001b[0;32mfor\u001b[0m \u001b[0mvalue\u001b[0m \u001b[0;32min\u001b[0m \u001b[0mvalues\u001b[0m\u001b[0;34m)\u001b[0m\u001b[0;34m:\u001b[0m\u001b[0;34m\u001b[0m\u001b[0;34m\u001b[0m\u001b[0m\n",
      "\u001b[0;32m/opt/anaconda3/lib/python3.8/site-packages/qiskit/circuit/quantumcircuit.py\u001b[0m in \u001b[0;36massign_parameters\u001b[0;34m(self, parameters, inplace)\u001b[0m\n\u001b[1;32m   2486\u001b[0m             \u001b[0mbound_circuit\u001b[0m \u001b[0;34m=\u001b[0m \u001b[0mself\u001b[0m\u001b[0;34m\u001b[0m\u001b[0;34m\u001b[0m\u001b[0m\n\u001b[1;32m   2487\u001b[0m         \u001b[0;32melse\u001b[0m\u001b[0;34m:\u001b[0m\u001b[0;34m\u001b[0m\u001b[0;34m\u001b[0m\u001b[0m\n\u001b[0;32m-> 2488\u001b[0;31m             \u001b[0mbound_circuit\u001b[0m \u001b[0;34m=\u001b[0m \u001b[0mself\u001b[0m\u001b[0;34m.\u001b[0m\u001b[0mcopy\u001b[0m\u001b[0;34m(\u001b[0m\u001b[0;34m)\u001b[0m\u001b[0;34m\u001b[0m\u001b[0;34m\u001b[0m\u001b[0m\n\u001b[0m\u001b[1;32m   2489\u001b[0m             \u001b[0mself\u001b[0m\u001b[0;34m.\u001b[0m\u001b[0m_increment_instances\u001b[0m\u001b[0;34m(\u001b[0m\u001b[0;34m)\u001b[0m\u001b[0;34m\u001b[0m\u001b[0;34m\u001b[0m\u001b[0m\n\u001b[1;32m   2490\u001b[0m             \u001b[0mbound_circuit\u001b[0m\u001b[0;34m.\u001b[0m\u001b[0m_name_update\u001b[0m\u001b[0;34m(\u001b[0m\u001b[0;34m)\u001b[0m\u001b[0;34m\u001b[0m\u001b[0;34m\u001b[0m\u001b[0m\n",
      "\u001b[0;32m/opt/anaconda3/lib/python3.8/site-packages/qiskit/circuit/quantumcircuit.py\u001b[0m in \u001b[0;36mcopy\u001b[0;34m(self, name)\u001b[0m\n\u001b[1;32m   2133\u001b[0m         \u001b[0minstr_instances\u001b[0m \u001b[0;34m=\u001b[0m \u001b[0;34m{\u001b[0m\u001b[0mid\u001b[0m\u001b[0;34m(\u001b[0m\u001b[0minstr\u001b[0m\u001b[0;34m)\u001b[0m\u001b[0;34m:\u001b[0m \u001b[0minstr\u001b[0m \u001b[0;32mfor\u001b[0m \u001b[0minstr\u001b[0m\u001b[0;34m,\u001b[0m \u001b[0m_\u001b[0m\u001b[0;34m,\u001b[0m \u001b[0m__\u001b[0m \u001b[0;32min\u001b[0m \u001b[0mself\u001b[0m\u001b[0;34m.\u001b[0m\u001b[0m_data\u001b[0m\u001b[0;34m}\u001b[0m\u001b[0;34m\u001b[0m\u001b[0;34m\u001b[0m\u001b[0m\n\u001b[1;32m   2134\u001b[0m \u001b[0;34m\u001b[0m\u001b[0m\n\u001b[0;32m-> 2135\u001b[0;31m         \u001b[0minstr_copies\u001b[0m \u001b[0;34m=\u001b[0m \u001b[0;34m{\u001b[0m\u001b[0mid_\u001b[0m\u001b[0;34m:\u001b[0m \u001b[0minstr\u001b[0m\u001b[0;34m.\u001b[0m\u001b[0mcopy\u001b[0m\u001b[0;34m(\u001b[0m\u001b[0;34m)\u001b[0m \u001b[0;32mfor\u001b[0m \u001b[0mid_\u001b[0m\u001b[0;34m,\u001b[0m \u001b[0minstr\u001b[0m \u001b[0;32min\u001b[0m \u001b[0minstr_instances\u001b[0m\u001b[0;34m.\u001b[0m\u001b[0mitems\u001b[0m\u001b[0;34m(\u001b[0m\u001b[0;34m)\u001b[0m\u001b[0;34m}\u001b[0m\u001b[0;34m\u001b[0m\u001b[0;34m\u001b[0m\u001b[0m\n\u001b[0m\u001b[1;32m   2136\u001b[0m \u001b[0;34m\u001b[0m\u001b[0m\n\u001b[1;32m   2137\u001b[0m         cpy._parameter_table = ParameterTable(\n",
      "\u001b[0;32m/opt/anaconda3/lib/python3.8/site-packages/qiskit/circuit/quantumcircuit.py\u001b[0m in \u001b[0;36m<dictcomp>\u001b[0;34m(.0)\u001b[0m\n\u001b[1;32m   2133\u001b[0m         \u001b[0minstr_instances\u001b[0m \u001b[0;34m=\u001b[0m \u001b[0;34m{\u001b[0m\u001b[0mid\u001b[0m\u001b[0;34m(\u001b[0m\u001b[0minstr\u001b[0m\u001b[0;34m)\u001b[0m\u001b[0;34m:\u001b[0m \u001b[0minstr\u001b[0m \u001b[0;32mfor\u001b[0m \u001b[0minstr\u001b[0m\u001b[0;34m,\u001b[0m \u001b[0m_\u001b[0m\u001b[0;34m,\u001b[0m \u001b[0m__\u001b[0m \u001b[0;32min\u001b[0m \u001b[0mself\u001b[0m\u001b[0;34m.\u001b[0m\u001b[0m_data\u001b[0m\u001b[0;34m}\u001b[0m\u001b[0;34m\u001b[0m\u001b[0;34m\u001b[0m\u001b[0m\n\u001b[1;32m   2134\u001b[0m \u001b[0;34m\u001b[0m\u001b[0m\n\u001b[0;32m-> 2135\u001b[0;31m         \u001b[0minstr_copies\u001b[0m \u001b[0;34m=\u001b[0m \u001b[0;34m{\u001b[0m\u001b[0mid_\u001b[0m\u001b[0;34m:\u001b[0m \u001b[0minstr\u001b[0m\u001b[0;34m.\u001b[0m\u001b[0mcopy\u001b[0m\u001b[0;34m(\u001b[0m\u001b[0;34m)\u001b[0m \u001b[0;32mfor\u001b[0m \u001b[0mid_\u001b[0m\u001b[0;34m,\u001b[0m \u001b[0minstr\u001b[0m \u001b[0;32min\u001b[0m \u001b[0minstr_instances\u001b[0m\u001b[0;34m.\u001b[0m\u001b[0mitems\u001b[0m\u001b[0;34m(\u001b[0m\u001b[0;34m)\u001b[0m\u001b[0;34m}\u001b[0m\u001b[0;34m\u001b[0m\u001b[0;34m\u001b[0m\u001b[0m\n\u001b[0m\u001b[1;32m   2136\u001b[0m \u001b[0;34m\u001b[0m\u001b[0m\n\u001b[1;32m   2137\u001b[0m         cpy._parameter_table = ParameterTable(\n",
      "\u001b[0;32m/opt/anaconda3/lib/python3.8/site-packages/qiskit/circuit/instruction.py\u001b[0m in \u001b[0;36mcopy\u001b[0;34m(self, name)\u001b[0m\n\u001b[1;32m    436\u001b[0m             \u001b[0mupdated\u001b[0m \u001b[0;32mif\u001b[0m \u001b[0mit\u001b[0m \u001b[0mwas\u001b[0m \u001b[0mprovided\u001b[0m\u001b[0;34m\u001b[0m\u001b[0;34m\u001b[0m\u001b[0m\n\u001b[1;32m    437\u001b[0m         \"\"\"\n\u001b[0;32m--> 438\u001b[0;31m         \u001b[0mcpy\u001b[0m \u001b[0;34m=\u001b[0m \u001b[0mself\u001b[0m\u001b[0;34m.\u001b[0m\u001b[0m__deepcopy__\u001b[0m\u001b[0;34m(\u001b[0m\u001b[0;34m)\u001b[0m\u001b[0;34m\u001b[0m\u001b[0;34m\u001b[0m\u001b[0m\n\u001b[0m\u001b[1;32m    439\u001b[0m \u001b[0;34m\u001b[0m\u001b[0m\n\u001b[1;32m    440\u001b[0m         \u001b[0;32mif\u001b[0m \u001b[0mname\u001b[0m\u001b[0;34m:\u001b[0m\u001b[0;34m\u001b[0m\u001b[0;34m\u001b[0m\u001b[0m\n",
      "\u001b[0;32m/opt/anaconda3/lib/python3.8/site-packages/qiskit/circuit/instruction.py\u001b[0m in \u001b[0;36m__deepcopy__\u001b[0;34m(self, _memo)\u001b[0m\n\u001b[1;32m    444\u001b[0m     \u001b[0;32mdef\u001b[0m \u001b[0m__deepcopy__\u001b[0m\u001b[0;34m(\u001b[0m\u001b[0mself\u001b[0m\u001b[0;34m,\u001b[0m \u001b[0m_memo\u001b[0m\u001b[0;34m=\u001b[0m\u001b[0;32mNone\u001b[0m\u001b[0;34m)\u001b[0m\u001b[0;34m:\u001b[0m\u001b[0;34m\u001b[0m\u001b[0;34m\u001b[0m\u001b[0m\n\u001b[1;32m    445\u001b[0m         \u001b[0mcpy\u001b[0m \u001b[0;34m=\u001b[0m \u001b[0mcopy\u001b[0m\u001b[0;34m.\u001b[0m\u001b[0mcopy\u001b[0m\u001b[0;34m(\u001b[0m\u001b[0mself\u001b[0m\u001b[0;34m)\u001b[0m\u001b[0;34m\u001b[0m\u001b[0;34m\u001b[0m\u001b[0m\n\u001b[0;32m--> 446\u001b[0;31m         \u001b[0mcpy\u001b[0m\u001b[0;34m.\u001b[0m\u001b[0m_params\u001b[0m \u001b[0;34m=\u001b[0m \u001b[0mcopy\u001b[0m\u001b[0;34m.\u001b[0m\u001b[0mcopy\u001b[0m\u001b[0;34m(\u001b[0m\u001b[0mself\u001b[0m\u001b[0;34m.\u001b[0m\u001b[0m_params\u001b[0m\u001b[0;34m)\u001b[0m\u001b[0;34m\u001b[0m\u001b[0;34m\u001b[0m\u001b[0m\n\u001b[0m\u001b[1;32m    447\u001b[0m         \u001b[0;32mif\u001b[0m \u001b[0mself\u001b[0m\u001b[0;34m.\u001b[0m\u001b[0m_definition\u001b[0m\u001b[0;34m:\u001b[0m\u001b[0;34m\u001b[0m\u001b[0;34m\u001b[0m\u001b[0m\n\u001b[1;32m    448\u001b[0m             \u001b[0mcpy\u001b[0m\u001b[0;34m.\u001b[0m\u001b[0m_definition\u001b[0m \u001b[0;34m=\u001b[0m \u001b[0mcopy\u001b[0m\u001b[0;34m.\u001b[0m\u001b[0mdeepcopy\u001b[0m\u001b[0;34m(\u001b[0m\u001b[0mself\u001b[0m\u001b[0;34m.\u001b[0m\u001b[0m_definition\u001b[0m\u001b[0;34m,\u001b[0m \u001b[0m_memo\u001b[0m\u001b[0;34m)\u001b[0m\u001b[0;34m\u001b[0m\u001b[0;34m\u001b[0m\u001b[0m\n",
      "\u001b[0;31mKeyboardInterrupt\u001b[0m: "
     ]
    }
   ],
   "source": [
    "states = []\n",
    "probs = []\n",
    "for m in range(M):\n",
    "    t0 = time.time()\n",
    "    # load the state from previous quench\n",
    "    circuit0.load_arbitrary_state(state)\n",
    "    \n",
    "    # First randomly select candidate configurations of hz for quench m:\n",
    "    mmds = []\n",
    "    theta_list_array = []\n",
    "    for b in range(n_branches):\n",
    "        # Only randomly earch prameterse for this specific quench\n",
    "        theta_list_m = (torch.rand( circuit0.n_qubits )*2-1)*hd\n",
    "        # use these parameters \n",
    "        px, _ = circuit0.pdf_actual(theta_list_m)\n",
    "        mmd_distance = px@K@(p_data.T)\n",
    "        mmds.append(mmd_distance)\n",
    "        theta_list_array.append(theta_list_m) # keep a record of this for debugging\n",
    "    \n",
    "    ind = np.argmin(mmds)\n",
    "    print('best mmd', mmds[ind])\n",
    "    training_losses.append(mmds[ind])\n",
    "    # Recalculate the best evolved state for the next quench\n",
    "    px, state = circuit0.pdf_actual(theta_list_array[ind]) # returns a StateVector object\n",
    "    states.append(state)\n",
    "    probs.append(px)\n",
    "    t1 = time.time()\n",
    "    print('time', t1-t0)"
   ]
  },
  {
   "cell_type": "code",
   "execution_count": null,
   "metadata": {},
   "outputs": [],
   "source": [
    "plt.plot(probs[0])"
   ]
  },
  {
   "cell_type": "code",
   "execution_count": null,
   "metadata": {},
   "outputs": [],
   "source": [
    "plt.plot(probs[1])"
   ]
  },
  {
   "cell_type": "code",
   "execution_count": null,
   "metadata": {},
   "outputs": [],
   "source": [
    "plt.plot(probs[2])"
   ]
  },
  {
   "cell_type": "code",
   "execution_count": null,
   "metadata": {},
   "outputs": [],
   "source": [
    "plt.plot(states[0].data)"
   ]
  },
  {
   "cell_type": "code",
   "execution_count": null,
   "metadata": {},
   "outputs": [],
   "source": [
    "plt.plot(states[1].data)"
   ]
  },
  {
   "cell_type": "code",
   "execution_count": null,
   "metadata": {},
   "outputs": [],
   "source": [
    "plt.plot(states[2].data)"
   ]
  },
  {
   "cell_type": "code",
   "execution_count": null,
   "metadata": {},
   "outputs": [],
   "source": [
    "plt.plot(states[5].data)"
   ]
  },
  {
   "cell_type": "code",
   "execution_count": null,
   "metadata": {},
   "outputs": [],
   "source": [
    "circuit0.thetas"
   ]
  },
  {
   "cell_type": "code",
   "execution_count": null,
   "metadata": {},
   "outputs": [],
   "source": [
    "phi = qiskit.circuit.Parameter('phi')\n",
    "phi2 = qiskit.circuit.Parameter('phi')\n",
    "qc = qiskit.QuantumCircuit(1)\n",
    "print('qc first praemeter', qc._parameter_table)\n",
    "# parameterize the rotation\n",
    "qc.rx(phi, 0)\n",
    "print(qc.data)\n",
    "qc.draw()\n",
    "\n",
    "# bind the parameters after circuit to create a bound circuit\n",
    "bc = qc.bind_parameters({phi: 3.14})\n",
    "bc.measure_all()\n",
    "bc.draw()\n",
    "qc.rx(phi,0)\n",
    "qc.rx(phi,0)\n",
    "\n"
   ]
  },
  {
   "cell_type": "code",
   "execution_count": null,
   "metadata": {},
   "outputs": [],
   "source": [
    "A = []\n",
    "theta = qiskit.circuit.Parameter('t')\n",
    "A.append(theta)"
   ]
  },
  {
   "cell_type": "code",
   "execution_count": null,
   "metadata": {},
   "outputs": [],
   "source": [
    "theta in A"
   ]
  },
  {
   "cell_type": "code",
   "execution_count": null,
   "metadata": {},
   "outputs": [],
   "source": [
    "theta1 = qiskit.circuit.Parameter('t')\n",
    "theta1 in A"
   ]
  },
  {
   "cell_type": "code",
   "execution_count": null,
   "metadata": {},
   "outputs": [],
   "source": [
    "theta2 = copy.deepcopy(theta)\n",
    "theta2 in A"
   ]
  },
  {
   "cell_type": "code",
   "execution_count": null,
   "metadata": {},
   "outputs": [],
   "source": [
    "id(theta2)"
   ]
  },
  {
   "cell_type": "code",
   "execution_count": null,
   "metadata": {},
   "outputs": [],
   "source": [
    "id(theta)"
   ]
  },
  {
   "cell_type": "code",
   "execution_count": null,
   "metadata": {},
   "outputs": [],
   "source": [
    "id(theta1)"
   ]
  },
  {
   "cell_type": "code",
   "execution_count": null,
   "metadata": {},
   "outputs": [],
   "source": [
    "theta2.name='new-t'"
   ]
  },
  {
   "cell_type": "code",
   "execution_count": null,
   "metadata": {},
   "outputs": [],
   "source": [
    "qc._parameter_table\n",
    "\n",
    "phi5 = copy.deepcopy(phi4)"
   ]
  },
  {
   "cell_type": "code",
   "execution_count": null,
   "metadata": {},
   "outputs": [],
   "source": [
    "phi5 in qc._parameter_table"
   ]
  },
  {
   "cell_type": "code",
   "execution_count": null,
   "metadata": {},
   "outputs": [],
   "source": [
    "phi3=phi# pass by reference\n",
    "import copy\n",
    "phi4=copy.deepcopy(phi)\n",
    "qc.rx(phi4,0)# meaning that qiskist doesn't detect parameter duplicatres via address"
   ]
  },
  {
   "cell_type": "code",
   "execution_count": null,
   "metadata": {},
   "outputs": [],
   "source": [
    "psi0=qiskit.circuit.Parameter('psi0')\n",
    "qc._update_parameter_table(qc.data[0][0])"
   ]
  },
  {
   "cell_type": "code",
   "execution_count": null,
   "metadata": {},
   "outputs": [],
   "source": [
    "qc.rx(phi2,0)"
   ]
  },
  {
   "cell_type": "code",
   "execution_count": null,
   "metadata": {},
   "outputs": [],
   "source": [
    "qc.data"
   ]
  },
  {
   "cell_type": "code",
   "execution_count": null,
   "metadata": {},
   "outputs": [],
   "source": [
    "phi4==phi"
   ]
  },
  {
   "cell_type": "code",
   "execution_count": null,
   "metadata": {},
   "outputs": [],
   "source": [
    "phi.parameters"
   ]
  },
  {
   "cell_type": "code",
   "execution_count": null,
   "metadata": {},
   "outputs": [],
   "source": [
    "qc.rx(phi2,0)"
   ]
  },
  {
   "cell_type": "code",
   "execution_count": null,
   "metadata": {},
   "outputs": [],
   "source": [
    "qc._parameter_table.clear()"
   ]
  },
  {
   "cell_type": "code",
   "execution_count": null,
   "metadata": {},
   "outputs": [],
   "source": [
    "qc.rx(phi2,0)"
   ]
  },
  {
   "cell_type": "code",
   "execution_count": null,
   "metadata": {},
   "outputs": [],
   "source": [
    "circuit0._circuit.data"
   ]
  },
  {
   "cell_type": "code",
   "execution_count": null,
   "metadata": {},
   "outputs": [],
   "source": [
    "circuit0._circuit.draw()"
   ]
  },
  {
   "cell_type": "code",
   "execution_count": null,
   "metadata": {},
   "outputs": [],
   "source": [
    "torch.cat([torch.Tensor(), torch.zeros((3))])"
   ]
  },
  {
   "cell_type": "code",
   "execution_count": null,
   "metadata": {},
   "outputs": [],
   "source": []
  },
  {
   "cell_type": "code",
   "execution_count": null,
   "metadata": {},
   "outputs": [],
   "source": [
    "torch.ones(3)@torch.ones((3,3))@torch.ones(3)"
   ]
  },
  {
   "cell_type": "code",
   "execution_count": null,
   "metadata": {},
   "outputs": [],
   "source": [
    "(torch.rand( (circuit0.current_m+1)*circuit0.n_qubits )*2-1)*1.8"
   ]
  },
  {
   "cell_type": "code",
   "execution_count": null,
   "metadata": {},
   "outputs": [],
   "source": []
  }
 ],
 "metadata": {
  "kernelspec": {
   "display_name": "Python 3",
   "language": "python",
   "name": "python3"
  },
  "language_info": {
   "codemirror_mode": {
    "name": "ipython",
    "version": 3
   },
   "file_extension": ".py",
   "mimetype": "text/x-python",
   "name": "python",
   "nbconvert_exporter": "python",
   "pygments_lexer": "ipython3",
   "version": "3.8.5"
  }
 },
 "nbformat": 4,
 "nbformat_minor": 4
}
