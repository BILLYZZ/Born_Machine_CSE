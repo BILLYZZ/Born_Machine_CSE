{
 "cells": [
  {
   "cell_type": "code",
   "execution_count": 1,
   "metadata": {},
   "outputs": [],
   "source": [
    "# This file uses the inhouse qcbm code from the paper and compares MMD with MCR\n",
    "import numpy as np\n",
    "import matplotlib.pyplot as plt\n",
    "import copy\n",
    "import q_circuit as q # In house circuit code, to comare with Qiskit\n",
    "import torch\n",
    "import time\n",
    "import os\n",
    "os.environ['KMP_DUPLICATE_LIB_OK']='True'\n",
    "# Oh Hail the almighty Qiskit:\n",
    "import qiskit\n",
    "from qiskit import transpile, assemble\n",
    "from qiskit.visualization import *\n",
    "from qiskit import IBMQ\n",
    "from qiskit.providers.jobstatus import JobStatus\n",
    "\n",
    "# Import custom packages: These are written by me\n",
    "import InHouse_Circuits as ihc\n",
    "import Qiskit_Circuits as qkc\n",
    "import Q_Generator as QG\n",
    "import Q_Loss_and_Gradients as Q_gradients\n",
    "import Utils\n",
    "import Discriminator_Utils as D_utils # A file that contains different discriminator architectures\n",
    "import time\n",
    "\n"
   ]
  },
  {
   "cell_type": "code",
   "execution_count": 2,
   "metadata": {},
   "outputs": [],
   "source": [
    "from quspin.operators import hamiltonian,exp_op # Hamiltonians and operators\n",
    "from quspin.basis import spin_basis_1d # Hilbert space spin basis\n",
    "from quspin.tools.misc import KL_div\n",
    "from scipy import integrate,optimize,special,stats,interpolate\n",
    "import tensorflow as tf\n",
    "import cv2"
   ]
  },
  {
   "cell_type": "markdown",
   "metadata": {},
   "source": [
    "Debug against quspin exact diagonalization"
   ]
  },
  {
   "cell_type": "code",
   "execution_count": 3,
   "metadata": {},
   "outputs": [],
   "source": [
    "# From Weishun's code\n",
    "# disorder_m is a random array of lengh=n_qubit\n",
    "def realization(H_XXZ,basis,disorder_m,h_disorder):\n",
    "    #np.random.seed() # the random number needs to be seeded for each parallel process\n",
    "\n",
    "\t# compute disordered Hamiltonian\n",
    "    unscaled_fields=-1+2*disorder_m\n",
    "    h_z=[[unscaled_fields[i],i] for i in range(basis.L)]\n",
    "    disorder_field = [[\"z\",h_z]]    \n",
    "    no_checks={\"check_herm\":False,\"check_pcon\":False,\"check_symm\":False}\n",
    "    Hz=hamiltonian(disorder_field,[],basis=basis,dtype=np.float64,**no_checks)\n",
    "    H_total=H_XXZ+h_disorder*Hz\n",
    "\n",
    "    return H_total\n",
    "\n",
    "def reduced_prob(psi_m):\n",
    "    rho_v = basis.partial_trace(psi_m,sub_sys_A=tuple(range(L_visible)))\n",
    "    probs = (np.diag(rho_v)/np.sum(np.diag(rho_v))).real\n",
    "    return probs.astype('float')"
   ]
  },
  {
   "cell_type": "code",
   "execution_count": 4,
   "metadata": {},
   "outputs": [
    {
     "name": "stdout",
     "output_type": "stream",
     "text": [
      "Hermiticity check passed!\n"
     ]
    },
    {
     "name": "stderr",
     "output_type": "stream",
     "text": [
      "<ipython-input-4-51f5784e5b68>:36: UserWarning: Test for symmetries not implemented for <class 'quspin.basis.basis_1d.spin.spin_basis_1d'>, to turn off this warning set check_symm=False in hamiltonian\n",
      "  H_XXZ = hamiltonian(static,dynamic,basis=basis,dtype=np.float64)\n"
     ]
    }
   ],
   "source": [
    "#define simulation parameters\n",
    "n_real=500 # number of disorder realisations to search over in each quench\n",
    "n_M = int(100) #number of quenches/training steps\n",
    "n_bins=20 #number of bins to use in level statistics\n",
    "dataset = 'normal' #'MBL'\n",
    "digit = 0\n",
    "SEED = 42 #24\n",
    "\n",
    "#define model parameters\n",
    "L_visible = 4\n",
    "L_hidden = 2\n",
    "L = L_visible + L_hidden\n",
    "basis = spin_basis_1d(L,pauli=False)\n",
    "size = int(np.sqrt(2**(L_visible)))\n",
    "N_visible = 2**L_visible\n",
    "\n",
    "ti=0 #evolving initial time of each quench\n",
    "tm = 1.0 #evolving final time of each quench\n",
    "Jxy=1.0 # xy interaction\n",
    "Jzz_0=1.0 # zz interaction at time t=0\n",
    "h_d=20 #20.0 #0.1 #3.9 # disorder strength\n",
    "\n",
    "bins_fixed = np.linspace(0,1,n_bins+1)\n",
    "\n",
    "#=================set up Heisenberg Hamiltonian========================#\n",
    "\n",
    "# define operators with PBC using site-coupling lists\n",
    "J_zz = [[Jzz_0,i,(i+1)%L] for i in range(L)] # PBC\n",
    "J_xy = [[Jxy/2.0,i,(i+1)%L] for i in range(L)] # PBC\n",
    "\n",
    "# static and dynamic lists\n",
    "static = [[\"+-\",J_xy],[\"-+\",J_xy],[\"zz\",J_zz]]\n",
    "dynamic = []\n",
    "\n",
    "# compute the time-independent Heisenberg Hamiltonian\n",
    "H_XXZ = hamiltonian(static,dynamic,basis=basis,dtype=np.float64)"
   ]
  },
  {
   "cell_type": "code",
   "execution_count": 5,
   "metadata": {},
   "outputs": [
    {
     "data": {
      "text/plain": [
       "array([0.37454012, 0.95071431, 0.73199394, 0.59865848, 0.15601864,\n",
       "       0.15599452])"
      ]
     },
     "execution_count": 5,
     "metadata": {},
     "output_type": "execute_result"
    }
   ],
   "source": [
    "np.random.seed(SEED)\n",
    "np.random.rand(L)"
   ]
  },
  {
   "cell_type": "code",
   "execution_count": 6,
   "metadata": {},
   "outputs": [
    {
     "data": {
      "text/plain": [
       "array([0.05808361, 0.86617615, 0.60111501, 0.70807258, 0.02058449,\n",
       "       0.96990985])"
      ]
     },
     "execution_count": 6,
     "metadata": {},
     "output_type": "execute_result"
    }
   ],
   "source": [
    "np.random.rand(L)"
   ]
  },
  {
   "cell_type": "code",
   "execution_count": 7,
   "metadata": {},
   "outputs": [
    {
     "data": {
      "text/plain": [
       "array([0.83244264, 0.21233911, 0.18182497, 0.18340451, 0.30424224,\n",
       "       0.52475643])"
      ]
     },
     "execution_count": 7,
     "metadata": {},
     "output_type": "execute_result"
    }
   ],
   "source": [
    "np.random.rand(L)"
   ]
  },
  {
   "cell_type": "code",
   "execution_count": 5,
   "metadata": {},
   "outputs": [],
   "source": [
    "#set up initial product state\n",
    "ind_0 = basis.state_to_int('111000')\n",
    "psi_0 = np.zeros([basis.Ns],dtype = 'complex_') \n",
    "psi_0[ind_0] = 1\n",
    "psi_m = np.copy(psi_0) # state vector\n",
    "h_disorder = 20\n",
    "\n",
    "# evolve\n",
    "np.random.seed(SEED)\n",
    "disorder_m = np.random.rand(L)\n",
    "\n",
    "H_total = realization(H_XXZ,basis,disorder_m,h_disorder)\n",
    "psi_m = H_total.evolve(psi_m,ti,tm)"
   ]
  },
  {
   "cell_type": "code",
   "execution_count": 6,
   "metadata": {},
   "outputs": [
    {
     "data": {
      "text/plain": [
       "array([ 0.00000000e+00+0.00000000e+00j,  0.00000000e+00+0.00000000e+00j,\n",
       "        0.00000000e+00+0.00000000e+00j,  0.00000000e+00+0.00000000e+00j,\n",
       "        0.00000000e+00+0.00000000e+00j,  0.00000000e+00+0.00000000e+00j,\n",
       "        0.00000000e+00+0.00000000e+00j, -6.47819719e-07+7.59685138e-07j,\n",
       "        0.00000000e+00+0.00000000e+00j,  0.00000000e+00+0.00000000e+00j,\n",
       "        0.00000000e+00+0.00000000e+00j, -3.04896354e-06+1.74100747e-06j,\n",
       "        0.00000000e+00+0.00000000e+00j,  7.89131939e-04+3.85321705e-04j,\n",
       "        9.65924539e-05-1.59099854e-04j,  0.00000000e+00+0.00000000e+00j,\n",
       "        0.00000000e+00+0.00000000e+00j,  0.00000000e+00+0.00000000e+00j,\n",
       "        0.00000000e+00+0.00000000e+00j,  2.62083516e-04+1.58749962e-04j,\n",
       "        0.00000000e+00+0.00000000e+00j, -1.17578892e-02-9.46963256e-03j,\n",
       "       -2.82640017e-03+1.76617332e-03j,  0.00000000e+00+0.00000000e+00j,\n",
       "        0.00000000e+00+0.00000000e+00j,  2.11768359e-02+7.73749651e-02j,\n",
       "        2.37791803e-02+1.22115713e-02j,  0.00000000e+00+0.00000000e+00j,\n",
       "        1.17281816e-04+3.14265095e-04j,  0.00000000e+00+0.00000000e+00j,\n",
       "        0.00000000e+00+0.00000000e+00j,  0.00000000e+00+0.00000000e+00j,\n",
       "        0.00000000e+00+0.00000000e+00j,  0.00000000e+00+0.00000000e+00j,\n",
       "        0.00000000e+00+0.00000000e+00j, -4.66593746e-06-3.64248401e-06j,\n",
       "        0.00000000e+00+0.00000000e+00j,  2.12085176e-04+2.01986156e-04j,\n",
       "        5.62449650e-05-4.09401227e-05j,  0.00000000e+00+0.00000000e+00j,\n",
       "        0.00000000e+00+0.00000000e+00j, -3.34824222e-04-1.74853344e-03j,\n",
       "       -4.21026462e-04-3.95948608e-04j,  0.00000000e+00+0.00000000e+00j,\n",
       "       -1.06461557e-02+2.35122405e-03j,  0.00000000e+00+0.00000000e+00j,\n",
       "        0.00000000e+00+0.00000000e+00j,  0.00000000e+00+0.00000000e+00j,\n",
       "        0.00000000e+00+0.00000000e+00j,  2.01424792e-05-2.56926946e-04j,\n",
       "       -4.05323178e-03+1.16828971e-03j,  0.00000000e+00+0.00000000e+00j,\n",
       "        1.80721738e-01-1.90841807e-02j,  0.00000000e+00+0.00000000e+00j,\n",
       "        0.00000000e+00+0.00000000e+00j,  0.00000000e+00+0.00000000e+00j,\n",
       "       -8.40647914e-01-5.02748684e-01j,  0.00000000e+00+0.00000000e+00j,\n",
       "        0.00000000e+00+0.00000000e+00j,  0.00000000e+00+0.00000000e+00j,\n",
       "        0.00000000e+00+0.00000000e+00j,  0.00000000e+00+0.00000000e+00j,\n",
       "        0.00000000e+00+0.00000000e+00j,  0.00000000e+00+0.00000000e+00j])"
      ]
     },
     "execution_count": 6,
     "metadata": {},
     "output_type": "execute_result"
    }
   ],
   "source": [
    "psi_m"
   ]
  },
  {
   "cell_type": "markdown",
   "metadata": {},
   "source": [
    "Try the same with symmetrized trotterization "
   ]
  },
  {
   "cell_type": "code",
   "execution_count": 7,
   "metadata": {},
   "outputs": [
    {
     "name": "stdout",
     "output_type": "stream",
     "text": [
      "connection scheme [(0, 1), (1, 2), (2, 3), (3, 4), (4, 5), (5, 0)]\n"
     ]
    }
   ],
   "source": [
    "# try the same with my symmetrized trotterization \n",
    "connections = [(0, 1), (1, 2), (2, 3), (3, 4), (4, 5), (5,0)]\n",
    "print('connection scheme', connections)\n",
    " \n",
    "simulator = qiskit.Aer.get_backend('statevector_simulator')\n",
    "\n",
    "# t_m is the duration of each quench temperature, one delta_t time corresponds to one\n",
    "# There is no quenche layers set up when you first call the circuit initialization:\n",
    "circuit0 = qkc.MBL_Circuit_quench(delta_t=0.01, t_m=1.0, Jxy=1.0, Jzz=1.0, \n",
    "                                  n_qubits=L, n_h_qubits=L_hidden, \n",
    "                                  connections=connections, backend=simulator)"
   ]
  },
  {
   "cell_type": "code",
   "execution_count": 8,
   "metadata": {},
   "outputs": [
    {
     "data": {
      "text/plain": [
       "array([0.+0.j, 0.+0.j, 0.+0.j, 0.+0.j, 0.+0.j, 0.+0.j, 0.+0.j, 0.+0.j,\n",
       "       0.+0.j, 0.+0.j, 0.+0.j, 0.+0.j, 0.+0.j, 0.+0.j, 0.+0.j, 0.+0.j,\n",
       "       0.+0.j, 0.+0.j, 0.+0.j, 0.+0.j, 0.+0.j, 0.+0.j, 0.+0.j, 0.+0.j,\n",
       "       0.+0.j, 0.+0.j, 0.+0.j, 0.+0.j, 0.+0.j, 0.+0.j, 0.+0.j, 0.+0.j,\n",
       "       0.+0.j, 0.+0.j, 0.+0.j, 0.+0.j, 0.+0.j, 0.+0.j, 0.+0.j, 0.+0.j,\n",
       "       0.+0.j, 0.+0.j, 0.+0.j, 0.+0.j, 0.+0.j, 0.+0.j, 0.+0.j, 0.+0.j,\n",
       "       0.+0.j, 0.+0.j, 0.+0.j, 0.+0.j, 0.+0.j, 0.+0.j, 0.+0.j, 0.+0.j,\n",
       "       1.+0.j, 0.+0.j, 0.+0.j, 0.+0.j, 0.+0.j, 0.+0.j, 0.+0.j, 0.+0.j])"
      ]
     },
     "execution_count": 8,
     "metadata": {},
     "output_type": "execute_result"
    }
   ],
   "source": [
    "psi_0"
   ]
  },
  {
   "cell_type": "code",
   "execution_count": 9,
   "metadata": {},
   "outputs": [
    {
     "data": {
      "text/plain": [
       "array([0.37454012, 0.95071431, 0.73199394, 0.59865848, 0.15601864,\n",
       "       0.15599452])"
      ]
     },
     "execution_count": 9,
     "metadata": {},
     "output_type": "execute_result"
    }
   ],
   "source": [
    "disorder_m # between 0 and 1"
   ]
  },
  {
   "cell_type": "code",
   "execution_count": 10,
   "metadata": {},
   "outputs": [
    {
     "name": "stderr",
     "output_type": "stream",
     "text": [
      "/Users/pengyuanzhai/Documents/MBL_Born/Qiskit_Circuits.py:248: UserWarning: The given NumPy array is not writeable, and PyTorch does not support non-writeable tensors. This means you can write to the underlying (supposedly non-writeable) NumPy array using the tensor. You may want to copy the array to protect its data or make it writeable before converting it to a tensor. This type of warning will be suppressed for the rest of this program. (Triggered internally at  /tmp/pip-req-build-7w1l4mea/torch/csrc/utils/tensor_numpy.cpp:141.)\n",
      "  return torch.FloatTensor(probabilities), full_statevec\n",
      "/Users/pengyuanzhai/Documents/MBL_Born/Qiskit_Circuits.py:248: UserWarning: Casting complex values to real discards the imaginary part (Triggered internally at  /tmp/pip-req-build-7w1l4mea/aten/src/ATen/native/Copy.cpp:162.)\n",
      "  return torch.FloatTensor(probabilities), full_statevec\n"
     ]
    }
   ],
   "source": [
    "circuit0.load_arbitrary_state(qiskit.quantum_info.Statevector(psi_0))\n",
    "h_vec = torch.FloatTensor( (disorder_m*2-1)*h_disorder )\n",
    "px, state = circuit0.pdf_actual( h_vec )"
   ]
  },
  {
   "cell_type": "markdown",
   "metadata": {},
   "source": [
    "Compare the two evolved states"
   ]
  },
  {
   "cell_type": "code",
   "execution_count": 11,
   "metadata": {},
   "outputs": [
    {
     "data": {
      "text/plain": [
       "[<matplotlib.lines.Line2D at 0x7fd4131a02b0>]"
      ]
     },
     "execution_count": 11,
     "metadata": {},
     "output_type": "execute_result"
    },
    {
     "data": {
      "image/png": "[encoded data removed]",
      "text/plain": [
       "<Figure size 432x288 with 1 Axes>"
      ]
     },
     "metadata": {
      "needs_background": "light"
     },
     "output_type": "display_data"
    }
   ],
   "source": [
    "plt.plot(psi_m.real**2+psi_m.imag**2)"
   ]
  },
  {
   "cell_type": "code",
   "execution_count": 12,
   "metadata": {},
   "outputs": [
    {
     "data": {
      "text/plain": [
       "[<matplotlib.lines.Line2D at 0x7fd412079850>]"
      ]
     },
     "execution_count": 12,
     "metadata": {},
     "output_type": "execute_result"
    },
    {
     "data": {
      "image/png": "[encoded data removed]",
      "text/plain": [
       "<Figure size 432x288 with 1 Axes>"
      ]
     },
     "metadata": {
      "needs_background": "light"
     },
     "output_type": "display_data"
    }
   ],
   "source": [
    "plt.plot(state.data.real**2+state.data.imag**2)"
   ]
  },
  {
   "cell_type": "code",
   "execution_count": 13,
   "metadata": {},
   "outputs": [
    {
     "data": {
      "text/plain": [
       "array([ 0.00000000e+00+0.00000000e+00j,  1.30450656e-16+2.77218131e-16j,\n",
       "        5.80334706e-17+3.59569795e-17j,  0.00000000e+00+0.00000000e+00j,\n",
       "       -6.57839263e-17+2.35998486e-16j,  0.00000000e+00+0.00000000e+00j,\n",
       "        0.00000000e+00+0.00000000e+00j, -3.41477379e-05+4.21153182e-05j,\n",
       "       -2.44548739e-16-1.41512228e-16j,  0.00000000e+00+0.00000000e+00j,\n",
       "        0.00000000e+00+0.00000000e+00j,  7.56778027e-05+1.45897133e-04j,\n",
       "        0.00000000e+00+0.00000000e+00j,  1.71938882e-04-3.89453164e-04j,\n",
       "       -5.73151515e-05+1.74074718e-04j,  0.00000000e+00+0.00000000e+00j,\n",
       "       -2.35064698e-16+7.34780685e-17j,  0.00000000e+00+0.00000000e+00j,\n",
       "        0.00000000e+00+0.00000000e+00j,  2.52707246e-03-7.11167307e-04j,\n",
       "        0.00000000e+00+0.00000000e+00j,  3.70397755e-02+9.07602936e-03j,\n",
       "        3.75001058e-03-1.51679610e-03j,  0.00000000e+00+0.00000000e+00j,\n",
       "        0.00000000e+00+0.00000000e+00j,  1.07565302e-01-1.24906870e-01j,\n",
       "       -2.01664641e-02-1.46150143e-02j,  0.00000000e+00+0.00000000e+00j,\n",
       "       -7.56604718e-04-1.18952963e-03j,  0.00000000e+00+0.00000000e+00j,\n",
       "        0.00000000e+00+0.00000000e+00j,  4.09805930e-17+7.57771009e-17j,\n",
       "       -2.06959002e-16+3.18348310e-16j,  0.00000000e+00+0.00000000e+00j,\n",
       "        0.00000000e+00+0.00000000e+00j, -9.12103114e-04+2.13020490e-03j,\n",
       "        0.00000000e+00+0.00000000e+00j, -1.50033922e-02+2.71758780e-02j,\n",
       "       -9.50820375e-04+1.20943460e-03j,  0.00000000e+00+0.00000000e+00j,\n",
       "        0.00000000e+00+0.00000000e+00j, -5.70475780e-02+9.29861189e-02j,\n",
       "       -2.87179321e-03+2.75697412e-03j,  0.00000000e+00+0.00000000e+00j,\n",
       "        3.06822467e-03-1.74589745e-02j,  0.00000000e+00+0.00000000e+00j,\n",
       "        0.00000000e+00+0.00000000e+00j, -7.10953791e-17+7.21234651e-17j,\n",
       "        0.00000000e+00+0.00000000e+00j,  3.61744254e-03-1.46576674e-03j,\n",
       "       -2.24633914e-03-3.63578949e-02j,  0.00000000e+00+0.00000000e+00j,\n",
       "       -2.28916501e-01-2.73240040e-01j,  0.00000000e+00+0.00000000e+00j,\n",
       "        0.00000000e+00+0.00000000e+00j,  3.66393665e-16+1.41805643e-16j,\n",
       "        1.56750157e+00-8.90412210e-02j,  0.00000000e+00+0.00000000e+00j,\n",
       "        0.00000000e+00+0.00000000e+00j,  5.47558752e-16-1.01657540e-16j,\n",
       "        0.00000000e+00+0.00000000e+00j, -1.10660112e-17-1.08837904e-16j,\n",
       "        4.49938550e-16+4.16782137e-16j,  0.00000000e+00+0.00000000e+00j])"
      ]
     },
     "execution_count": 13,
     "metadata": {},
     "output_type": "execute_result"
    }
   ],
   "source": [
    "state.data-psi_m #-1.80304033e+00+8.52786475e-02j"
   ]
  },
  {
   "cell_type": "code",
   "execution_count": 14,
   "metadata": {},
   "outputs": [
    {
     "name": "stdout",
     "output_type": "stream",
     "text": [
      "sum diff squared 1.245174148511996e-08\n"
     ]
    },
    {
     "data": {
      "image/png": "[encoded data removed]",
      "text/plain": [
       "<Figure size 432x288 with 1 Axes>"
      ]
     },
     "metadata": {
      "needs_background": "light"
     },
     "output_type": "display_data"
    }
   ],
   "source": [
    "plt.plot(np.abs(state.data)**2-np.abs(psi_m)**2)\n",
    "print('sum diff squared', sum(np.abs(state.data)**2-np.abs(psi_m)**2))"
   ]
  },
  {
   "cell_type": "markdown",
   "metadata": {},
   "source": [
    "See what happens if we evolve again:"
   ]
  },
  {
   "cell_type": "code",
   "execution_count": 28,
   "metadata": {},
   "outputs": [],
   "source": [
    "np.random.seed(SEED+3)\n",
    "disorder_m = np.random.rand(L)\n",
    "# evolve theoretical\n",
    "H_total = realization(H_XXZ,basis,disorder_m,h_disorder)\n",
    "psi_m = H_total.evolve(psi_m,ti,tm)\n",
    "\n",
    "# eolve circuit\n",
    "#circuit0.load_arbitrary_state(qiskit.quantum_info.Statevector(state.data))\n",
    "circuit0.load_arbitrary_state(state)\n",
    "h_vec = torch.FloatTensor( (disorder_m*2-1)*h_disorder )\n",
    "px, state = circuit0.pdf_actual( h_vec )"
   ]
  },
  {
   "cell_type": "code",
   "execution_count": 29,
   "metadata": {},
   "outputs": [
    {
     "data": {
      "text/plain": [
       "[<matplotlib.lines.Line2D at 0x7fd41339f610>]"
      ]
     },
     "execution_count": 29,
     "metadata": {},
     "output_type": "execute_result"
    },
    {
     "data": {
      "image/png": "[encoded data removed]",
      "text/plain": [
       "<Figure size 432x288 with 1 Axes>"
      ]
     },
     "metadata": {
      "needs_background": "light"
     },
     "output_type": "display_data"
    }
   ],
   "source": [
    "plt.plot(psi_m.real**2+psi_m.imag**2)"
   ]
  },
  {
   "cell_type": "code",
   "execution_count": 30,
   "metadata": {},
   "outputs": [
    {
     "data": {
      "text/plain": [
       "[<matplotlib.lines.Line2D at 0x7fd412ad2cd0>]"
      ]
     },
     "execution_count": 30,
     "metadata": {},
     "output_type": "execute_result"
    },
    {
     "data": {
      "image/png": "[encoded data removed]",
      "text/plain": [
       "<Figure size 432x288 with 1 Axes>"
      ]
     },
     "metadata": {
      "needs_background": "light"
     },
     "output_type": "display_data"
    }
   ],
   "source": [
    "plt.plot(state.data.real**2+state.data.imag**2)"
   ]
  },
  {
   "cell_type": "code",
   "execution_count": 31,
   "metadata": {},
   "outputs": [
    {
     "data": {
      "text/plain": [
       "[<matplotlib.lines.Line2D at 0x7fd41304c970>]"
      ]
     },
     "execution_count": 31,
     "metadata": {},
     "output_type": "execute_result"
    },
    {
     "data": {
      "image/png": "[encoded data removed]",
      "text/plain": [
       "<Figure size 432x288 with 1 Axes>"
      ]
     },
     "metadata": {
      "needs_background": "light"
     },
     "output_type": "display_data"
    }
   ],
   "source": [
    "plt.plot(np.abs(state.data)**2-np.abs(psi_m)**2)"
   ]
  },
  {
   "cell_type": "code",
   "execution_count": 31,
   "metadata": {},
   "outputs": [
    {
     "name": "stdout",
     "output_type": "stream",
     "text": [
      "connection scheme [(0, 1), (1, 2), (2, 3), (3, 4), (4, 5), (5, 0)]\n"
     ]
    },
    {
     "data": {
      "text/html": [
       "<pre style=\"word-wrap: normal;white-space: pre;background: #fff0;line-height: 1.1;font-family: &quot;Courier New&quot;,Courier,monospace\">     »\n",
       "q_0: »\n",
       "     »\n",
       "q_1: »\n",
       "     »\n",
       "q_2: »\n",
       "     »\n",
       "q_3: »\n",
       "     »\n",
       "q_4: »\n",
       "     »\n",
       "q_5: »\n",
       "     »\n",
       "c: 4/»\n",
       "     »\n",
       "«     ┌──────────────────────────────────────────────────────────────────────────────────────────────────────────────────────────────────────────────┐»\n",
       "«q_0: ┤0                                                                                                                                             ├»\n",
       "«     │                                                                                                                                              │»\n",
       "«q_1: ┤1                                                                                                                                             ├»\n",
       "«     │                                                                                                                                              │»\n",
       "«q_2: ┤2                                                                                                                                             ├»\n",
       "«     │  Initialize(1,0,0,0,0,0,0,0,0,0,0,0,0,0,0,0,0,0,0,0,0,0,0,0,0,0,0,0,0,0,0,0,0,0,0,0,0,0,0,0,0,0,0,0,0,0,0,0,0,0,0,0,0,0,0,0,0,0,0,0,0,0,0,0) │»\n",
       "«q_3: ┤3                                                                                                                                             ├»\n",
       "«     │                                                                                                                                              │»\n",
       "«q_4: ┤4                                                                                                                                             ├»\n",
       "«     │                                                                                                                                              │»\n",
       "«q_5: ┤5                                                                                                                                             ├»\n",
       "«     └──────────────────────────────────────────────────────────────────────────────────────────────────────────────────────────────────────────────┘»\n",
       "«c: 4/════════════════════════════════════════════════════════════════════════════════════════════════════════════════════════════════════════════════»\n",
       "«                                                                                                                                                     »\n",
       "«     ┌──────────────┐┌────┐┌────┐┌────┐┌──────────────┐┌──────────────┐┌────┐»\n",
       "«q_0: ┤ Rz(0.05*h_0) ├┤0   ├┤0   ├┤0   ├┤ Rz(0.05*h_0) ├┤ Rz(0.05*h_0) ├┤0   ├»\n",
       "«     ├──────────────┤│    ││    ││    │├──────────────┤├──────────────┤│    │»\n",
       "«q_1: ┤ Rz(0.05*h_1) ├┤1   ├┤1   ├┤1   ├┤ Rz(0.05*h_1) ├┤ Rz(0.05*h_1) ├┤1   ├»\n",
       "«     ├──────────────┤│    ││    ││    │├──────────────┤├──────────────┤│    │»\n",
       "«q_2: ┤ Rz(0.05*h_2) ├┤2   ├┤2   ├┤2   ├┤ Rz(0.05*h_2) ├┤ Rz(0.05*h_2) ├┤2   ├»\n",
       "«     ├──────────────┤│  B ││  C ││  B │├──────────────┤├──────────────┤│  B │»\n",
       "«q_3: ┤ Rz(0.05*h_3) ├┤3   ├┤3   ├┤3   ├┤ Rz(0.05*h_3) ├┤ Rz(0.05*h_3) ├┤3   ├»\n",
       "«     ├──────────────┤│    ││    ││    │├──────────────┤├──────────────┤│    │»\n",
       "«q_4: ┤ Rz(0.05*h_4) ├┤4   ├┤4   ├┤4   ├┤ Rz(0.05*h_4) ├┤ Rz(0.05*h_4) ├┤4   ├»\n",
       "«     ├──────────────┤│    ││    ││    │├──────────────┤├──────────────┤│    │»\n",
       "«q_5: ┤ Rz(0.05*h_5) ├┤5   ├┤5   ├┤5   ├┤ Rz(0.05*h_5) ├┤ Rz(0.05*h_5) ├┤5   ├»\n",
       "«     └──────────────┘└────┘└────┘└────┘└──────────────┘└──────────────┘└────┘»\n",
       "«c: 4/════════════════════════════════════════════════════════════════════════»\n",
       "«                                                                             »\n",
       "«     ┌────┐┌────┐┌──────────────┐┌──────────────┐┌────┐┌────┐┌────┐»\n",
       "«q_0: ┤0   ├┤0   ├┤ Rz(0.05*h_0) ├┤ Rz(0.05*h_0) ├┤0   ├┤0   ├┤0   ├»\n",
       "«     │    ││    │├──────────────┤├──────────────┤│    ││    ││    │»\n",
       "«q_1: ┤1   ├┤1   ├┤ Rz(0.05*h_1) ├┤ Rz(0.05*h_1) ├┤1   ├┤1   ├┤1   ├»\n",
       "«     │    ││    │├──────────────┤├──────────────┤│    ││    ││    │»\n",
       "«q_2: ┤2   ├┤2   ├┤ Rz(0.05*h_2) ├┤ Rz(0.05*h_2) ├┤2   ├┤2   ├┤2   ├»\n",
       "«     │  C ││  B │├──────────────┤├──────────────┤│  B ││  C ││  B │»\n",
       "«q_3: ┤3   ├┤3   ├┤ Rz(0.05*h_3) ├┤ Rz(0.05*h_3) ├┤3   ├┤3   ├┤3   ├»\n",
       "«     │    ││    │├──────────────┤├──────────────┤│    ││    ││    │»\n",
       "«q_4: ┤4   ├┤4   ├┤ Rz(0.05*h_4) ├┤ Rz(0.05*h_4) ├┤4   ├┤4   ├┤4   ├»\n",
       "«     │    ││    │├──────────────┤├──────────────┤│    ││    ││    │»\n",
       "«q_5: ┤5   ├┤5   ├┤ Rz(0.05*h_5) ├┤ Rz(0.05*h_5) ├┤5   ├┤5   ├┤5   ├»\n",
       "«     └────┘└────┘└──────────────┘└──────────────┘└────┘└────┘└────┘»\n",
       "«c: 4/══════════════════════════════════════════════════════════════»\n",
       "«                                                                   »\n",
       "«     ┌──────────────┐┌──────────────┐┌────┐┌────┐┌────┐┌──────────────┐»\n",
       "«q_0: ┤ Rz(0.05*h_0) ├┤ Rz(0.05*h_0) ├┤0   ├┤0   ├┤0   ├┤ Rz(0.05*h_0) ├»\n",
       "«     ├──────────────┤├──────────────┤│    ││    ││    │├──────────────┤»\n",
       "«q_1: ┤ Rz(0.05*h_1) ├┤ Rz(0.05*h_1) ├┤1   ├┤1   ├┤1   ├┤ Rz(0.05*h_1) ├»\n",
       "«     ├──────────────┤├──────────────┤│    ││    ││    │├──────────────┤»\n",
       "«q_2: ┤ Rz(0.05*h_2) ├┤ Rz(0.05*h_2) ├┤2   ├┤2   ├┤2   ├┤ Rz(0.05*h_2) ├»\n",
       "«     ├──────────────┤├──────────────┤│  B ││  C ││  B │├──────────────┤»\n",
       "«q_3: ┤ Rz(0.05*h_3) ├┤ Rz(0.05*h_3) ├┤3   ├┤3   ├┤3   ├┤ Rz(0.05*h_3) ├»\n",
       "«     ├──────────────┤├──────────────┤│    ││    ││    │├──────────────┤»\n",
       "«q_4: ┤ Rz(0.05*h_4) ├┤ Rz(0.05*h_4) ├┤4   ├┤4   ├┤4   ├┤ Rz(0.05*h_4) ├»\n",
       "«     ├──────────────┤├──────────────┤│    ││    ││    │├──────────────┤»\n",
       "«q_5: ┤ Rz(0.05*h_5) ├┤ Rz(0.05*h_5) ├┤5   ├┤5   ├┤5   ├┤ Rz(0.05*h_5) ├»\n",
       "«     └──────────────┘└──────────────┘└────┘└────┘└────┘└──────────────┘»\n",
       "«c: 4/══════════════════════════════════════════════════════════════════»\n",
       "«                                                                       »\n",
       "«     ┌──────────────┐┌────┐┌────┐┌────┐┌──────────────┐┌──────────────┐┌────┐»\n",
       "«q_0: ┤ Rz(0.05*h_0) ├┤0   ├┤0   ├┤0   ├┤ Rz(0.05*h_0) ├┤ Rz(0.05*h_0) ├┤0   ├»\n",
       "«     ├──────────────┤│    ││    ││    │├──────────────┤├──────────────┤│    │»\n",
       "«q_1: ┤ Rz(0.05*h_1) ├┤1   ├┤1   ├┤1   ├┤ Rz(0.05*h_1) ├┤ Rz(0.05*h_1) ├┤1   ├»\n",
       "«     ├──────────────┤│    ││    ││    │├──────────────┤├──────────────┤│    │»\n",
       "«q_2: ┤ Rz(0.05*h_2) ├┤2   ├┤2   ├┤2   ├┤ Rz(0.05*h_2) ├┤ Rz(0.05*h_2) ├┤2   ├»\n",
       "«     ├──────────────┤│  B ││  C ││  B │├──────────────┤├──────────────┤│  B │»\n",
       "«q_3: ┤ Rz(0.05*h_3) ├┤3   ├┤3   ├┤3   ├┤ Rz(0.05*h_3) ├┤ Rz(0.05*h_3) ├┤3   ├»\n",
       "«     ├──────────────┤│    ││    ││    │├──────────────┤├──────────────┤│    │»\n",
       "«q_4: ┤ Rz(0.05*h_4) ├┤4   ├┤4   ├┤4   ├┤ Rz(0.05*h_4) ├┤ Rz(0.05*h_4) ├┤4   ├»\n",
       "«     ├──────────────┤│    ││    ││    │├──────────────┤├──────────────┤│    │»\n",
       "«q_5: ┤ Rz(0.05*h_5) ├┤5   ├┤5   ├┤5   ├┤ Rz(0.05*h_5) ├┤ Rz(0.05*h_5) ├┤5   ├»\n",
       "«     └──────────────┘└────┘└────┘└────┘└──────────────┘└──────────────┘└────┘»\n",
       "«c: 4/════════════════════════════════════════════════════════════════════════»\n",
       "«                                                                             »\n",
       "«     ┌────┐┌────┐┌──────────────┐┌──────────────┐┌────┐┌────┐┌────┐»\n",
       "«q_0: ┤0   ├┤0   ├┤ Rz(0.05*h_0) ├┤ Rz(0.05*h_0) ├┤0   ├┤0   ├┤0   ├»\n",
       "«     │    ││    │├──────────────┤├──────────────┤│    ││    ││    │»\n",
       "«q_1: ┤1   ├┤1   ├┤ Rz(0.05*h_1) ├┤ Rz(0.05*h_1) ├┤1   ├┤1   ├┤1   ├»\n",
       "«     │    ││    │├──────────────┤├──────────────┤│    ││    ││    │»\n",
       "«q_2: ┤2   ├┤2   ├┤ Rz(0.05*h_2) ├┤ Rz(0.05*h_2) ├┤2   ├┤2   ├┤2   ├»\n",
       "«     │  C ││  B │├──────────────┤├──────────────┤│  B ││  C ││  B │»\n",
       "«q_3: ┤3   ├┤3   ├┤ Rz(0.05*h_3) ├┤ Rz(0.05*h_3) ├┤3   ├┤3   ├┤3   ├»\n",
       "«     │    ││    │├──────────────┤├──────────────┤│    ││    ││    │»\n",
       "«q_4: ┤4   ├┤4   ├┤ Rz(0.05*h_4) ├┤ Rz(0.05*h_4) ├┤4   ├┤4   ├┤4   ├»\n",
       "«     │    ││    │├──────────────┤├──────────────┤│    ││    ││    │»\n",
       "«q_5: ┤5   ├┤5   ├┤ Rz(0.05*h_5) ├┤ Rz(0.05*h_5) ├┤5   ├┤5   ├┤5   ├»\n",
       "«     └────┘└────┘└──────────────┘└──────────────┘└────┘└────┘└────┘»\n",
       "«c: 4/══════════════════════════════════════════════════════════════»\n",
       "«                                                                   »\n",
       "«     ┌──────────────┐┌──────────────┐┌────┐┌────┐┌────┐┌──────────────┐»\n",
       "«q_0: ┤ Rz(0.05*h_0) ├┤ Rz(0.05*h_0) ├┤0   ├┤0   ├┤0   ├┤ Rz(0.05*h_0) ├»\n",
       "«     ├──────────────┤├──────────────┤│    ││    ││    │├──────────────┤»\n",
       "«q_1: ┤ Rz(0.05*h_1) ├┤ Rz(0.05*h_1) ├┤1   ├┤1   ├┤1   ├┤ Rz(0.05*h_1) ├»\n",
       "«     ├──────────────┤├──────────────┤│    ││    ││    │├──────────────┤»\n",
       "«q_2: ┤ Rz(0.05*h_2) ├┤ Rz(0.05*h_2) ├┤2   ├┤2   ├┤2   ├┤ Rz(0.05*h_2) ├»\n",
       "«     ├──────────────┤├──────────────┤│  B ││  C ││  B │├──────────────┤»\n",
       "«q_3: ┤ Rz(0.05*h_3) ├┤ Rz(0.05*h_3) ├┤3   ├┤3   ├┤3   ├┤ Rz(0.05*h_3) ├»\n",
       "«     ├──────────────┤├──────────────┤│    ││    ││    │├──────────────┤»\n",
       "«q_4: ┤ Rz(0.05*h_4) ├┤ Rz(0.05*h_4) ├┤4   ├┤4   ├┤4   ├┤ Rz(0.05*h_4) ├»\n",
       "«     ├──────────────┤├──────────────┤│    ││    ││    │├──────────────┤»\n",
       "«q_5: ┤ Rz(0.05*h_5) ├┤ Rz(0.05*h_5) ├┤5   ├┤5   ├┤5   ├┤ Rz(0.05*h_5) ├»\n",
       "«     └──────────────┘└──────────────┘└────┘└────┘└────┘└──────────────┘»\n",
       "«c: 4/══════════════════════════════════════════════════════════════════»\n",
       "«                                                                       »\n",
       "«     ┌──────────────┐┌────┐┌────┐┌────┐┌──────────────┐┌──────────────┐┌────┐»\n",
       "«q_0: ┤ Rz(0.05*h_0) ├┤0   ├┤0   ├┤0   ├┤ Rz(0.05*h_0) ├┤ Rz(0.05*h_0) ├┤0   ├»\n",
       "«     ├──────────────┤│    ││    ││    │├──────────────┤├──────────────┤│    │»\n",
       "«q_1: ┤ Rz(0.05*h_1) ├┤1   ├┤1   ├┤1   ├┤ Rz(0.05*h_1) ├┤ Rz(0.05*h_1) ├┤1   ├»\n",
       "«     ├──────────────┤│    ││    ││    │├──────────────┤├──────────────┤│    │»\n",
       "«q_2: ┤ Rz(0.05*h_2) ├┤2   ├┤2   ├┤2   ├┤ Rz(0.05*h_2) ├┤ Rz(0.05*h_2) ├┤2   ├»\n",
       "«     ├──────────────┤│  B ││  C ││  B │├──────────────┤├──────────────┤│  B │»\n",
       "«q_3: ┤ Rz(0.05*h_3) ├┤3   ├┤3   ├┤3   ├┤ Rz(0.05*h_3) ├┤ Rz(0.05*h_3) ├┤3   ├»\n",
       "«     ├──────────────┤│    ││    ││    │├──────────────┤├──────────────┤│    │»\n",
       "«q_4: ┤ Rz(0.05*h_4) ├┤4   ├┤4   ├┤4   ├┤ Rz(0.05*h_4) ├┤ Rz(0.05*h_4) ├┤4   ├»\n",
       "«     ├──────────────┤│    ││    ││    │├──────────────┤├──────────────┤│    │»\n",
       "«q_5: ┤ Rz(0.05*h_5) ├┤5   ├┤5   ├┤5   ├┤ Rz(0.05*h_5) ├┤ Rz(0.05*h_5) ├┤5   ├»\n",
       "«     └──────────────┘└────┘└────┘└────┘└──────────────┘└──────────────┘└────┘»\n",
       "«c: 4/════════════════════════════════════════════════════════════════════════»\n",
       "«                                                                             »\n",
       "«     ┌────┐┌────┐┌──────────────┐┌──────────────┐┌────┐┌────┐┌────┐»\n",
       "«q_0: ┤0   ├┤0   ├┤ Rz(0.05*h_0) ├┤ Rz(0.05*h_0) ├┤0   ├┤0   ├┤0   ├»\n",
       "«     │    ││    │├──────────────┤├──────────────┤│    ││    ││    │»\n",
       "«q_1: ┤1   ├┤1   ├┤ Rz(0.05*h_1) ├┤ Rz(0.05*h_1) ├┤1   ├┤1   ├┤1   ├»\n",
       "«     │    ││    │├──────────────┤├──────────────┤│    ││    ││    │»\n",
       "«q_2: ┤2   ├┤2   ├┤ Rz(0.05*h_2) ├┤ Rz(0.05*h_2) ├┤2   ├┤2   ├┤2   ├»\n",
       "«     │  C ││  B │├──────────────┤├──────────────┤│  B ││  C ││  B │»\n",
       "«q_3: ┤3   ├┤3   ├┤ Rz(0.05*h_3) ├┤ Rz(0.05*h_3) ├┤3   ├┤3   ├┤3   ├»\n",
       "«     │    ││    │├──────────────┤├──────────────┤│    ││    ││    │»\n",
       "«q_4: ┤4   ├┤4   ├┤ Rz(0.05*h_4) ├┤ Rz(0.05*h_4) ├┤4   ├┤4   ├┤4   ├»\n",
       "«     │    ││    │├──────────────┤├──────────────┤│    ││    ││    │»\n",
       "«q_5: ┤5   ├┤5   ├┤ Rz(0.05*h_5) ├┤ Rz(0.05*h_5) ├┤5   ├┤5   ├┤5   ├»\n",
       "«     └────┘└────┘└──────────────┘└──────────────┘└────┘└────┘└────┘»\n",
       "«c: 4/══════════════════════════════════════════════════════════════»\n",
       "«                                                                   »\n",
       "«     ┌──────────────┐┌──────────────┐┌────┐┌────┐┌────┐┌──────────────┐»\n",
       "«q_0: ┤ Rz(0.05*h_0) ├┤ Rz(0.05*h_0) ├┤0   ├┤0   ├┤0   ├┤ Rz(0.05*h_0) ├»\n",
       "«     ├──────────────┤├──────────────┤│    ││    ││    │├──────────────┤»\n",
       "«q_1: ┤ Rz(0.05*h_1) ├┤ Rz(0.05*h_1) ├┤1   ├┤1   ├┤1   ├┤ Rz(0.05*h_1) ├»\n",
       "«     ├──────────────┤├──────────────┤│    ││    ││    │├──────────────┤»\n",
       "«q_2: ┤ Rz(0.05*h_2) ├┤ Rz(0.05*h_2) ├┤2   ├┤2   ├┤2   ├┤ Rz(0.05*h_2) ├»\n",
       "«     ├──────────────┤├──────────────┤│  B ││  C ││  B │├──────────────┤»\n",
       "«q_3: ┤ Rz(0.05*h_3) ├┤ Rz(0.05*h_3) ├┤3   ├┤3   ├┤3   ├┤ Rz(0.05*h_3) ├»\n",
       "«     ├──────────────┤├──────────────┤│    ││    ││    │├──────────────┤»\n",
       "«q_4: ┤ Rz(0.05*h_4) ├┤ Rz(0.05*h_4) ├┤4   ├┤4   ├┤4   ├┤ Rz(0.05*h_4) ├»\n",
       "«     ├──────────────┤├──────────────┤│    ││    ││    │├──────────────┤»\n",
       "«q_5: ┤ Rz(0.05*h_5) ├┤ Rz(0.05*h_5) ├┤5   ├┤5   ├┤5   ├┤ Rz(0.05*h_5) ├»\n",
       "«     └──────────────┘└──────────────┘└────┘└────┘└────┘└──────────────┘»\n",
       "«c: 4/══════════════════════════════════════════════════════════════════»\n",
       "«                                                                       »\n",
       "«     ┌──────────────┐┌────┐┌────┐┌────┐┌──────────────┐┌──────────────┐┌────┐»\n",
       "«q_0: ┤ Rz(0.05*h_0) ├┤0   ├┤0   ├┤0   ├┤ Rz(0.05*h_0) ├┤ Rz(0.05*h_0) ├┤0   ├»\n",
       "«     ├──────────────┤│    ││    ││    │├──────────────┤├──────────────┤│    │»\n",
       "«q_1: ┤ Rz(0.05*h_1) ├┤1   ├┤1   ├┤1   ├┤ Rz(0.05*h_1) ├┤ Rz(0.05*h_1) ├┤1   ├»\n",
       "«     ├──────────────┤│    ││    ││    │├──────────────┤├──────────────┤│    │»\n",
       "«q_2: ┤ Rz(0.05*h_2) ├┤2   ├┤2   ├┤2   ├┤ Rz(0.05*h_2) ├┤ Rz(0.05*h_2) ├┤2   ├»\n",
       "«     ├──────────────┤│  B ││  C ││  B │├──────────────┤├──────────────┤│  B │»\n",
       "«q_3: ┤ Rz(0.05*h_3) ├┤3   ├┤3   ├┤3   ├┤ Rz(0.05*h_3) ├┤ Rz(0.05*h_3) ├┤3   ├»\n",
       "«     ├──────────────┤│    ││    ││    │├──────────────┤├──────────────┤│    │»\n",
       "«q_4: ┤ Rz(0.05*h_4) ├┤4   ├┤4   ├┤4   ├┤ Rz(0.05*h_4) ├┤ Rz(0.05*h_4) ├┤4   ├»\n",
       "«     ├──────────────┤│    ││    ││    │├──────────────┤├──────────────┤│    │»\n",
       "«q_5: ┤ Rz(0.05*h_5) ├┤5   ├┤5   ├┤5   ├┤ Rz(0.05*h_5) ├┤ Rz(0.05*h_5) ├┤5   ├»\n",
       "«     └──────────────┘└────┘└────┘└────┘└──────────────┘└──────────────┘└────┘»\n",
       "«c: 4/════════════════════════════════════════════════════════════════════════»\n",
       "«                                                                             »\n",
       "«     ┌────┐┌────┐┌──────────────┐┌──────────────┐┌────┐┌────┐┌────┐»\n",
       "«q_0: ┤0   ├┤0   ├┤ Rz(0.05*h_0) ├┤ Rz(0.05*h_0) ├┤0   ├┤0   ├┤0   ├»\n",
       "«     │    ││    │├──────────────┤├──────────────┤│    ││    ││    │»\n",
       "«q_1: ┤1   ├┤1   ├┤ Rz(0.05*h_1) ├┤ Rz(0.05*h_1) ├┤1   ├┤1   ├┤1   ├»\n",
       "«     │    ││    │├──────────────┤├──────────────┤│    ││    ││    │»\n",
       "«q_2: ┤2   ├┤2   ├┤ Rz(0.05*h_2) ├┤ Rz(0.05*h_2) ├┤2   ├┤2   ├┤2   ├»\n",
       "«     │  C ││  B │├──────────────┤├──────────────┤│  B ││  C ││  B │»\n",
       "«q_3: ┤3   ├┤3   ├┤ Rz(0.05*h_3) ├┤ Rz(0.05*h_3) ├┤3   ├┤3   ├┤3   ├»\n",
       "«     │    ││    │├──────────────┤├──────────────┤│    ││    ││    │»\n",
       "«q_4: ┤4   ├┤4   ├┤ Rz(0.05*h_4) ├┤ Rz(0.05*h_4) ├┤4   ├┤4   ├┤4   ├»\n",
       "«     │    ││    │├──────────────┤├──────────────┤│    ││    ││    │»\n",
       "«q_5: ┤5   ├┤5   ├┤ Rz(0.05*h_5) ├┤ Rz(0.05*h_5) ├┤5   ├┤5   ├┤5   ├»\n",
       "«     └────┘└────┘└──────────────┘└──────────────┘└────┘└────┘└────┘»\n",
       "«c: 4/══════════════════════════════════════════════════════════════»\n",
       "«                                                                   »\n",
       "«     ┌──────────────┐┌──────────────┐┌────┐┌────┐┌────┐┌──────────────┐»\n",
       "«q_0: ┤ Rz(0.05*h_0) ├┤ Rz(0.05*h_0) ├┤0   ├┤0   ├┤0   ├┤ Rz(0.05*h_0) ├»\n",
       "«     ├──────────────┤├──────────────┤│    ││    ││    │├──────────────┤»\n",
       "«q_1: ┤ Rz(0.05*h_1) ├┤ Rz(0.05*h_1) ├┤1   ├┤1   ├┤1   ├┤ Rz(0.05*h_1) ├»\n",
       "«     ├──────────────┤├──────────────┤│    ││    ││    │├──────────────┤»\n",
       "«q_2: ┤ Rz(0.05*h_2) ├┤ Rz(0.05*h_2) ├┤2   ├┤2   ├┤2   ├┤ Rz(0.05*h_2) ├»\n",
       "«     ├──────────────┤├──────────────┤│  B ││  C ││  B │├──────────────┤»\n",
       "«q_3: ┤ Rz(0.05*h_3) ├┤ Rz(0.05*h_3) ├┤3   ├┤3   ├┤3   ├┤ Rz(0.05*h_3) ├»\n",
       "«     ├──────────────┤├──────────────┤│    ││    ││    │├──────────────┤»\n",
       "«q_4: ┤ Rz(0.05*h_4) ├┤ Rz(0.05*h_4) ├┤4   ├┤4   ├┤4   ├┤ Rz(0.05*h_4) ├»\n",
       "«     ├──────────────┤├──────────────┤│    ││    ││    │├──────────────┤»\n",
       "«q_5: ┤ Rz(0.05*h_5) ├┤ Rz(0.05*h_5) ├┤5   ├┤5   ├┤5   ├┤ Rz(0.05*h_5) ├»\n",
       "«     └──────────────┘└──────────────┘└────┘└────┘└────┘└──────────────┘»\n",
       "«c: 4/══════════════════════════════════════════════════════════════════»\n",
       "«                                                                       »\n",
       "«     ┌──────────────┐┌────┐┌────┐┌────┐┌──────────────┐┌──────────────┐┌────┐»\n",
       "«q_0: ┤ Rz(0.05*h_0) ├┤0   ├┤0   ├┤0   ├┤ Rz(0.05*h_0) ├┤ Rz(0.05*h_0) ├┤0   ├»\n",
       "«     ├──────────────┤│    ││    ││    │├──────────────┤├──────────────┤│    │»\n",
       "«q_1: ┤ Rz(0.05*h_1) ├┤1   ├┤1   ├┤1   ├┤ Rz(0.05*h_1) ├┤ Rz(0.05*h_1) ├┤1   ├»\n",
       "«     ├──────────────┤│    ││    ││    │├──────────────┤├──────────────┤│    │»\n",
       "«q_2: ┤ Rz(0.05*h_2) ├┤2   ├┤2   ├┤2   ├┤ Rz(0.05*h_2) ├┤ Rz(0.05*h_2) ├┤2   ├»\n",
       "«     ├──────────────┤│  B ││  C ││  B │├──────────────┤├──────────────┤│  B │»\n",
       "«q_3: ┤ Rz(0.05*h_3) ├┤3   ├┤3   ├┤3   ├┤ Rz(0.05*h_3) ├┤ Rz(0.05*h_3) ├┤3   ├»\n",
       "«     ├──────────────┤│    ││    ││    │├──────────────┤├──────────────┤│    │»\n",
       "«q_4: ┤ Rz(0.05*h_4) ├┤4   ├┤4   ├┤4   ├┤ Rz(0.05*h_4) ├┤ Rz(0.05*h_4) ├┤4   ├»\n",
       "«     ├──────────────┤│    ││    ││    │├──────────────┤├──────────────┤│    │»\n",
       "«q_5: ┤ Rz(0.05*h_5) ├┤5   ├┤5   ├┤5   ├┤ Rz(0.05*h_5) ├┤ Rz(0.05*h_5) ├┤5   ├»\n",
       "«     └──────────────┘└────┘└────┘└────┘└──────────────┘└──────────────┘└────┘»\n",
       "«c: 4/════════════════════════════════════════════════════════════════════════»\n",
       "«                                                                             »\n",
       "«     ┌────┐┌────┐┌──────────────┐┌──────────────┐┌────┐┌────┐┌────┐»\n",
       "«q_0: ┤0   ├┤0   ├┤ Rz(0.05*h_0) ├┤ Rz(0.05*h_0) ├┤0   ├┤0   ├┤0   ├»\n",
       "«     │    ││    │├──────────────┤├──────────────┤│    ││    ││    │»\n",
       "«q_1: ┤1   ├┤1   ├┤ Rz(0.05*h_1) ├┤ Rz(0.05*h_1) ├┤1   ├┤1   ├┤1   ├»\n",
       "«     │    ││    │├──────────────┤├──────────────┤│    ││    ││    │»\n",
       "«q_2: ┤2   ├┤2   ├┤ Rz(0.05*h_2) ├┤ Rz(0.05*h_2) ├┤2   ├┤2   ├┤2   ├»\n",
       "«     │  C ││  B │├──────────────┤├──────────────┤│  B ││  C ││  B │»\n",
       "«q_3: ┤3   ├┤3   ├┤ Rz(0.05*h_3) ├┤ Rz(0.05*h_3) ├┤3   ├┤3   ├┤3   ├»\n",
       "«     │    ││    │├──────────────┤├──────────────┤│    ││    ││    │»\n",
       "«q_4: ┤4   ├┤4   ├┤ Rz(0.05*h_4) ├┤ Rz(0.05*h_4) ├┤4   ├┤4   ├┤4   ├»\n",
       "«     │    ││    │├──────────────┤├──────────────┤│    ││    ││    │»\n",
       "«q_5: ┤5   ├┤5   ├┤ Rz(0.05*h_5) ├┤ Rz(0.05*h_5) ├┤5   ├┤5   ├┤5   ├»\n",
       "«     └────┘└────┘└──────────────┘└──────────────┘└────┘└────┘└────┘»\n",
       "«c: 4/══════════════════════════════════════════════════════════════»\n",
       "«                                                                   »\n",
       "«     ┌──────────────┐┌──────────────┐┌────┐┌────┐┌────┐┌──────────────┐\n",
       "«q_0: ┤ Rz(0.05*h_0) ├┤ Rz(0.05*h_0) ├┤0   ├┤0   ├┤0   ├┤ Rz(0.05*h_0) ├\n",
       "«     ├──────────────┤├──────────────┤│    ││    ││    │├──────────────┤\n",
       "«q_1: ┤ Rz(0.05*h_1) ├┤ Rz(0.05*h_1) ├┤1   ├┤1   ├┤1   ├┤ Rz(0.05*h_1) ├\n",
       "«     ├──────────────┤├──────────────┤│    ││    ││    │├──────────────┤\n",
       "«q_2: ┤ Rz(0.05*h_2) ├┤ Rz(0.05*h_2) ├┤2   ├┤2   ├┤2   ├┤ Rz(0.05*h_2) ├\n",
       "«     ├──────────────┤├──────────────┤│  B ││  C ││  B │├──────────────┤\n",
       "«q_3: ┤ Rz(0.05*h_3) ├┤ Rz(0.05*h_3) ├┤3   ├┤3   ├┤3   ├┤ Rz(0.05*h_3) ├\n",
       "«     ├──────────────┤├──────────────┤│    ││    ││    │├──────────────┤\n",
       "«q_4: ┤ Rz(0.05*h_4) ├┤ Rz(0.05*h_4) ├┤4   ├┤4   ├┤4   ├┤ Rz(0.05*h_4) ├\n",
       "«     ├──────────────┤├──────────────┤│    ││    ││    │├──────────────┤\n",
       "«q_5: ┤ Rz(0.05*h_5) ├┤ Rz(0.05*h_5) ├┤5   ├┤5   ├┤5   ├┤ Rz(0.05*h_5) ├\n",
       "«     └──────────────┘└──────────────┘└────┘└────┘└────┘└──────────────┘\n",
       "«c: 4/══════════════════════════════════════════════════════════════════\n",
       "«                                                                       </pre>"
      ],
      "text/plain": [
       "     »\n",
       "q_0: »\n",
       "     »\n",
       "q_1: »\n",
       "     »\n",
       "q_2: »\n",
       "     »\n",
       "q_3: »\n",
       "     »\n",
       "q_4: »\n",
       "     »\n",
       "q_5: »\n",
       "     »\n",
       "c: 4/»\n",
       "     »\n",
       "«     ┌──────────────────────────────────────────────────────────────────────────────────────────────────────────────────────────────────────────────┐»\n",
       "«q_0: ┤0                                                                                                                                             ├»\n",
       "«     │                                                                                                                                              │»\n",
       "«q_1: ┤1                                                                                                                                             ├»\n",
       "«     │                                                                                                                                              │»\n",
       "«q_2: ┤2                                                                                                                                             ├»\n",
       "«     │  Initialize(1,0,0,0,0,0,0,0,0,0,0,0,0,0,0,0,0,0,0,0,0,0,0,0,0,0,0,0,0,0,0,0,0,0,0,0,0,0,0,0,0,0,0,0,0,0,0,0,0,0,0,0,0,0,0,0,0,0,0,0,0,0,0,0) │»\n",
       "«q_3: ┤3                                                                                                                                             ├»\n",
       "«     │                                                                                                                                              │»\n",
       "«q_4: ┤4                                                                                                                                             ├»\n",
       "«     │                                                                                                                                              │»\n",
       "«q_5: ┤5                                                                                                                                             ├»\n",
       "«     └──────────────────────────────────────────────────────────────────────────────────────────────────────────────────────────────────────────────┘»\n",
       "«c: 4/════════════════════════════════════════════════════════════════════════════════════════════════════════════════════════════════════════════════»\n",
       "«                                                                                                                                                     »\n",
       "«     ┌──────────────┐┌────┐┌────┐┌────┐┌──────────────┐┌──────────────┐┌────┐»\n",
       "«q_0: ┤ Rz(0.05*h_0) ├┤0   ├┤0   ├┤0   ├┤ Rz(0.05*h_0) ├┤ Rz(0.05*h_0) ├┤0   ├»\n",
       "«     ├──────────────┤│    ││    ││    │├──────────────┤├──────────────┤│    │»\n",
       "«q_1: ┤ Rz(0.05*h_1) ├┤1   ├┤1   ├┤1   ├┤ Rz(0.05*h_1) ├┤ Rz(0.05*h_1) ├┤1   ├»\n",
       "«     ├──────────────┤│    ││    ││    │├──────────────┤├──────────────┤│    │»\n",
       "«q_2: ┤ Rz(0.05*h_2) ├┤2   ├┤2   ├┤2   ├┤ Rz(0.05*h_2) ├┤ Rz(0.05*h_2) ├┤2   ├»\n",
       "«     ├──────────────┤│  B ││  C ││  B │├──────────────┤├──────────────┤│  B │»\n",
       "«q_3: ┤ Rz(0.05*h_3) ├┤3   ├┤3   ├┤3   ├┤ Rz(0.05*h_3) ├┤ Rz(0.05*h_3) ├┤3   ├»\n",
       "«     ├──────────────┤│    ││    ││    │├──────────────┤├──────────────┤│    │»\n",
       "«q_4: ┤ Rz(0.05*h_4) ├┤4   ├┤4   ├┤4   ├┤ Rz(0.05*h_4) ├┤ Rz(0.05*h_4) ├┤4   ├»\n",
       "«     ├──────────────┤│    ││    ││    │├──────────────┤├──────────────┤│    │»\n",
       "«q_5: ┤ Rz(0.05*h_5) ├┤5   ├┤5   ├┤5   ├┤ Rz(0.05*h_5) ├┤ Rz(0.05*h_5) ├┤5   ├»\n",
       "«     └──────────────┘└────┘└────┘└────┘└──────────────┘└──────────────┘└────┘»\n",
       "«c: 4/════════════════════════════════════════════════════════════════════════»\n",
       "«                                                                             »\n",
       "«     ┌────┐┌────┐┌──────────────┐┌──────────────┐┌────┐┌────┐┌────┐»\n",
       "«q_0: ┤0   ├┤0   ├┤ Rz(0.05*h_0) ├┤ Rz(0.05*h_0) ├┤0   ├┤0   ├┤0   ├»\n",
       "«     │    ││    │├──────────────┤├──────────────┤│    ││    ││    │»\n",
       "«q_1: ┤1   ├┤1   ├┤ Rz(0.05*h_1) ├┤ Rz(0.05*h_1) ├┤1   ├┤1   ├┤1   ├»\n",
       "«     │    ││    │├──────────────┤├──────────────┤│    ││    ││    │»\n",
       "«q_2: ┤2   ├┤2   ├┤ Rz(0.05*h_2) ├┤ Rz(0.05*h_2) ├┤2   ├┤2   ├┤2   ├»\n",
       "«     │  C ││  B │├──────────────┤├──────────────┤│  B ││  C ││  B │»\n",
       "«q_3: ┤3   ├┤3   ├┤ Rz(0.05*h_3) ├┤ Rz(0.05*h_3) ├┤3   ├┤3   ├┤3   ├»\n",
       "«     │    ││    │├──────────────┤├──────────────┤│    ││    ││    │»\n",
       "«q_4: ┤4   ├┤4   ├┤ Rz(0.05*h_4) ├┤ Rz(0.05*h_4) ├┤4   ├┤4   ├┤4   ├»\n",
       "«     │    ││    │├──────────────┤├──────────────┤│    ││    ││    │»\n",
       "«q_5: ┤5   ├┤5   ├┤ Rz(0.05*h_5) ├┤ Rz(0.05*h_5) ├┤5   ├┤5   ├┤5   ├»\n",
       "«     └────┘└────┘└──────────────┘└──────────────┘└────┘└────┘└────┘»\n",
       "«c: 4/══════════════════════════════════════════════════════════════»\n",
       "«                                                                   »\n",
       "«     ┌──────────────┐┌──────────────┐┌────┐┌────┐┌────┐┌──────────────┐»\n",
       "«q_0: ┤ Rz(0.05*h_0) ├┤ Rz(0.05*h_0) ├┤0   ├┤0   ├┤0   ├┤ Rz(0.05*h_0) ├»\n",
       "«     ├──────────────┤├──────────────┤│    ││    ││    │├──────────────┤»\n",
       "«q_1: ┤ Rz(0.05*h_1) ├┤ Rz(0.05*h_1) ├┤1   ├┤1   ├┤1   ├┤ Rz(0.05*h_1) ├»\n",
       "«     ├──────────────┤├──────────────┤│    ││    ││    │├──────────────┤»\n",
       "«q_2: ┤ Rz(0.05*h_2) ├┤ Rz(0.05*h_2) ├┤2   ├┤2   ├┤2   ├┤ Rz(0.05*h_2) ├»\n",
       "«     ├──────────────┤├──────────────┤│  B ││  C ││  B │├──────────────┤»\n",
       "«q_3: ┤ Rz(0.05*h_3) ├┤ Rz(0.05*h_3) ├┤3   ├┤3   ├┤3   ├┤ Rz(0.05*h_3) ├»\n",
       "«     ├──────────────┤├──────────────┤│    ││    ││    │├──────────────┤»\n",
       "«q_4: ┤ Rz(0.05*h_4) ├┤ Rz(0.05*h_4) ├┤4   ├┤4   ├┤4   ├┤ Rz(0.05*h_4) ├»\n",
       "«     ├──────────────┤├──────────────┤│    ││    ││    │├──────────────┤»\n",
       "«q_5: ┤ Rz(0.05*h_5) ├┤ Rz(0.05*h_5) ├┤5   ├┤5   ├┤5   ├┤ Rz(0.05*h_5) ├»\n",
       "«     └──────────────┘└──────────────┘└────┘└────┘└────┘└──────────────┘»\n",
       "«c: 4/══════════════════════════════════════════════════════════════════»\n",
       "«                                                                       »\n",
       "«     ┌──────────────┐┌────┐┌────┐┌────┐┌──────────────┐┌──────────────┐┌────┐»\n",
       "«q_0: ┤ Rz(0.05*h_0) ├┤0   ├┤0   ├┤0   ├┤ Rz(0.05*h_0) ├┤ Rz(0.05*h_0) ├┤0   ├»\n",
       "«     ├──────────────┤│    ││    ││    │├──────────────┤├──────────────┤│    │»\n",
       "«q_1: ┤ Rz(0.05*h_1) ├┤1   ├┤1   ├┤1   ├┤ Rz(0.05*h_1) ├┤ Rz(0.05*h_1) ├┤1   ├»\n",
       "«     ├──────────────┤│    ││    ││    │├──────────────┤├──────────────┤│    │»\n",
       "«q_2: ┤ Rz(0.05*h_2) ├┤2   ├┤2   ├┤2   ├┤ Rz(0.05*h_2) ├┤ Rz(0.05*h_2) ├┤2   ├»\n",
       "«     ├──────────────┤│  B ││  C ││  B │├──────────────┤├──────────────┤│  B │»\n",
       "«q_3: ┤ Rz(0.05*h_3) ├┤3   ├┤3   ├┤3   ├┤ Rz(0.05*h_3) ├┤ Rz(0.05*h_3) ├┤3   ├»\n",
       "«     ├──────────────┤│    ││    ││    │├──────────────┤├──────────────┤│    │»\n",
       "«q_4: ┤ Rz(0.05*h_4) ├┤4   ├┤4   ├┤4   ├┤ Rz(0.05*h_4) ├┤ Rz(0.05*h_4) ├┤4   ├»\n",
       "«     ├──────────────┤│    ││    ││    │├──────────────┤├──────────────┤│    │»\n",
       "«q_5: ┤ Rz(0.05*h_5) ├┤5   ├┤5   ├┤5   ├┤ Rz(0.05*h_5) ├┤ Rz(0.05*h_5) ├┤5   ├»\n",
       "«     └──────────────┘└────┘└────┘└────┘└──────────────┘└──────────────┘└────┘»\n",
       "«c: 4/════════════════════════════════════════════════════════════════════════»\n",
       "«                                                                             »\n",
       "«     ┌────┐┌────┐┌──────────────┐┌──────────────┐┌────┐┌────┐┌────┐»\n",
       "«q_0: ┤0   ├┤0   ├┤ Rz(0.05*h_0) ├┤ Rz(0.05*h_0) ├┤0   ├┤0   ├┤0   ├»\n",
       "«     │    ││    │├──────────────┤├──────────────┤│    ││    ││    │»\n",
       "«q_1: ┤1   ├┤1   ├┤ Rz(0.05*h_1) ├┤ Rz(0.05*h_1) ├┤1   ├┤1   ├┤1   ├»\n",
       "«     │    ││    │├──────────────┤├──────────────┤│    ││    ││    │»\n",
       "«q_2: ┤2   ├┤2   ├┤ Rz(0.05*h_2) ├┤ Rz(0.05*h_2) ├┤2   ├┤2   ├┤2   ├»\n",
       "«     │  C ││  B │├──────────────┤├──────────────┤│  B ││  C ││  B │»\n",
       "«q_3: ┤3   ├┤3   ├┤ Rz(0.05*h_3) ├┤ Rz(0.05*h_3) ├┤3   ├┤3   ├┤3   ├»\n",
       "«     │    ││    │├──────────────┤├──────────────┤│    ││    ││    │»\n",
       "«q_4: ┤4   ├┤4   ├┤ Rz(0.05*h_4) ├┤ Rz(0.05*h_4) ├┤4   ├┤4   ├┤4   ├»\n",
       "«     │    ││    │├──────────────┤├──────────────┤│    ││    ││    │»\n",
       "«q_5: ┤5   ├┤5   ├┤ Rz(0.05*h_5) ├┤ Rz(0.05*h_5) ├┤5   ├┤5   ├┤5   ├»\n",
       "«     └────┘└────┘└──────────────┘└──────────────┘└────┘└────┘└────┘»\n",
       "«c: 4/══════════════════════════════════════════════════════════════»\n",
       "«                                                                   »\n",
       "«     ┌──────────────┐┌──────────────┐┌────┐┌────┐┌────┐┌──────────────┐»\n",
       "«q_0: ┤ Rz(0.05*h_0) ├┤ Rz(0.05*h_0) ├┤0   ├┤0   ├┤0   ├┤ Rz(0.05*h_0) ├»\n",
       "«     ├──────────────┤├──────────────┤│    ││    ││    │├──────────────┤»\n",
       "«q_1: ┤ Rz(0.05*h_1) ├┤ Rz(0.05*h_1) ├┤1   ├┤1   ├┤1   ├┤ Rz(0.05*h_1) ├»\n",
       "«     ├──────────────┤├──────────────┤│    ││    ││    │├──────────────┤»\n",
       "«q_2: ┤ Rz(0.05*h_2) ├┤ Rz(0.05*h_2) ├┤2   ├┤2   ├┤2   ├┤ Rz(0.05*h_2) ├»\n",
       "«     ├──────────────┤├──────────────┤│  B ││  C ││  B │├──────────────┤»\n",
       "«q_3: ┤ Rz(0.05*h_3) ├┤ Rz(0.05*h_3) ├┤3   ├┤3   ├┤3   ├┤ Rz(0.05*h_3) ├»\n",
       "«     ├──────────────┤├──────────────┤│    ││    ││    │├──────────────┤»\n",
       "«q_4: ┤ Rz(0.05*h_4) ├┤ Rz(0.05*h_4) ├┤4   ├┤4   ├┤4   ├┤ Rz(0.05*h_4) ├»\n",
       "«     ├──────────────┤├──────────────┤│    ││    ││    │├──────────────┤»\n",
       "«q_5: ┤ Rz(0.05*h_5) ├┤ Rz(0.05*h_5) ├┤5   ├┤5   ├┤5   ├┤ Rz(0.05*h_5) ├»\n",
       "«     └──────────────┘└──────────────┘└────┘└────┘└────┘└──────────────┘»\n",
       "«c: 4/══════════════════════════════════════════════════════════════════»\n",
       "«                                                                       »\n",
       "«     ┌──────────────┐┌────┐┌────┐┌────┐┌──────────────┐┌──────────────┐┌────┐»\n",
       "«q_0: ┤ Rz(0.05*h_0) ├┤0   ├┤0   ├┤0   ├┤ Rz(0.05*h_0) ├┤ Rz(0.05*h_0) ├┤0   ├»\n",
       "«     ├──────────────┤│    ││    ││    │├──────────────┤├──────────────┤│    │»\n",
       "«q_1: ┤ Rz(0.05*h_1) ├┤1   ├┤1   ├┤1   ├┤ Rz(0.05*h_1) ├┤ Rz(0.05*h_1) ├┤1   ├»\n",
       "«     ├──────────────┤│    ││    ││    │├──────────────┤├──────────────┤│    │»\n",
       "«q_2: ┤ Rz(0.05*h_2) ├┤2   ├┤2   ├┤2   ├┤ Rz(0.05*h_2) ├┤ Rz(0.05*h_2) ├┤2   ├»\n",
       "«     ├──────────────┤│  B ││  C ││  B │├──────────────┤├──────────────┤│  B │»\n",
       "«q_3: ┤ Rz(0.05*h_3) ├┤3   ├┤3   ├┤3   ├┤ Rz(0.05*h_3) ├┤ Rz(0.05*h_3) ├┤3   ├»\n",
       "«     ├──────────────┤│    ││    ││    │├──────────────┤├──────────────┤│    │»\n",
       "«q_4: ┤ Rz(0.05*h_4) ├┤4   ├┤4   ├┤4   ├┤ Rz(0.05*h_4) ├┤ Rz(0.05*h_4) ├┤4   ├»\n",
       "«     ├──────────────┤│    ││    ││    │├──────────────┤├──────────────┤│    │»\n",
       "«q_5: ┤ Rz(0.05*h_5) ├┤5   ├┤5   ├┤5   ├┤ Rz(0.05*h_5) ├┤ Rz(0.05*h_5) ├┤5   ├»\n",
       "«     └──────────────┘└────┘└────┘└────┘└──────────────┘└──────────────┘└────┘»\n",
       "«c: 4/════════════════════════════════════════════════════════════════════════»\n",
       "«                                                                             »\n",
       "«     ┌────┐┌────┐┌──────────────┐┌──────────────┐┌────┐┌────┐┌────┐»\n",
       "«q_0: ┤0   ├┤0   ├┤ Rz(0.05*h_0) ├┤ Rz(0.05*h_0) ├┤0   ├┤0   ├┤0   ├»\n",
       "«     │    ││    │├──────────────┤├──────────────┤│    ││    ││    │»\n",
       "«q_1: ┤1   ├┤1   ├┤ Rz(0.05*h_1) ├┤ Rz(0.05*h_1) ├┤1   ├┤1   ├┤1   ├»\n",
       "«     │    ││    │├──────────────┤├──────────────┤│    ││    ││    │»\n",
       "«q_2: ┤2   ├┤2   ├┤ Rz(0.05*h_2) ├┤ Rz(0.05*h_2) ├┤2   ├┤2   ├┤2   ├»\n",
       "«     │  C ││  B │├──────────────┤├──────────────┤│  B ││  C ││  B │»\n",
       "«q_3: ┤3   ├┤3   ├┤ Rz(0.05*h_3) ├┤ Rz(0.05*h_3) ├┤3   ├┤3   ├┤3   ├»\n",
       "«     │    ││    │├──────────────┤├──────────────┤│    ││    ││    │»\n",
       "«q_4: ┤4   ├┤4   ├┤ Rz(0.05*h_4) ├┤ Rz(0.05*h_4) ├┤4   ├┤4   ├┤4   ├»\n",
       "«     │    ││    │├──────────────┤├──────────────┤│    ││    ││    │»\n",
       "«q_5: ┤5   ├┤5   ├┤ Rz(0.05*h_5) ├┤ Rz(0.05*h_5) ├┤5   ├┤5   ├┤5   ├»\n",
       "«     └────┘└────┘└──────────────┘└──────────────┘└────┘└────┘└────┘»\n",
       "«c: 4/══════════════════════════════════════════════════════════════»\n",
       "«                                                                   »\n",
       "«     ┌──────────────┐┌──────────────┐┌────┐┌────┐┌────┐┌──────────────┐»\n",
       "«q_0: ┤ Rz(0.05*h_0) ├┤ Rz(0.05*h_0) ├┤0   ├┤0   ├┤0   ├┤ Rz(0.05*h_0) ├»\n",
       "«     ├──────────────┤├──────────────┤│    ││    ││    │├──────────────┤»\n",
       "«q_1: ┤ Rz(0.05*h_1) ├┤ Rz(0.05*h_1) ├┤1   ├┤1   ├┤1   ├┤ Rz(0.05*h_1) ├»\n",
       "«     ├──────────────┤├──────────────┤│    ││    ││    │├──────────────┤»\n",
       "«q_2: ┤ Rz(0.05*h_2) ├┤ Rz(0.05*h_2) ├┤2   ├┤2   ├┤2   ├┤ Rz(0.05*h_2) ├»\n",
       "«     ├──────────────┤├──────────────┤│  B ││  C ││  B │├──────────────┤»\n",
       "«q_3: ┤ Rz(0.05*h_3) ├┤ Rz(0.05*h_3) ├┤3   ├┤3   ├┤3   ├┤ Rz(0.05*h_3) ├»\n",
       "«     ├──────────────┤├──────────────┤│    ││    ││    │├──────────────┤»\n",
       "«q_4: ┤ Rz(0.05*h_4) ├┤ Rz(0.05*h_4) ├┤4   ├┤4   ├┤4   ├┤ Rz(0.05*h_4) ├»\n",
       "«     ├──────────────┤├──────────────┤│    ││    ││    │├──────────────┤»\n",
       "«q_5: ┤ Rz(0.05*h_5) ├┤ Rz(0.05*h_5) ├┤5   ├┤5   ├┤5   ├┤ Rz(0.05*h_5) ├»\n",
       "«     └──────────────┘└──────────────┘└────┘└────┘└────┘└──────────────┘»\n",
       "«c: 4/══════════════════════════════════════════════════════════════════»\n",
       "«                                                                       »\n",
       "«     ┌──────────────┐┌────┐┌────┐┌────┐┌──────────────┐┌──────────────┐┌────┐»\n",
       "«q_0: ┤ Rz(0.05*h_0) ├┤0   ├┤0   ├┤0   ├┤ Rz(0.05*h_0) ├┤ Rz(0.05*h_0) ├┤0   ├»\n",
       "«     ├──────────────┤│    ││    ││    │├──────────────┤├──────────────┤│    │»\n",
       "«q_1: ┤ Rz(0.05*h_1) ├┤1   ├┤1   ├┤1   ├┤ Rz(0.05*h_1) ├┤ Rz(0.05*h_1) ├┤1   ├»\n",
       "«     ├──────────────┤│    ││    ││    │├──────────────┤├──────────────┤│    │»\n",
       "«q_2: ┤ Rz(0.05*h_2) ├┤2   ├┤2   ├┤2   ├┤ Rz(0.05*h_2) ├┤ Rz(0.05*h_2) ├┤2   ├»\n",
       "«     ├──────────────┤│  B ││  C ││  B │├──────────────┤├──────────────┤│  B │»\n",
       "«q_3: ┤ Rz(0.05*h_3) ├┤3   ├┤3   ├┤3   ├┤ Rz(0.05*h_3) ├┤ Rz(0.05*h_3) ├┤3   ├»\n",
       "«     ├──────────────┤│    ││    ││    │├──────────────┤├──────────────┤│    │»\n",
       "«q_4: ┤ Rz(0.05*h_4) ├┤4   ├┤4   ├┤4   ├┤ Rz(0.05*h_4) ├┤ Rz(0.05*h_4) ├┤4   ├»\n",
       "«     ├──────────────┤│    ││    ││    │├──────────────┤├──────────────┤│    │»\n",
       "«q_5: ┤ Rz(0.05*h_5) ├┤5   ├┤5   ├┤5   ├┤ Rz(0.05*h_5) ├┤ Rz(0.05*h_5) ├┤5   ├»\n",
       "«     └──────────────┘└────┘└────┘└────┘└──────────────┘└──────────────┘└────┘»\n",
       "«c: 4/════════════════════════════════════════════════════════════════════════»\n",
       "«                                                                             »\n",
       "«     ┌────┐┌────┐┌──────────────┐┌──────────────┐┌────┐┌────┐┌────┐»\n",
       "«q_0: ┤0   ├┤0   ├┤ Rz(0.05*h_0) ├┤ Rz(0.05*h_0) ├┤0   ├┤0   ├┤0   ├»\n",
       "«     │    ││    │├──────────────┤├──────────────┤│    ││    ││    │»\n",
       "«q_1: ┤1   ├┤1   ├┤ Rz(0.05*h_1) ├┤ Rz(0.05*h_1) ├┤1   ├┤1   ├┤1   ├»\n",
       "«     │    ││    │├──────────────┤├──────────────┤│    ││    ││    │»\n",
       "«q_2: ┤2   ├┤2   ├┤ Rz(0.05*h_2) ├┤ Rz(0.05*h_2) ├┤2   ├┤2   ├┤2   ├»\n",
       "«     │  C ││  B │├──────────────┤├──────────────┤│  B ││  C ││  B │»\n",
       "«q_3: ┤3   ├┤3   ├┤ Rz(0.05*h_3) ├┤ Rz(0.05*h_3) ├┤3   ├┤3   ├┤3   ├»\n",
       "«     │    ││    │├──────────────┤├──────────────┤│    ││    ││    │»\n",
       "«q_4: ┤4   ├┤4   ├┤ Rz(0.05*h_4) ├┤ Rz(0.05*h_4) ├┤4   ├┤4   ├┤4   ├»\n",
       "«     │    ││    │├──────────────┤├──────────────┤│    ││    ││    │»\n",
       "«q_5: ┤5   ├┤5   ├┤ Rz(0.05*h_5) ├┤ Rz(0.05*h_5) ├┤5   ├┤5   ├┤5   ├»\n",
       "«     └────┘└────┘└──────────────┘└──────────────┘└────┘└────┘└────┘»\n",
       "«c: 4/══════════════════════════════════════════════════════════════»\n",
       "«                                                                   »\n",
       "«     ┌──────────────┐┌──────────────┐┌────┐┌────┐┌────┐┌──────────────┐»\n",
       "«q_0: ┤ Rz(0.05*h_0) ├┤ Rz(0.05*h_0) ├┤0   ├┤0   ├┤0   ├┤ Rz(0.05*h_0) ├»\n",
       "«     ├──────────────┤├──────────────┤│    ││    ││    │├──────────────┤»\n",
       "«q_1: ┤ Rz(0.05*h_1) ├┤ Rz(0.05*h_1) ├┤1   ├┤1   ├┤1   ├┤ Rz(0.05*h_1) ├»\n",
       "«     ├──────────────┤├──────────────┤│    ││    ││    │├──────────────┤»\n",
       "«q_2: ┤ Rz(0.05*h_2) ├┤ Rz(0.05*h_2) ├┤2   ├┤2   ├┤2   ├┤ Rz(0.05*h_2) ├»\n",
       "«     ├──────────────┤├──────────────┤│  B ││  C ││  B │├──────────────┤»\n",
       "«q_3: ┤ Rz(0.05*h_3) ├┤ Rz(0.05*h_3) ├┤3   ├┤3   ├┤3   ├┤ Rz(0.05*h_3) ├»\n",
       "«     ├──────────────┤├──────────────┤│    ││    ││    │├──────────────┤»\n",
       "«q_4: ┤ Rz(0.05*h_4) ├┤ Rz(0.05*h_4) ├┤4   ├┤4   ├┤4   ├┤ Rz(0.05*h_4) ├»\n",
       "«     ├──────────────┤├──────────────┤│    ││    ││    │├──────────────┤»\n",
       "«q_5: ┤ Rz(0.05*h_5) ├┤ Rz(0.05*h_5) ├┤5   ├┤5   ├┤5   ├┤ Rz(0.05*h_5) ├»\n",
       "«     └──────────────┘└──────────────┘└────┘└────┘└────┘└──────────────┘»\n",
       "«c: 4/══════════════════════════════════════════════════════════════════»\n",
       "«                                                                       »\n",
       "«     ┌──────────────┐┌────┐┌────┐┌────┐┌──────────────┐┌──────────────┐┌────┐»\n",
       "«q_0: ┤ Rz(0.05*h_0) ├┤0   ├┤0   ├┤0   ├┤ Rz(0.05*h_0) ├┤ Rz(0.05*h_0) ├┤0   ├»\n",
       "«     ├──────────────┤│    ││    ││    │├──────────────┤├──────────────┤│    │»\n",
       "«q_1: ┤ Rz(0.05*h_1) ├┤1   ├┤1   ├┤1   ├┤ Rz(0.05*h_1) ├┤ Rz(0.05*h_1) ├┤1   ├»\n",
       "«     ├──────────────┤│    ││    ││    │├──────────────┤├──────────────┤│    │»\n",
       "«q_2: ┤ Rz(0.05*h_2) ├┤2   ├┤2   ├┤2   ├┤ Rz(0.05*h_2) ├┤ Rz(0.05*h_2) ├┤2   ├»\n",
       "«     ├──────────────┤│  B ││  C ││  B │├──────────────┤├──────────────┤│  B │»\n",
       "«q_3: ┤ Rz(0.05*h_3) ├┤3   ├┤3   ├┤3   ├┤ Rz(0.05*h_3) ├┤ Rz(0.05*h_3) ├┤3   ├»\n",
       "«     ├──────────────┤│    ││    ││    │├──────────────┤├──────────────┤│    │»\n",
       "«q_4: ┤ Rz(0.05*h_4) ├┤4   ├┤4   ├┤4   ├┤ Rz(0.05*h_4) ├┤ Rz(0.05*h_4) ├┤4   ├»\n",
       "«     ├──────────────┤│    ││    ││    │├──────────────┤├──────────────┤│    │»\n",
       "«q_5: ┤ Rz(0.05*h_5) ├┤5   ├┤5   ├┤5   ├┤ Rz(0.05*h_5) ├┤ Rz(0.05*h_5) ├┤5   ├»\n",
       "«     └──────────────┘└────┘└────┘└────┘└──────────────┘└──────────────┘└────┘»\n",
       "«c: 4/════════════════════════════════════════════════════════════════════════»\n",
       "«                                                                             »\n",
       "«     ┌────┐┌────┐┌──────────────┐┌──────────────┐┌────┐┌────┐┌────┐»\n",
       "«q_0: ┤0   ├┤0   ├┤ Rz(0.05*h_0) ├┤ Rz(0.05*h_0) ├┤0   ├┤0   ├┤0   ├»\n",
       "«     │    ││    │├──────────────┤├──────────────┤│    ││    ││    │»\n",
       "«q_1: ┤1   ├┤1   ├┤ Rz(0.05*h_1) ├┤ Rz(0.05*h_1) ├┤1   ├┤1   ├┤1   ├»\n",
       "«     │    ││    │├──────────────┤├──────────────┤│    ││    ││    │»\n",
       "«q_2: ┤2   ├┤2   ├┤ Rz(0.05*h_2) ├┤ Rz(0.05*h_2) ├┤2   ├┤2   ├┤2   ├»\n",
       "«     │  C ││  B │├──────────────┤├──────────────┤│  B ││  C ││  B │»\n",
       "«q_3: ┤3   ├┤3   ├┤ Rz(0.05*h_3) ├┤ Rz(0.05*h_3) ├┤3   ├┤3   ├┤3   ├»\n",
       "«     │    ││    │├──────────────┤├──────────────┤│    ││    ││    │»\n",
       "«q_4: ┤4   ├┤4   ├┤ Rz(0.05*h_4) ├┤ Rz(0.05*h_4) ├┤4   ├┤4   ├┤4   ├»\n",
       "«     │    ││    │├──────────────┤├──────────────┤│    ││    ││    │»\n",
       "«q_5: ┤5   ├┤5   ├┤ Rz(0.05*h_5) ├┤ Rz(0.05*h_5) ├┤5   ├┤5   ├┤5   ├»\n",
       "«     └────┘└────┘└──────────────┘└──────────────┘└────┘└────┘└────┘»\n",
       "«c: 4/══════════════════════════════════════════════════════════════»\n",
       "«                                                                   »\n",
       "«     ┌──────────────┐┌──────────────┐┌────┐┌────┐┌────┐┌──────────────┐\n",
       "«q_0: ┤ Rz(0.05*h_0) ├┤ Rz(0.05*h_0) ├┤0   ├┤0   ├┤0   ├┤ Rz(0.05*h_0) ├\n",
       "«     ├──────────────┤├──────────────┤│    ││    ││    │├──────────────┤\n",
       "«q_1: ┤ Rz(0.05*h_1) ├┤ Rz(0.05*h_1) ├┤1   ├┤1   ├┤1   ├┤ Rz(0.05*h_1) ├\n",
       "«     ├──────────────┤├──────────────┤│    ││    ││    │├──────────────┤\n",
       "«q_2: ┤ Rz(0.05*h_2) ├┤ Rz(0.05*h_2) ├┤2   ├┤2   ├┤2   ├┤ Rz(0.05*h_2) ├\n",
       "«     ├──────────────┤├──────────────┤│  B ││  C ││  B │├──────────────┤\n",
       "«q_3: ┤ Rz(0.05*h_3) ├┤ Rz(0.05*h_3) ├┤3   ├┤3   ├┤3   ├┤ Rz(0.05*h_3) ├\n",
       "«     ├──────────────┤├──────────────┤│    ││    ││    │├──────────────┤\n",
       "«q_4: ┤ Rz(0.05*h_4) ├┤ Rz(0.05*h_4) ├┤4   ├┤4   ├┤4   ├┤ Rz(0.05*h_4) ├\n",
       "«     ├──────────────┤├──────────────┤│    ││    ││    │├──────────────┤\n",
       "«q_5: ┤ Rz(0.05*h_5) ├┤ Rz(0.05*h_5) ├┤5   ├┤5   ├┤5   ├┤ Rz(0.05*h_5) ├\n",
       "«     └──────────────┘└──────────────┘└────┘└────┘└────┘└──────────────┘\n",
       "«c: 4/══════════════════════════════════════════════════════════════════\n",
       "«                                                                       "
      ]
     },
     "execution_count": 31,
     "metadata": {},
     "output_type": "execute_result"
    }
   ],
   "source": [
    "#======================================Start of Configurations=================================\n",
    "n_qubits = 6 # We use 6 qubits, two hidden\n",
    "n_h_qubits = 2\n",
    "n_show_qubits = n_qubits-n_h_qubits\n",
    "x_basis_m_n = torch.FloatTensor(Utils.binary_basis((n_show_qubits,))) \n",
    "sigma_list = [0.1,0.25,4,10]\n",
    "K = Utils.mix_rbf_kernel(x_basis_m_n, x_basis_m_n, sigma_list)\n",
    "connections = [(0, 1), (1, 2), (2, 3), (3, 4), (4, 5), (5,0)]\n",
    "print('connection scheme', connections)\n",
    " \n",
    "simulator = qiskit.Aer.get_backend('statevector_simulator')\n",
    "\n",
    "# t_m is the duration of each quench temperature, one delta_t time corresponds to one\n",
    "# There is no quenche layers set up when you first call the circuit initialization:\n",
    "circuit0 = qkc.MBL_Circuit_quench(delta_t=0.05, t_m=1.0, Jxy=1.0, Jzz=1.0, \n",
    "                                  n_qubits=n_qubits, n_h_qubits=n_h_qubits, \n",
    "                                  connections=connections, backend=simulator)\n",
    "circuit0._circuit.draw()"
   ]
  },
  {
   "cell_type": "code",
   "execution_count": 32,
   "metadata": {},
   "outputs": [
    {
     "data": {
      "text/plain": [
       "Text(0.5, 1.0, 'target distribution')"
      ]
     },
     "execution_count": 32,
     "metadata": {},
     "output_type": "execute_result"
    },
    {
     "data": {
      "image/png": "[encoded data removed]",
      "text/plain": [
       "<Figure size 432x288 with 1 Axes>"
      ]
     },
     "metadata": {
      "needs_background": "light"
     },
     "output_type": "display_data"
    }
   ],
   "source": [
    "#======================================Create p_data==========================================\n",
    "hdim = 2**n_show_qubits\n",
    "p_data = torch.FloatTensor(Utils.gaussian_pdf((n_show_qubits,), hdim/2., hdim/4.))\n",
    "plt.plot(p_data, '*')\n",
    "plt.title('target distribution')\n"
   ]
  },
  {
   "cell_type": "code",
   "execution_count": 33,
   "metadata": {},
   "outputs": [
    {
     "data": {
      "text/plain": [
       "tensor(1.0000)"
      ]
     },
     "execution_count": 33,
     "metadata": {},
     "output_type": "execute_result"
    }
   ],
   "source": [
    "sum(p_data)"
   ]
  },
  {
   "cell_type": "code",
   "execution_count": 34,
   "metadata": {},
   "outputs": [
    {
     "data": {
      "text/plain": [
       "'111000'"
      ]
     },
     "execution_count": 34,
     "metadata": {},
     "output_type": "execute_result"
    }
   ],
   "source": [
    "'1'*int(n_qubits/2)+'0'*int(n_qubits/2)"
   ]
  },
  {
   "cell_type": "markdown",
   "metadata": {},
   "source": [
    "Fast: training loop with saved statevector at each quench"
   ]
  },
  {
   "cell_type": "code",
   "execution_count": 35,
   "metadata": {},
   "outputs": [
    {
     "name": "stdout",
     "output_type": "stream",
     "text": [
      "wallstate Statevector([0.+0.j, 0.+0.j, 0.+0.j, 0.+0.j, 0.+0.j, 0.+0.j, 0.+0.j,\n",
      "             0.+0.j, 0.+0.j, 0.+0.j, 0.+0.j, 0.+0.j, 0.+0.j, 0.+0.j,\n",
      "             0.+0.j, 0.+0.j, 0.+0.j, 0.+0.j, 0.+0.j, 0.+0.j, 0.+0.j,\n",
      "             0.+0.j, 0.+0.j, 0.+0.j, 0.+0.j, 0.+0.j, 0.+0.j, 0.+0.j,\n",
      "             0.+0.j, 0.+0.j, 0.+0.j, 0.+0.j, 0.+0.j, 0.+0.j, 0.+0.j,\n",
      "             0.+0.j, 0.+0.j, 0.+0.j, 0.+0.j, 0.+0.j, 0.+0.j, 0.+0.j,\n",
      "             0.+0.j, 0.+0.j, 0.+0.j, 0.+0.j, 0.+0.j, 0.+0.j, 0.+0.j,\n",
      "             0.+0.j, 0.+0.j, 0.+0.j, 0.+0.j, 0.+0.j, 0.+0.j, 0.+0.j,\n",
      "             1.+0.j, 0.+0.j, 0.+0.j, 0.+0.j, 0.+0.j, 0.+0.j, 0.+0.j,\n",
      "             0.+0.j],\n",
      "            dims=(2, 2, 2, 2, 2, 2))\n"
     ]
    }
   ],
   "source": [
    "M = 100 # Total number of quenches\n",
    "n_branches = 500 # number of search branches at each quench\n",
    "hd = 20 # Range of the randomly selected localization conef [-hd, +hd]\n",
    "training_losses = [] # To record the best mmd out of all candidate points at each quench m\n",
    "training_losses_th = []\n",
    "# Prepare the initial domain wall state via statevec\n",
    "state = qiskit.quantum_info.Statevector.from_label('1'*int(n_qubits/2)+'0'*int(n_qubits/2))\n",
    "print('wallstate', state)\n",
    "psi_m = state.data"
   ]
  },
  {
   "cell_type": "markdown",
   "metadata": {},
   "source": [
    "Theoretical quench"
   ]
  },
  {
   "cell_type": "code",
   "execution_count": 36,
   "metadata": {},
   "outputs": [
    {
     "name": "stdout",
     "output_type": "stream",
     "text": [
      "ind_t, best theoretical mmd (271, tensor(0.9186))\n",
      "difference -1.049943654246845\n",
      "time 3.9855799674987793\n",
      "ind_t, best theoretical mmd (462, tensor(0.3262))\n",
      "difference -0.612558875261004\n",
      "time 4.455725908279419\n",
      "ind_t, best theoretical mmd (197, tensor(0.1722))\n",
      "difference -1.1236291820271154\n",
      "time 5.271892309188843\n",
      "ind_t, best theoretical mmd (49, tensor(0.0788))\n",
      "difference -0.17988994124376048\n",
      "time 4.726837158203125\n",
      "ind_t, best theoretical mmd (445, tensor(0.0636))\n",
      "difference -0.07657590137440601\n",
      "time 4.856616258621216\n",
      "ind_t, best theoretical mmd (227, tensor(0.0437))\n",
      "difference -0.11395734814640567\n",
      "time 4.790410041809082\n",
      "ind_t, best theoretical mmd (399, tensor(0.0378))\n",
      "difference -0.005817065793234946\n",
      "time 4.760508060455322\n",
      "ind_t, best theoretical mmd (114, tensor(0.0275))\n",
      "difference -0.0294471158157973\n",
      "time 4.764832973480225\n",
      "ind_t, best theoretical mmd (491, tensor(0.0192))\n",
      "difference -0.03127439927074842\n",
      "time 4.644129037857056\n",
      "ind_t, best theoretical mmd (341, tensor(0.0122))\n",
      "difference -0.010567019165048583\n",
      "time 4.658468246459961\n",
      "ind_t, best theoretical mmd (276, tensor(0.0110))\n",
      "difference 2.993212755600383e-05\n",
      "time 4.678788900375366\n",
      "ind_t, best theoretical mmd (312, tensor(0.0074))\n",
      "difference -0.06284746821708515\n",
      "time 4.621265172958374\n",
      "ind_t, best theoretical mmd (159, tensor(0.0059))\n",
      "difference -0.01980475990449805\n",
      "time 4.720219850540161\n",
      "ind_t, best theoretical mmd (28, tensor(0.0045))\n",
      "difference -0.010829832337599085\n",
      "time 4.696527004241943\n",
      "ind_t, best theoretical mmd (204, tensor(0.0036))\n",
      "difference 0.0387034628207609\n",
      "time 4.686398983001709\n",
      "ind_t, best theoretical mmd (160, tensor(0.0031))\n",
      "difference -0.0015975722101370243\n",
      "time 4.701481819152832\n",
      "ind_t, best theoretical mmd (379, tensor(0.0030))\n",
      "difference 0.15790167004111497\n",
      "time 4.859251022338867\n",
      "ind_t, best theoretical mmd (496, tensor(0.0027))\n",
      "difference -0.0030211092069500275\n",
      "time 4.798547029495239\n",
      "ind_t, best theoretical mmd (248, tensor(0.0026))\n",
      "difference 0.018978148507668907\n",
      "time 4.81169319152832\n",
      "ind_t, best theoretical mmd (255, tensor(0.0025))\n",
      "difference 0.0032546521573277656\n",
      "time 4.851699113845825\n",
      "ind_t, best theoretical mmd (165, tensor(0.0028))\n",
      "difference -0.015125790081639445\n",
      "time 4.662442922592163\n",
      "ind_t, best theoretical mmd (147, tensor(0.0028))\n",
      "difference 0.01974931776199481\n",
      "time 4.830857038497925\n",
      "ind_t, best theoretical mmd (352, tensor(0.0023))\n",
      "difference -0.0022781069236543702\n",
      "time 4.777207851409912\n",
      "ind_t, best theoretical mmd (293, tensor(0.0022))\n",
      "difference 0.0018589111675930588\n",
      "time 4.7798449993133545\n",
      "ind_t, best theoretical mmd (476, tensor(0.0024))\n",
      "difference -0.002369220224569351\n",
      "time 4.649325132369995\n",
      "ind_t, best theoretical mmd (469, tensor(0.0023))\n",
      "difference 0.02734292529516809\n",
      "time 4.713939189910889\n",
      "ind_t, best theoretical mmd (62, tensor(0.0021))\n",
      "difference 0.009239724313800261\n",
      "time 4.683577060699463\n",
      "ind_t, best theoretical mmd (250, tensor(0.0020))\n",
      "difference 0.0013879014927625707\n",
      "time 4.7806360721588135\n",
      "ind_t, best theoretical mmd (444, tensor(0.0018))\n",
      "difference -0.01283012485745165\n",
      "time 4.781002044677734\n",
      "ind_t, best theoretical mmd (73, tensor(0.0020))\n",
      "difference 0.03335173554089313\n",
      "time 4.754587173461914\n",
      "ind_t, best theoretical mmd (483, tensor(0.0020))\n",
      "difference -0.013471688594193842\n",
      "time 5.153747320175171\n",
      "ind_t, best theoretical mmd (90, tensor(0.0018))\n",
      "difference -0.0019158273524277382\n",
      "time 5.442105770111084\n",
      "ind_t, best theoretical mmd (319, tensor(0.0019))\n",
      "difference -0.00979159116686712\n",
      "time 5.870835065841675\n",
      "ind_t, best theoretical mmd (407, tensor(0.0021))\n",
      "difference -0.017101117654205876\n",
      "time 6.212571144104004\n",
      "ind_t, best theoretical mmd (66, tensor(0.0021))\n",
      "difference -0.04371880622683525\n",
      "time 4.640800952911377\n",
      "ind_t, best theoretical mmd (288, tensor(0.0022))\n",
      "difference -0.08426885011204166\n",
      "time 5.36235499382019\n",
      "ind_t, best theoretical mmd (412, tensor(0.0022))\n",
      "difference 0.0066814617168456936\n",
      "time 4.688865900039673\n",
      "ind_t, best theoretical mmd (283, tensor(0.0021))\n",
      "difference 0.16843302507057958\n",
      "time 4.785795211791992\n",
      "ind_t, best theoretical mmd (226, tensor(0.0021))\n",
      "difference -0.06813481829370312\n",
      "time 4.659087181091309\n",
      "ind_t, best theoretical mmd (5, tensor(0.0020))\n",
      "difference 0.008213974120732596\n",
      "time 4.671290159225464\n",
      "ind_t, best theoretical mmd (387, tensor(0.0020))\n",
      "difference -0.006006383968183357\n",
      "time 4.727904796600342\n",
      "ind_t, best theoretical mmd (45, tensor(0.0021))\n",
      "difference -0.011781839780641762\n",
      "time 5.126420974731445\n",
      "ind_t, best theoretical mmd (210, tensor(0.0024))\n",
      "difference -0.035818738707155004\n",
      "time 6.160676956176758\n",
      "ind_t, best theoretical mmd (466, tensor(0.0021))\n",
      "difference -0.017721168052154943\n",
      "time 4.756076097488403\n",
      "ind_t, best theoretical mmd (343, tensor(0.0021))\n",
      "difference 0.010781893931527425\n",
      "time 4.645923137664795\n",
      "ind_t, best theoretical mmd (30, tensor(0.0023))\n",
      "difference 0.0385213084578649\n",
      "time 4.637887954711914\n",
      "ind_t, best theoretical mmd (398, tensor(0.0021))\n",
      "difference 0.007456247632053582\n",
      "time 4.743220090866089\n",
      "ind_t, best theoretical mmd (483, tensor(0.0020))\n",
      "difference -0.05705044756946209\n",
      "time 4.840804100036621\n",
      "ind_t, best theoretical mmd (414, tensor(0.0018))\n",
      "difference -0.011731496171063942\n",
      "time 5.4499499797821045\n",
      "ind_t, best theoretical mmd (44, tensor(0.0020))\n",
      "difference 0.004003216974915846\n",
      "time 4.869188070297241\n",
      "ind_t, best theoretical mmd (167, tensor(0.0018))\n",
      "difference -0.004266518927872082\n",
      "time 4.647541046142578\n",
      "ind_t, best theoretical mmd (204, tensor(0.0019))\n",
      "difference -0.0018784231133366427\n",
      "time 4.692245960235596\n",
      "ind_t, best theoretical mmd (8, tensor(0.0019))\n",
      "difference 0.000801273503794192\n",
      "time 4.617040157318115\n",
      "ind_t, best theoretical mmd (146, tensor(0.0020))\n",
      "difference -0.005767396931722679\n",
      "time 5.050563097000122\n",
      "ind_t, best theoretical mmd (153, tensor(0.0020))\n",
      "difference 0.005644445862626468\n",
      "time 5.281890153884888\n",
      "ind_t, best theoretical mmd (340, tensor(0.0021))\n",
      "difference -0.044749866124636384\n",
      "time 4.833451986312866\n",
      "ind_t, best theoretical mmd (297, tensor(0.0020))\n",
      "difference -0.023747681753855963\n",
      "time 5.166683912277222\n",
      "ind_t, best theoretical mmd (486, tensor(0.0021))\n",
      "difference 0.029477521858573035\n",
      "time 4.840180397033691\n",
      "ind_t, best theoretical mmd (364, tensor(0.0021))\n",
      "difference 0.05731085164385312\n",
      "time 4.965481996536255\n",
      "ind_t, best theoretical mmd (284, tensor(0.0021))\n",
      "difference -0.039712931641917144\n",
      "time 5.21447491645813\n",
      "ind_t, best theoretical mmd (168, tensor(0.0022))\n",
      "difference -0.04060376933435785\n",
      "time 5.234665870666504\n",
      "ind_t, best theoretical mmd (99, tensor(0.0020))\n",
      "difference -0.013062271163900102\n",
      "time 5.028698921203613\n",
      "ind_t, best theoretical mmd (464, tensor(0.0019))\n",
      "difference 0.005893956987746168\n",
      "time 5.147713899612427\n",
      "ind_t, best theoretical mmd (467, tensor(0.0017))\n",
      "difference -0.00022017729945117415\n",
      "time 5.2588441371917725\n",
      "ind_t, best theoretical mmd (403, tensor(0.0019))\n",
      "difference -0.029553510820996845\n",
      "time 6.591847896575928\n",
      "ind_t, best theoretical mmd (269, tensor(0.0018))\n",
      "difference 0.034982481699721804\n",
      "time 6.005239963531494\n",
      "ind_t, best theoretical mmd (224, tensor(0.0019))\n",
      "difference -0.018626068178912034\n",
      "time 5.336201906204224\n",
      "ind_t, best theoretical mmd (424, tensor(0.0019))\n",
      "difference 0.016351808801224013\n",
      "time 5.048600912094116\n",
      "ind_t, best theoretical mmd (204, tensor(0.0022))\n",
      "difference -0.024036170656476882\n",
      "time 5.11898398399353\n",
      "ind_t, best theoretical mmd (415, tensor(0.0022))\n",
      "difference -0.0022143020219085874\n",
      "time 4.8019678592681885\n",
      "ind_t, best theoretical mmd (311, tensor(0.0023))\n",
      "difference -0.03182190321078028\n",
      "time 4.919985771179199\n",
      "ind_t, best theoretical mmd (81, tensor(0.0023))\n",
      "difference 0.09170726193161888\n",
      "time 4.953418970108032\n",
      "ind_t, best theoretical mmd (247, tensor(0.0025))\n",
      "difference 0.031943468839964476\n",
      "time 4.8946449756622314\n",
      "ind_t, best theoretical mmd (497, tensor(0.0026))\n",
      "difference 2.896627907379712e-05\n",
      "time 4.767494201660156\n",
      "ind_t, best theoretical mmd (113, tensor(0.0026))\n",
      "difference -0.013009993848009473\n",
      "time 4.704538106918335\n",
      "ind_t, best theoretical mmd (21, tensor(0.0022))\n",
      "difference -0.032281346419815754\n",
      "time 4.927328824996948\n",
      "ind_t, best theoretical mmd (161, tensor(0.0020))\n",
      "difference 0.12850440279313793\n",
      "time 5.125917911529541\n",
      "ind_t, best theoretical mmd (407, tensor(0.0020))\n",
      "difference 0.011483747343324004\n",
      "time 5.357985019683838\n"
     ]
    },
    {
     "name": "stdout",
     "output_type": "stream",
     "text": [
      "ind_t, best theoretical mmd (240, tensor(0.0018))\n",
      "difference 0.008235898495216644\n",
      "time 5.164157867431641\n",
      "ind_t, best theoretical mmd (17, tensor(0.0019))\n",
      "difference -0.0013308859391218432\n",
      "time 4.801113128662109\n",
      "ind_t, best theoretical mmd (55, tensor(0.0019))\n",
      "difference -0.1624302792187839\n",
      "time 4.92924427986145\n",
      "ind_t, best theoretical mmd (429, tensor(0.0018))\n",
      "difference 0.005307279686615443\n",
      "time 4.896260976791382\n",
      "ind_t, best theoretical mmd (473, tensor(0.0021))\n",
      "difference -0.019439974020606543\n",
      "time 4.817888021469116\n",
      "ind_t, best theoretical mmd (491, tensor(0.0020))\n",
      "difference 0.0008574979763167068\n",
      "time 5.2786571979522705\n",
      "ind_t, best theoretical mmd (55, tensor(0.0019))\n",
      "difference 0.018330543851865003\n",
      "time 5.093234300613403\n",
      "ind_t, best theoretical mmd (79, tensor(0.0018))\n",
      "difference 0.0022412008236305046\n",
      "time 4.960825204849243\n",
      "ind_t, best theoretical mmd (228, tensor(0.0021))\n",
      "difference -0.011878066716844653\n",
      "time 4.980525970458984\n",
      "ind_t, best theoretical mmd (181, tensor(0.0020))\n",
      "difference 0.028630860392637833\n",
      "time 4.919419288635254\n",
      "ind_t, best theoretical mmd (55, tensor(0.0020))\n",
      "difference 0.025269923329708815\n",
      "time 4.931191921234131\n",
      "ind_t, best theoretical mmd (465, tensor(0.0021))\n",
      "difference 0.00735836058308873\n",
      "time 4.910459756851196\n",
      "ind_t, best theoretical mmd (34, tensor(0.0024))\n",
      "difference -0.0009260485347424661\n",
      "time 4.933993816375732\n",
      "ind_t, best theoretical mmd (196, tensor(0.0023))\n",
      "difference -0.010517811499840088\n",
      "time 4.955130100250244\n",
      "ind_t, best theoretical mmd (319, tensor(0.0026))\n",
      "difference -0.012048249646229137\n",
      "time 4.912274122238159\n",
      "ind_t, best theoretical mmd (242, tensor(0.0024))\n",
      "difference -0.02147050871700247\n",
      "time 4.946290016174316\n",
      "ind_t, best theoretical mmd (61, tensor(0.0020))\n",
      "difference 0.003240995065847019\n",
      "time 4.914122819900513\n",
      "ind_t, best theoretical mmd (199, tensor(0.0020))\n",
      "difference 0.0033469693902430236\n",
      "time 4.9608917236328125\n",
      "ind_t, best theoretical mmd (310, tensor(0.0021))\n",
      "difference 0.022176311487241425\n",
      "time 4.956918954849243\n",
      "ind_t, best theoretical mmd (34, tensor(0.0019))\n",
      "difference 0.00638780404508987\n",
      "time 5.001302003860474\n",
      "ind_t, best theoretical mmd (388, tensor(0.0020))\n",
      "difference -0.0026590370097447254\n",
      "time 4.901947021484375\n",
      "ind_t, best theoretical mmd (260, tensor(0.0021))\n",
      "difference 0.08026806722177997\n",
      "time 4.939970016479492\n"
     ]
    }
   ],
   "source": [
    "states_th = []\n",
    "probs_th = []\n",
    "for m in range(M):\n",
    "    t0 = time.time()\n",
    "\n",
    "    # First randomly select candidate configurations of hz for quench m:\n",
    "    \n",
    "    mmds_theoretical= []\n",
    "    \n",
    "    disorder_m_array = []\n",
    "    for b in range(n_branches):\n",
    "        # Only randomly earch prameterse for this specific quench\n",
    "        disorder_m = np.random.rand(n_qubits)\n",
    "        #print('disorder_m', disorder_m)\n",
    "        # theoretical:\n",
    "        H_total = realization(H_XXZ, basis, disorder_m, hd)\n",
    "        psi_m_candidate = H_total.evolve(psi_m, 0.0, 1.0)\n",
    "        px_theoretical = reduced_prob(psi_m_candidate)\n",
    "        \n",
    "        disorder_m_array.append(disorder_m) # keep a record of this for debugging\n",
    "        \n",
    "        pxy = p_data-torch.FloatTensor(px_theoretical)\n",
    "        mmd_distance_theoretical = pxy@K@(pxy.T)\n",
    "        mmds_theoretical.append(mmd_distance_theoretical)\n",
    "    \n",
    "    # Select best:\n",
    "    ind_theoretical = np.argmin(mmds_theoretical)\n",
    "    print('ind_t, best theoretical mmd', (ind_theoretical, mmds_theoretical[ind_theoretical]) )\n",
    "    \n",
    "    \n",
    "    training_losses.append(mmds_theoretical[ind_theoretical])\n",
    "    # Recalculate the best evolved state for the next quench\n",
    "    H_total = realization(H_XXZ, basis, disorder_m_array[ind_theoretical], hd)\n",
    "    \n",
    "    print('difference', sum(np.abs(psi_m)-np.abs(H_total.evolve(psi_m, 0.0, 1.0))) )\n",
    "    psi_m = H_total.evolve(psi_m, 0.0, 1.0)\n",
    "    px_theoretical = reduced_prob(psi_m)\n",
    "    \n",
    "    states_th.append(psi_m)\n",
    "    probs_th.append(px_theoretical)\n",
    "    t1 = time.time()\n",
    "    print('time', t1-t0)"
   ]
  },
  {
   "cell_type": "code",
   "execution_count": 38,
   "metadata": {},
   "outputs": [
    {
     "data": {
      "text/plain": [
       "Text(0.5, 1.0, 'px of MBL with exact diag last quench m')"
      ]
     },
     "execution_count": 38,
     "metadata": {},
     "output_type": "execute_result"
    },
    {
     "data": {
      "image/png": "[encoded data removed]",
      "text/plain": [
       "<Figure size 432x288 with 1 Axes>"
      ]
     },
     "metadata": {
      "needs_background": "light"
     },
     "output_type": "display_data"
    }
   ],
   "source": [
    "plt.plot(px_theoretical)\n",
    "plt.title('px of MBL with exact diag last quench m')"
   ]
  },
  {
   "cell_type": "markdown",
   "metadata": {},
   "source": [
    "Circuit trotterization quench"
   ]
  },
  {
   "cell_type": "code",
   "execution_count": 21,
   "metadata": {},
   "outputs": [
    {
     "name": "stdout",
     "output_type": "stream",
     "text": [
      "ind, best mmd (48, tensor(0.2857))\n",
      "time 51.10447907447815\n",
      "ind, best mmd (202, tensor(0.0999))\n",
      "time 48.66359186172485\n",
      "ind, best mmd (85, tensor(0.0505))\n",
      "time 48.1865508556366\n",
      "ind, best mmd (293, tensor(0.0403))\n",
      "time 48.25761103630066\n",
      "ind, best mmd (214, tensor(0.0291))\n",
      "time 47.17266607284546\n",
      "ind, best mmd (456, tensor(0.0197))\n",
      "time 48.15145993232727\n",
      "ind, best mmd (144, tensor(0.0109))\n",
      "time 48.87608599662781\n",
      "ind, best mmd (84, tensor(0.0098))\n",
      "time 47.869433879852295\n",
      "ind, best mmd (290, tensor(0.0059))\n",
      "time 49.637941122055054\n",
      "ind, best mmd (312, tensor(0.0056))\n",
      "time 48.74694776535034\n",
      "ind, best mmd (299, tensor(0.0067))\n",
      "time 49.97511386871338\n",
      "ind, best mmd (380, tensor(0.0059))\n",
      "time 50.17441701889038\n",
      "ind, best mmd (262, tensor(0.0056))\n",
      "time 47.98753309249878\n",
      "ind, best mmd (171, tensor(0.0054))\n",
      "time 48.08664393424988\n",
      "ind, best mmd (67, tensor(0.0049))\n",
      "time 48.702940225601196\n",
      "ind, best mmd (394, tensor(0.0049))\n",
      "time 49.234007120132446\n",
      "ind, best mmd (186, tensor(0.0046))\n",
      "time 48.04928493499756\n",
      "ind, best mmd (273, tensor(0.0043))\n",
      "time 48.85980987548828\n",
      "ind, best mmd (241, tensor(0.0041))\n",
      "time 48.0016188621521\n",
      "ind, best mmd (403, tensor(0.0053))\n",
      "time 48.106131076812744\n",
      "ind, best mmd (143, tensor(0.0048))\n",
      "time 48.81149697303772\n",
      "ind, best mmd (468, tensor(0.0041))\n",
      "time 48.10171604156494\n",
      "ind, best mmd (130, tensor(0.0043))\n",
      "time 46.50417494773865\n",
      "ind, best mmd (474, tensor(0.0044))\n",
      "time 46.082300901412964\n",
      "ind, best mmd (459, tensor(0.0054))\n",
      "time 46.20406770706177\n",
      "ind, best mmd (245, tensor(0.0053))\n",
      "time 46.126914739608765\n",
      "ind, best mmd (44, tensor(0.0045))\n",
      "time 46.17660212516785\n",
      "ind, best mmd (105, tensor(0.0055))\n",
      "time 46.09507489204407\n",
      "ind, best mmd (245, tensor(0.0044))\n",
      "time 46.13943886756897\n",
      "ind, best mmd (260, tensor(0.0050))\n",
      "time 46.105775117874146\n",
      "ind, best mmd (377, tensor(0.0047))\n",
      "time 46.1424880027771\n",
      "ind, best mmd (427, tensor(0.0048))\n",
      "time 46.19849705696106\n",
      "ind, best mmd (236, tensor(0.0050))\n",
      "time 46.050302028656006\n",
      "ind, best mmd (358, tensor(0.0048))\n",
      "time 46.12983012199402\n",
      "ind, best mmd (321, tensor(0.0051))\n",
      "time 46.181222915649414\n",
      "ind, best mmd (34, tensor(0.0060))\n",
      "time 46.11816596984863\n",
      "ind, best mmd (333, tensor(0.0050))\n",
      "time 46.102656841278076\n",
      "ind, best mmd (71, tensor(0.0051))\n",
      "time 50.46369981765747\n",
      "ind, best mmd (467, tensor(0.0047))\n",
      "time 48.9092230796814\n",
      "ind, best mmd (401, tensor(0.0042))\n",
      "time 48.42159700393677\n",
      "ind, best mmd (183, tensor(0.0045))\n",
      "time 47.94874906539917\n",
      "ind, best mmd (326, tensor(0.0034))\n",
      "time 49.05838227272034\n",
      "ind, best mmd (463, tensor(0.0040))\n",
      "time 48.220865964889526\n",
      "ind, best mmd (497, tensor(0.0050))\n",
      "time 48.10989189147949\n",
      "ind, best mmd (343, tensor(0.0049))\n",
      "time 48.012425899505615\n",
      "ind, best mmd (108, tensor(0.0043))\n",
      "time 48.01355504989624\n",
      "ind, best mmd (1, tensor(0.0046))\n",
      "time 48.11385488510132\n",
      "ind, best mmd (475, tensor(0.0037))\n",
      "time 47.98276710510254\n",
      "ind, best mmd (137, tensor(0.0030))\n",
      "time 47.99767804145813\n",
      "ind, best mmd (114, tensor(0.0036))\n",
      "time 48.22605109214783\n",
      "ind, best mmd (71, tensor(0.0035))\n",
      "time 54.10453701019287\n",
      "ind, best mmd (264, tensor(0.0043))\n",
      "time 52.491891860961914\n",
      "ind, best mmd (344, tensor(0.0038))\n",
      "time 51.243199825286865\n",
      "ind, best mmd (219, tensor(0.0026))\n",
      "time 48.8606858253479\n",
      "ind, best mmd (313, tensor(0.0035))\n",
      "time 51.55462408065796\n",
      "ind, best mmd (301, tensor(0.0029))\n",
      "time 49.748356103897095\n",
      "ind, best mmd (320, tensor(0.0042))\n",
      "time 50.841503858566284\n",
      "ind, best mmd (4, tensor(0.0045))\n",
      "time 50.6687798500061\n",
      "ind, best mmd (348, tensor(0.0041))\n",
      "time 51.689833879470825\n",
      "ind, best mmd (184, tensor(0.0034))\n",
      "time 48.56444692611694\n",
      "ind, best mmd (235, tensor(0.0034))\n",
      "time 48.38811492919922\n",
      "ind, best mmd (158, tensor(0.0036))\n",
      "time 48.31185007095337\n",
      "ind, best mmd (457, tensor(0.0030))\n",
      "time 48.87897491455078\n",
      "ind, best mmd (267, tensor(0.0042))\n",
      "time 49.07680583000183\n",
      "ind, best mmd (144, tensor(0.0034))\n",
      "time 909.3331398963928\n",
      "ind, best mmd (498, tensor(0.0031))\n",
      "time 8498.46762418747\n",
      "ind, best mmd (225, tensor(0.0036))\n",
      "time 17520.94332909584\n",
      "ind, best mmd (431, tensor(0.0049))\n",
      "time 4666.697098016739\n",
      "ind, best mmd (361, tensor(0.0050))\n",
      "time 19901.30308008194\n",
      "ind, best mmd (230, tensor(0.0042))\n",
      "time 52.24653697013855\n",
      "ind, best mmd (14, tensor(0.0039))\n",
      "time 58.30148792266846\n",
      "ind, best mmd (184, tensor(0.0036))\n",
      "time 53.45640301704407\n",
      "ind, best mmd (46, tensor(0.0026))\n",
      "time 54.51404905319214\n",
      "ind, best mmd (268, tensor(0.0040))\n",
      "time 47.59173083305359\n",
      "ind, best mmd (30, tensor(0.0046))\n",
      "time 52.49308729171753\n",
      "ind, best mmd (121, tensor(0.0047))\n",
      "time 48.76291298866272\n",
      "ind, best mmd (35, tensor(0.0041))\n",
      "time 51.64783477783203\n",
      "ind, best mmd (389, tensor(0.0048))\n",
      "time 54.41469717025757\n",
      "ind, best mmd (283, tensor(0.0054))\n",
      "time 51.05065608024597\n",
      "ind, best mmd (148, tensor(0.0055))\n",
      "time 48.32701301574707\n",
      "ind, best mmd (330, tensor(0.0058))\n",
      "time 48.33192825317383\n",
      "ind, best mmd (289, tensor(0.0060))\n",
      "time 50.09365391731262\n",
      "ind, best mmd (71, tensor(0.0054))\n",
      "time 49.98891305923462\n",
      "ind, best mmd (466, tensor(0.0051))\n",
      "time 55.637547731399536\n",
      "ind, best mmd (322, tensor(0.0043))\n",
      "time 51.44776391983032\n",
      "ind, best mmd (480, tensor(0.0037))\n",
      "time 51.26813793182373\n",
      "ind, best mmd (203, tensor(0.0037))\n",
      "time 51.606101989746094\n",
      "ind, best mmd (267, tensor(0.0043))\n",
      "time 49.397910833358765\n",
      "ind, best mmd (111, tensor(0.0039))\n",
      "time 50.7187659740448\n",
      "ind, best mmd (36, tensor(0.0039))\n",
      "time 49.92909598350525\n",
      "ind, best mmd (73, tensor(0.0042))\n",
      "time 49.65719509124756\n",
      "ind, best mmd (120, tensor(0.0038))\n",
      "time 51.6459059715271\n",
      "ind, best mmd (389, tensor(0.0047))\n",
      "time 52.04138493537903\n",
      "ind, best mmd (438, tensor(0.0031))\n",
      "time 55.11965322494507\n",
      "ind, best mmd (497, tensor(0.0026))\n",
      "time 48.93502497673035\n",
      "ind, best mmd (340, tensor(0.0037))\n",
      "time 50.15017604827881\n",
      "ind, best mmd (40, tensor(0.0045))\n",
      "time 51.77843999862671\n",
      "ind, best mmd (491, tensor(0.0047))\n",
      "time 47.38744592666626\n",
      "ind, best mmd (13, tensor(0.0038))\n",
      "time 46.67174506187439\n",
      "ind, best mmd (168, tensor(0.0042))\n",
      "time 47.364675998687744\n"
     ]
    }
   ],
   "source": [
    "states = []\n",
    "probs = []\n",
    "for m in range(M):\n",
    "    t0 = time.time()\n",
    "    # load the state from previous quench\n",
    "    circuit0.load_arbitrary_state(state)\n",
    "    \n",
    "    # First randomly select candidate configurations of hz for quench m:\n",
    "    mmds = []\n",
    "    mmds_theoretical= []\n",
    "    \n",
    "    theta_list_array = []\n",
    "    for b in range(n_branches):\n",
    "        # Only randomly earch prameterse for this specific quench\n",
    "        disorder_m = np.random.rand(n_qubits)\n",
    "        \n",
    "        theta_list_m = torch.FloatTensor( (disorder_m*2-1)*hd )\n",
    "        # use these parameters \n",
    "        px, _ = circuit0.pdf_actual(theta_list_m)\n",
    "        \n",
    "        pxy = p_data-px\n",
    "        mmd_distance = pxy@K@(pxy.T)\n",
    "        mmds.append(mmd_distance)\n",
    "        theta_list_array.append(theta_list_m) # keep a record of this for debugging\n",
    "    \n",
    "    ind = np.argmin(mmds)\n",
    "    print('ind, best mmd', (ind, mmds[ind]))\n",
    "    \n",
    "    training_losses_th.append(mmds[ind])\n",
    "    # Recalculate the best evolved state for the next quench\n",
    "    px, state = circuit0.pdf_actual(theta_list_array[ind]) # returns a StateVector object\n",
    "    states.append(state)\n",
    "    probs.append(px)\n",
    "    t1 = time.time()\n",
    "    print('time', t1-t0)"
   ]
  },
  {
   "cell_type": "code",
   "execution_count": 28,
   "metadata": {
    "scrolled": true
   },
   "outputs": [
    {
     "data": {
      "text/plain": [
       "Text(0.5, 1.0, 'px of MBL with symmetrized trotterization last quench m')"
      ]
     },
     "execution_count": 28,
     "metadata": {},
     "output_type": "execute_result"
    },
    {
     "data": {
      "image/png": "[encoded data removed]",
      "text/plain": [
       "<Figure size 432x288 with 1 Axes>"
      ]
     },
     "metadata": {
      "needs_background": "light"
     },
     "output_type": "display_data"
    }
   ],
   "source": [
    "plt.plot(px)\n",
    "plt.title('px of MBL with symmetrized trotterization last quench m')"
   ]
  },
  {
   "cell_type": "code",
   "execution_count": 30,
   "metadata": {},
   "outputs": [
    {
     "data": {
      "text/plain": [
       "Text(0.5, 1.0, 'px of MBL with symmetrized trotterization best over all (quench 53')"
      ]
     },
     "execution_count": 30,
     "metadata": {},
     "output_type": "execute_result"
    },
    {
     "data": {
      "image/png": "[encoded data removed]",
      "text/plain": [
       "<Figure size 432x288 with 1 Axes>"
      ]
     },
     "metadata": {
      "needs_background": "light"
     },
     "output_type": "display_data"
    }
   ],
   "source": [
    "ind = np.argmin(training_losses)\n",
    "\n",
    "plt.plot(probs[ind])\n",
    "plt.title('px of MBL with symmetrized trotterization best over all (quench '+str(ind))"
   ]
  },
  {
   "cell_type": "code",
   "execution_count": 25,
   "metadata": {},
   "outputs": [
    {
     "data": {
      "text/plain": [
       "Text(0.5, 1.0, 'MBL with symmetrized trotterization')"
      ]
     },
     "execution_count": 25,
     "metadata": {},
     "output_type": "execute_result"
    },
    {
     "data": {
      "image/png": "[encoded data removed]",
      "text/plain": [
       "<Figure size 432x288 with 1 Axes>"
      ]
     },
     "metadata": {
      "needs_background": "light"
     },
     "output_type": "display_data"
    }
   ],
   "source": [
    "plt.plot(training_losses)\n",
    "plt.xlabel('m-th quench')\n",
    "plt.ylabel('mmd')\n",
    "plt.title('MBL with symmetrized trotterization')"
   ]
  },
  {
   "cell_type": "code",
   "execution_count": 41,
   "metadata": {},
   "outputs": [
    {
     "data": {
      "text/plain": [
       "<matplotlib.legend.Legend at 0x7fe0e847df40>"
      ]
     },
     "execution_count": 41,
     "metadata": {},
     "output_type": "execute_result"
    },
    {
     "data": {
      "image/png": "[encoded data removed]",
      "text/plain": [
       "<Figure size 432x288 with 1 Axes>"
      ]
     },
     "metadata": {
      "needs_background": "light"
     },
     "output_type": "display_data"
    }
   ],
   "source": [
    "plt.plot(px)\n",
    "plt.plot(px_theoretical)\n",
    "plt.plot(p_data, '*')\n",
    "plt.title('px of MBL last quench m')\n",
    "plt.legend(['px_trotterized', 'px_exact_diag', 'p_data'])"
   ]
  },
  {
   "cell_type": "code",
   "execution_count": 46,
   "metadata": {},
   "outputs": [
    {
     "data": {
      "text/plain": [
       "tensor([1.0527e-29, 1.9547e-02, 3.9552e-02, 5.6491e-02, 8.2900e-02, 9.0276e-02,\n",
       "        9.0876e-02, 1.0586e-01, 9.2217e-02, 9.3854e-02, 9.2484e-02, 8.7366e-02,\n",
       "        6.4042e-02, 3.7921e-02, 4.6618e-02, 1.7663e-30])"
      ]
     },
     "execution_count": 46,
     "metadata": {},
     "output_type": "execute_result"
    }
   ],
   "source": [
    "px"
   ]
  },
  {
   "cell_type": "code",
   "execution_count": 47,
   "metadata": {},
   "outputs": [
    {
     "data": {
      "text/plain": [
       "<matplotlib.legend.Legend at 0x7fe0e7a3c7f0>"
      ]
     },
     "execution_count": 47,
     "metadata": {},
     "output_type": "execute_result"
    },
    {
     "data": {
      "image/png": "[encoded data removed]",
      "text/plain": [
       "<Figure size 432x288 with 1 Axes>"
      ]
     },
     "metadata": {
      "needs_background": "light"
     },
     "output_type": "display_data"
    }
   ],
   "source": [
    "plt.plot(probs[53])\n",
    "plt.plot(probs_th[np.argmin(training_losses)])\n",
    "plt.plot(p_data, '*')\n",
    "plt.title('px of MBL best quench m')\n",
    "plt.legend(['px_trotterized', 'px_exact_diag', 'p_data'])"
   ]
  },
  {
   "cell_type": "code",
   "execution_count": 48,
   "metadata": {},
   "outputs": [
    {
     "data": {
      "text/plain": [
       "Text(0.5, 1.0, 'MBL with exact diag')"
      ]
     },
     "execution_count": 48,
     "metadata": {},
     "output_type": "execute_result"
    },
    {
     "data": {
      "image/png": "[encoded data removed]",
      "text/plain": [
       "<Figure size 432x288 with 1 Axes>"
      ]
     },
     "metadata": {
      "needs_background": "light"
     },
     "output_type": "display_data"
    }
   ],
   "source": [
    "plt.plot(training_losses)\n",
    "plt.xlabel('m-th quench')\n",
    "plt.ylabel('mmd')\n",
    "plt.title('MBL with exact diag')"
   ]
  },
  {
   "cell_type": "markdown",
   "metadata": {},
   "source": [
    "Comparison Quench"
   ]
  },
  {
   "cell_type": "code",
   "execution_count": 19,
   "metadata": {},
   "outputs": [
    {
     "name": "stdout",
     "output_type": "stream",
     "text": [
      "ind, best mmd (0, tensor(1.9249))\n",
      "ind_t, best theoretical mmd (3, tensor(1.8117))\n",
      "time 2.142482280731201\n",
      "ind, best mmd (4, tensor(1.8976))\n",
      "ind_t, best theoretical mmd (1, tensor(1.8336))\n",
      "time 1.9627659320831299\n",
      "ind, best mmd (3, tensor(1.8895))\n",
      "ind_t, best theoretical mmd (3, tensor(1.8730))\n",
      "time 2.0062568187713623\n",
      "ind, best mmd (2, tensor(1.8677))\n",
      "ind_t, best theoretical mmd (3, tensor(1.8803))\n",
      "time 1.8696379661560059\n",
      "ind, best mmd (2, tensor(1.8561))\n",
      "ind_t, best theoretical mmd (3, tensor(1.8659))\n",
      "time 1.9901020526885986\n",
      "ind, best mmd (3, tensor(1.8464))\n",
      "ind_t, best theoretical mmd (1, tensor(1.8637))\n",
      "time 1.7963640689849854\n",
      "ind, best mmd (2, tensor(1.8410))\n",
      "ind_t, best theoretical mmd (1, tensor(1.8800))\n",
      "time 1.8186419010162354\n",
      "ind, best mmd (3, tensor(1.8426))\n",
      "ind_t, best theoretical mmd (2, tensor(1.8763))\n",
      "time 1.9734299182891846\n",
      "ind, best mmd (0, tensor(1.8378))\n",
      "ind_t, best theoretical mmd (0, tensor(1.8732))\n",
      "time 1.8174610137939453\n",
      "ind, best mmd (0, tensor(1.8368))\n",
      "ind_t, best theoretical mmd (4, tensor(1.8728))\n",
      "time 2.0552430152893066\n",
      "ind, best mmd (1, tensor(1.8353))\n",
      "ind_t, best theoretical mmd (2, tensor(1.8761))\n",
      "time 1.8043930530548096\n",
      "ind, best mmd (1, tensor(1.8333))\n",
      "ind_t, best theoretical mmd (4, tensor(1.8798))\n",
      "time 1.9889628887176514\n",
      "ind, best mmd (4, tensor(1.8344))\n",
      "ind_t, best theoretical mmd (1, tensor(1.8791))\n",
      "time 2.0023748874664307\n",
      "ind, best mmd (0, tensor(1.8327))\n",
      "ind_t, best theoretical mmd (1, tensor(1.8802))\n",
      "time 1.8041431903839111\n",
      "ind, best mmd (3, tensor(1.8276))\n",
      "ind_t, best theoretical mmd (2, tensor(1.8774))\n",
      "time 2.01784086227417\n",
      "ind, best mmd (0, tensor(1.8294))\n",
      "ind_t, best theoretical mmd (3, tensor(1.8761))\n",
      "time 1.8238451480865479\n",
      "ind, best mmd (0, tensor(1.8319))\n",
      "ind_t, best theoretical mmd (1, tensor(1.8777))\n",
      "time 1.9870312213897705\n",
      "ind, best mmd (2, tensor(1.8313))\n",
      "ind_t, best theoretical mmd (4, tensor(1.8784))\n",
      "time 1.7967143058776855\n",
      "ind, best mmd (4, tensor(1.8310))\n",
      "ind_t, best theoretical mmd (4, tensor(1.8685))\n",
      "time 1.8196790218353271\n",
      "ind, best mmd (3, tensor(1.8372))\n",
      "ind_t, best theoretical mmd (3, tensor(1.8635))\n",
      "time 1.9577829837799072\n",
      "ind, best mmd (1, tensor(1.8390))\n",
      "ind_t, best theoretical mmd (0, tensor(1.8719))\n",
      "time 1.8064022064208984\n",
      "ind, best mmd (3, tensor(1.8393))\n",
      "ind_t, best theoretical mmd (0, tensor(1.8702))\n",
      "time 1.9621989727020264\n",
      "ind, best mmd (2, tensor(1.8389))\n",
      "ind_t, best theoretical mmd (1, tensor(1.8717))\n",
      "time 1.95001220703125\n",
      "ind, best mmd (4, tensor(1.8419))\n",
      "ind_t, best theoretical mmd (3, tensor(1.8740))\n",
      "time 1.984422206878662\n",
      "ind, best mmd (4, tensor(1.8325))\n",
      "ind_t, best theoretical mmd (4, tensor(1.8727))\n",
      "time 1.85054612159729\n",
      "ind, best mmd (3, tensor(1.8352))\n",
      "ind_t, best theoretical mmd (0, tensor(1.8706))\n",
      "time 2.1021339893341064\n",
      "ind, best mmd (0, tensor(1.8355))\n",
      "ind_t, best theoretical mmd (0, tensor(1.8773))\n",
      "time 1.939136028289795\n"
     ]
    },
    {
     "ename": "KeyboardInterrupt",
     "evalue": "",
     "output_type": "error",
     "traceback": [
      "\u001b[0;31m---------------------------------------------------------------------------\u001b[0m",
      "\u001b[0;31mKeyboardInterrupt\u001b[0m                         Traceback (most recent call last)",
      "\u001b[0;32m<ipython-input-19-90df769860a4>\u001b[0m in \u001b[0;36m<module>\u001b[0;34m\u001b[0m\n\u001b[1;32m      4\u001b[0m     \u001b[0mt0\u001b[0m \u001b[0;34m=\u001b[0m \u001b[0mtime\u001b[0m\u001b[0;34m.\u001b[0m\u001b[0mtime\u001b[0m\u001b[0;34m(\u001b[0m\u001b[0;34m)\u001b[0m\u001b[0;34m\u001b[0m\u001b[0;34m\u001b[0m\u001b[0m\n\u001b[1;32m      5\u001b[0m     \u001b[0;31m# load the state from previous quench\u001b[0m\u001b[0;34m\u001b[0m\u001b[0;34m\u001b[0m\u001b[0;34m\u001b[0m\u001b[0m\n\u001b[0;32m----> 6\u001b[0;31m     \u001b[0mcircuit0\u001b[0m\u001b[0;34m.\u001b[0m\u001b[0mload_arbitrary_state\u001b[0m\u001b[0;34m(\u001b[0m\u001b[0mstate\u001b[0m\u001b[0;34m)\u001b[0m\u001b[0;34m\u001b[0m\u001b[0;34m\u001b[0m\u001b[0m\n\u001b[0m\u001b[1;32m      7\u001b[0m \u001b[0;34m\u001b[0m\u001b[0m\n\u001b[1;32m      8\u001b[0m     \u001b[0;31m# First randomly select candidate configurations of hz for quench m:\u001b[0m\u001b[0;34m\u001b[0m\u001b[0;34m\u001b[0m\u001b[0;34m\u001b[0m\u001b[0m\n",
      "\u001b[0;32m~/Documents/MBL_Born/Qiskit_Circuits.py\u001b[0m in \u001b[0;36mload_arbitrary_state\u001b[0;34m(self, full_statevec)\u001b[0m\n\u001b[1;32m    220\u001b[0m         \u001b[0;31m# We assume that .data[0] is the `initialize' module\u001b[0m\u001b[0;34m\u001b[0m\u001b[0;34m\u001b[0m\u001b[0;34m\u001b[0m\u001b[0m\n\u001b[1;32m    221\u001b[0m         \u001b[0mself\u001b[0m\u001b[0;34m.\u001b[0m\u001b[0m_circuit\u001b[0m\u001b[0;34m.\u001b[0m\u001b[0mdata\u001b[0m\u001b[0;34m[\u001b[0m\u001b[0;36m0\u001b[0m\u001b[0;34m]\u001b[0m\u001b[0;34m[\u001b[0m\u001b[0;36m0\u001b[0m\u001b[0;34m]\u001b[0m\u001b[0;34m.\u001b[0m\u001b[0mparams\u001b[0m\u001b[0;34m=\u001b[0m\u001b[0mfull_statevec\u001b[0m\u001b[0;34m.\u001b[0m\u001b[0mdata\u001b[0m \u001b[0;31m# set the list of complex values (amps)\u001b[0m\u001b[0;34m\u001b[0m\u001b[0;34m\u001b[0m\u001b[0m\n\u001b[0;32m--> 222\u001b[0;31m         self.t_qc = transpile(self._circuit,\n\u001b[0m\u001b[1;32m    223\u001b[0m                          self.backend) # Only call once, since the architecture doesn't change!\n\u001b[1;32m    224\u001b[0m         \u001b[0;32mreturn\u001b[0m\u001b[0;34m\u001b[0m\u001b[0;34m\u001b[0m\u001b[0m\n",
      "\u001b[0;32m/opt/anaconda3/lib/python3.8/site-packages/qiskit/compiler/transpiler.py\u001b[0m in \u001b[0;36mtranspile\u001b[0;34m(circuits, backend, basis_gates, inst_map, coupling_map, backend_properties, initial_layout, layout_method, routing_method, translation_method, scheduling_method, instruction_durations, dt, approximation_degree, timing_constraints, seed_transpiler, optimization_level, pass_manager, callback, output_name, unitary_synthesis_method, unitary_synthesis_plugin_config, target)\u001b[0m\n\u001b[1;32m    333\u001b[0m \u001b[0;34m\u001b[0m\u001b[0m\n\u001b[1;32m    334\u001b[0m     \u001b[0;31m# Transpile circuits in parallel\u001b[0m\u001b[0;34m\u001b[0m\u001b[0;34m\u001b[0m\u001b[0;34m\u001b[0m\u001b[0m\n\u001b[0;32m--> 335\u001b[0;31m     \u001b[0mcircuits\u001b[0m \u001b[0;34m=\u001b[0m \u001b[0mparallel_map\u001b[0m\u001b[0;34m(\u001b[0m\u001b[0m_transpile_circuit\u001b[0m\u001b[0;34m,\u001b[0m \u001b[0mlist\u001b[0m\u001b[0;34m(\u001b[0m\u001b[0mzip\u001b[0m\u001b[0;34m(\u001b[0m\u001b[0mcircuits\u001b[0m\u001b[0;34m,\u001b[0m \u001b[0mtranspile_args\u001b[0m\u001b[0;34m)\u001b[0m\u001b[0;34m)\u001b[0m\u001b[0;34m)\u001b[0m\u001b[0;34m\u001b[0m\u001b[0;34m\u001b[0m\u001b[0m\n\u001b[0m\u001b[1;32m    336\u001b[0m \u001b[0;34m\u001b[0m\u001b[0m\n\u001b[1;32m    337\u001b[0m     \u001b[0mend_time\u001b[0m \u001b[0;34m=\u001b[0m \u001b[0mtime\u001b[0m\u001b[0;34m(\u001b[0m\u001b[0;34m)\u001b[0m\u001b[0;34m\u001b[0m\u001b[0;34m\u001b[0m\u001b[0m\n",
      "\u001b[0;32m/opt/anaconda3/lib/python3.8/site-packages/qiskit/tools/parallel.py\u001b[0m in \u001b[0;36mparallel_map\u001b[0;34m(task, values, task_args, task_kwargs, num_processes)\u001b[0m\n\u001b[1;32m    130\u001b[0m         \u001b[0;32mreturn\u001b[0m \u001b[0;34m[\u001b[0m\u001b[0;34m]\u001b[0m\u001b[0;34m\u001b[0m\u001b[0;34m\u001b[0m\u001b[0m\n\u001b[1;32m    131\u001b[0m     \u001b[0;32mif\u001b[0m \u001b[0mlen\u001b[0m\u001b[0;34m(\u001b[0m\u001b[0mvalues\u001b[0m\u001b[0;34m)\u001b[0m \u001b[0;34m==\u001b[0m \u001b[0;36m1\u001b[0m\u001b[0;34m:\u001b[0m\u001b[0;34m\u001b[0m\u001b[0;34m\u001b[0m\u001b[0m\n\u001b[0;32m--> 132\u001b[0;31m         \u001b[0;32mreturn\u001b[0m \u001b[0;34m[\u001b[0m\u001b[0mtask\u001b[0m\u001b[0;34m(\u001b[0m\u001b[0mvalues\u001b[0m\u001b[0;34m[\u001b[0m\u001b[0;36m0\u001b[0m\u001b[0;34m]\u001b[0m\u001b[0;34m,\u001b[0m \u001b[0;34m*\u001b[0m\u001b[0mtask_args\u001b[0m\u001b[0;34m,\u001b[0m \u001b[0;34m**\u001b[0m\u001b[0mtask_kwargs\u001b[0m\u001b[0;34m)\u001b[0m\u001b[0;34m]\u001b[0m\u001b[0;34m\u001b[0m\u001b[0;34m\u001b[0m\u001b[0m\n\u001b[0m\u001b[1;32m    133\u001b[0m \u001b[0;34m\u001b[0m\u001b[0m\n\u001b[1;32m    134\u001b[0m     \u001b[0mPublisher\u001b[0m\u001b[0;34m(\u001b[0m\u001b[0;34m)\u001b[0m\u001b[0;34m.\u001b[0m\u001b[0mpublish\u001b[0m\u001b[0;34m(\u001b[0m\u001b[0;34m\"terra.parallel.start\"\u001b[0m\u001b[0;34m,\u001b[0m \u001b[0mlen\u001b[0m\u001b[0;34m(\u001b[0m\u001b[0mvalues\u001b[0m\u001b[0;34m)\u001b[0m\u001b[0;34m)\u001b[0m\u001b[0;34m\u001b[0m\u001b[0;34m\u001b[0m\u001b[0m\n",
      "\u001b[0;32m/opt/anaconda3/lib/python3.8/site-packages/qiskit/compiler/transpiler.py\u001b[0m in \u001b[0;36m_transpile_circuit\u001b[0;34m(circuit_config_tuple)\u001b[0m\n\u001b[1;32m    427\u001b[0m         \u001b[0;32mraise\u001b[0m \u001b[0mTranspilerError\u001b[0m\u001b[0;34m(\u001b[0m\u001b[0;34m\"optimization_level can range from 0 to 3.\"\u001b[0m\u001b[0;34m)\u001b[0m\u001b[0;34m\u001b[0m\u001b[0;34m\u001b[0m\u001b[0m\n\u001b[1;32m    428\u001b[0m \u001b[0;34m\u001b[0m\u001b[0m\n\u001b[0;32m--> 429\u001b[0;31m     result = pass_manager.run(\n\u001b[0m\u001b[1;32m    430\u001b[0m         \u001b[0mcircuit\u001b[0m\u001b[0;34m,\u001b[0m \u001b[0mcallback\u001b[0m\u001b[0;34m=\u001b[0m\u001b[0mtranspile_config\u001b[0m\u001b[0;34m[\u001b[0m\u001b[0;34m\"callback\"\u001b[0m\u001b[0;34m]\u001b[0m\u001b[0;34m,\u001b[0m \u001b[0moutput_name\u001b[0m\u001b[0;34m=\u001b[0m\u001b[0mtranspile_config\u001b[0m\u001b[0;34m[\u001b[0m\u001b[0;34m\"output_name\"\u001b[0m\u001b[0;34m]\u001b[0m\u001b[0;34m\u001b[0m\u001b[0;34m\u001b[0m\u001b[0m\n\u001b[1;32m    431\u001b[0m     )\n",
      "\u001b[0;32m/opt/anaconda3/lib/python3.8/site-packages/qiskit/transpiler/passmanager.py\u001b[0m in \u001b[0;36mrun\u001b[0;34m(self, circuits, output_name, callback)\u001b[0m\n\u001b[1;32m    216\u001b[0m             \u001b[0;32mreturn\u001b[0m \u001b[0mcircuits\u001b[0m\u001b[0;34m\u001b[0m\u001b[0;34m\u001b[0m\u001b[0m\n\u001b[1;32m    217\u001b[0m         \u001b[0;32mif\u001b[0m \u001b[0misinstance\u001b[0m\u001b[0;34m(\u001b[0m\u001b[0mcircuits\u001b[0m\u001b[0;34m,\u001b[0m \u001b[0mQuantumCircuit\u001b[0m\u001b[0;34m)\u001b[0m\u001b[0;34m:\u001b[0m\u001b[0;34m\u001b[0m\u001b[0;34m\u001b[0m\u001b[0m\n\u001b[0;32m--> 218\u001b[0;31m             \u001b[0;32mreturn\u001b[0m \u001b[0mself\u001b[0m\u001b[0;34m.\u001b[0m\u001b[0m_run_single_circuit\u001b[0m\u001b[0;34m(\u001b[0m\u001b[0mcircuits\u001b[0m\u001b[0;34m,\u001b[0m \u001b[0moutput_name\u001b[0m\u001b[0;34m,\u001b[0m \u001b[0mcallback\u001b[0m\u001b[0;34m)\u001b[0m\u001b[0;34m\u001b[0m\u001b[0;34m\u001b[0m\u001b[0m\n\u001b[0m\u001b[1;32m    219\u001b[0m         \u001b[0;32mif\u001b[0m \u001b[0mlen\u001b[0m\u001b[0;34m(\u001b[0m\u001b[0mcircuits\u001b[0m\u001b[0;34m)\u001b[0m \u001b[0;34m==\u001b[0m \u001b[0;36m1\u001b[0m\u001b[0;34m:\u001b[0m\u001b[0;34m\u001b[0m\u001b[0;34m\u001b[0m\u001b[0m\n\u001b[1;32m    220\u001b[0m             \u001b[0;32mreturn\u001b[0m \u001b[0mself\u001b[0m\u001b[0;34m.\u001b[0m\u001b[0m_run_single_circuit\u001b[0m\u001b[0;34m(\u001b[0m\u001b[0mcircuits\u001b[0m\u001b[0;34m[\u001b[0m\u001b[0;36m0\u001b[0m\u001b[0;34m]\u001b[0m\u001b[0;34m,\u001b[0m \u001b[0moutput_name\u001b[0m\u001b[0;34m,\u001b[0m \u001b[0mcallback\u001b[0m\u001b[0;34m)\u001b[0m\u001b[0;34m\u001b[0m\u001b[0;34m\u001b[0m\u001b[0m\n",
      "\u001b[0;32m/opt/anaconda3/lib/python3.8/site-packages/qiskit/transpiler/passmanager.py\u001b[0m in \u001b[0;36m_run_single_circuit\u001b[0;34m(self, circuit, output_name, callback)\u001b[0m\n\u001b[1;32m    271\u001b[0m         \"\"\"\n\u001b[1;32m    272\u001b[0m         \u001b[0mrunning_passmanager\u001b[0m \u001b[0;34m=\u001b[0m \u001b[0mself\u001b[0m\u001b[0;34m.\u001b[0m\u001b[0m_create_running_passmanager\u001b[0m\u001b[0;34m(\u001b[0m\u001b[0;34m)\u001b[0m\u001b[0;34m\u001b[0m\u001b[0;34m\u001b[0m\u001b[0m\n\u001b[0;32m--> 273\u001b[0;31m         \u001b[0mresult\u001b[0m \u001b[0;34m=\u001b[0m \u001b[0mrunning_passmanager\u001b[0m\u001b[0;34m.\u001b[0m\u001b[0mrun\u001b[0m\u001b[0;34m(\u001b[0m\u001b[0mcircuit\u001b[0m\u001b[0;34m,\u001b[0m \u001b[0moutput_name\u001b[0m\u001b[0;34m=\u001b[0m\u001b[0moutput_name\u001b[0m\u001b[0;34m,\u001b[0m \u001b[0mcallback\u001b[0m\u001b[0;34m=\u001b[0m\u001b[0mcallback\u001b[0m\u001b[0;34m)\u001b[0m\u001b[0;34m\u001b[0m\u001b[0;34m\u001b[0m\u001b[0m\n\u001b[0m\u001b[1;32m    274\u001b[0m         \u001b[0mself\u001b[0m\u001b[0;34m.\u001b[0m\u001b[0mproperty_set\u001b[0m \u001b[0;34m=\u001b[0m \u001b[0mrunning_passmanager\u001b[0m\u001b[0;34m.\u001b[0m\u001b[0mproperty_set\u001b[0m\u001b[0;34m\u001b[0m\u001b[0;34m\u001b[0m\u001b[0m\n\u001b[1;32m    275\u001b[0m         \u001b[0;32mreturn\u001b[0m \u001b[0mresult\u001b[0m\u001b[0;34m\u001b[0m\u001b[0;34m\u001b[0m\u001b[0m\n",
      "\u001b[0;32m/opt/anaconda3/lib/python3.8/site-packages/qiskit/transpiler/runningpassmanager.py\u001b[0m in \u001b[0;36mrun\u001b[0;34m(***failed resolving arguments***)\u001b[0m\n\u001b[1;32m    121\u001b[0m         \u001b[0;32mfor\u001b[0m \u001b[0mpassset\u001b[0m \u001b[0;32min\u001b[0m \u001b[0mself\u001b[0m\u001b[0;34m.\u001b[0m\u001b[0mworking_list\u001b[0m\u001b[0;34m:\u001b[0m\u001b[0;34m\u001b[0m\u001b[0;34m\u001b[0m\u001b[0m\n\u001b[1;32m    122\u001b[0m             \u001b[0;32mfor\u001b[0m \u001b[0mpass_\u001b[0m \u001b[0;32min\u001b[0m \u001b[0mpassset\u001b[0m\u001b[0;34m:\u001b[0m\u001b[0;34m\u001b[0m\u001b[0;34m\u001b[0m\u001b[0m\n\u001b[0;32m--> 123\u001b[0;31m                 \u001b[0mdag\u001b[0m \u001b[0;34m=\u001b[0m \u001b[0mself\u001b[0m\u001b[0;34m.\u001b[0m\u001b[0m_do_pass\u001b[0m\u001b[0;34m(\u001b[0m\u001b[0mpass_\u001b[0m\u001b[0;34m,\u001b[0m \u001b[0mdag\u001b[0m\u001b[0;34m,\u001b[0m \u001b[0mpassset\u001b[0m\u001b[0;34m.\u001b[0m\u001b[0moptions\u001b[0m\u001b[0;34m)\u001b[0m\u001b[0;34m\u001b[0m\u001b[0;34m\u001b[0m\u001b[0m\n\u001b[0m\u001b[1;32m    124\u001b[0m \u001b[0;34m\u001b[0m\u001b[0m\n\u001b[1;32m    125\u001b[0m         \u001b[0mcircuit\u001b[0m \u001b[0;34m=\u001b[0m \u001b[0mdag_to_circuit\u001b[0m\u001b[0;34m(\u001b[0m\u001b[0mdag\u001b[0m\u001b[0;34m)\u001b[0m\u001b[0;34m\u001b[0m\u001b[0;34m\u001b[0m\u001b[0m\n",
      "\u001b[0;32m/opt/anaconda3/lib/python3.8/site-packages/qiskit/transpiler/runningpassmanager.py\u001b[0m in \u001b[0;36m_do_pass\u001b[0;34m(self, pass_, dag, options)\u001b[0m\n\u001b[1;32m    152\u001b[0m         \u001b[0;31m# Run the pass itself, if not already run\u001b[0m\u001b[0;34m\u001b[0m\u001b[0;34m\u001b[0m\u001b[0;34m\u001b[0m\u001b[0m\n\u001b[1;32m    153\u001b[0m         \u001b[0;32mif\u001b[0m \u001b[0mpass_\u001b[0m \u001b[0;32mnot\u001b[0m \u001b[0;32min\u001b[0m \u001b[0mself\u001b[0m\u001b[0;34m.\u001b[0m\u001b[0mvalid_passes\u001b[0m\u001b[0;34m:\u001b[0m\u001b[0;34m\u001b[0m\u001b[0;34m\u001b[0m\u001b[0m\n\u001b[0;32m--> 154\u001b[0;31m             \u001b[0mdag\u001b[0m \u001b[0;34m=\u001b[0m \u001b[0mself\u001b[0m\u001b[0;34m.\u001b[0m\u001b[0m_run_this_pass\u001b[0m\u001b[0;34m(\u001b[0m\u001b[0mpass_\u001b[0m\u001b[0;34m,\u001b[0m \u001b[0mdag\u001b[0m\u001b[0;34m)\u001b[0m\u001b[0;34m\u001b[0m\u001b[0;34m\u001b[0m\u001b[0m\n\u001b[0m\u001b[1;32m    155\u001b[0m \u001b[0;34m\u001b[0m\u001b[0m\n\u001b[1;32m    156\u001b[0m             \u001b[0;31m# update the valid_passes property\u001b[0m\u001b[0;34m\u001b[0m\u001b[0;34m\u001b[0m\u001b[0;34m\u001b[0m\u001b[0m\n",
      "\u001b[0;32m/opt/anaconda3/lib/python3.8/site-packages/qiskit/transpiler/runningpassmanager.py\u001b[0m in \u001b[0;36m_run_this_pass\u001b[0;34m(self, pass_, dag)\u001b[0m\n\u001b[1;32m    164\u001b[0m             \u001b[0;31m# Measure time if we have a callback or logging set\u001b[0m\u001b[0;34m\u001b[0m\u001b[0;34m\u001b[0m\u001b[0;34m\u001b[0m\u001b[0m\n\u001b[1;32m    165\u001b[0m             \u001b[0mstart_time\u001b[0m \u001b[0;34m=\u001b[0m \u001b[0mtime\u001b[0m\u001b[0;34m(\u001b[0m\u001b[0;34m)\u001b[0m\u001b[0;34m\u001b[0m\u001b[0;34m\u001b[0m\u001b[0m\n\u001b[0;32m--> 166\u001b[0;31m             \u001b[0mnew_dag\u001b[0m \u001b[0;34m=\u001b[0m \u001b[0mpass_\u001b[0m\u001b[0;34m.\u001b[0m\u001b[0mrun\u001b[0m\u001b[0;34m(\u001b[0m\u001b[0mdag\u001b[0m\u001b[0;34m)\u001b[0m\u001b[0;34m\u001b[0m\u001b[0;34m\u001b[0m\u001b[0m\n\u001b[0m\u001b[1;32m    167\u001b[0m             \u001b[0mend_time\u001b[0m \u001b[0;34m=\u001b[0m \u001b[0mtime\u001b[0m\u001b[0;34m(\u001b[0m\u001b[0;34m)\u001b[0m\u001b[0;34m\u001b[0m\u001b[0;34m\u001b[0m\u001b[0m\n\u001b[1;32m    168\u001b[0m             \u001b[0mrun_time\u001b[0m \u001b[0;34m=\u001b[0m \u001b[0mend_time\u001b[0m \u001b[0;34m-\u001b[0m \u001b[0mstart_time\u001b[0m\u001b[0;34m\u001b[0m\u001b[0;34m\u001b[0m\u001b[0m\n",
      "\u001b[0;32m/opt/anaconda3/lib/python3.8/site-packages/qiskit/transpiler/passes/optimization/optimize_1q_decomposition.py\u001b[0m in \u001b[0;36mrun\u001b[0;34m(self, dag)\u001b[0m\n\u001b[1;32m    166\u001b[0m                     \u001b[0;32mcontinue\u001b[0m\u001b[0;34m\u001b[0m\u001b[0;34m\u001b[0m\u001b[0m\n\u001b[1;32m    167\u001b[0m \u001b[0;34m\u001b[0m\u001b[0m\n\u001b[0;32m--> 168\u001b[0;31m             \u001b[0mnew_basis\u001b[0m\u001b[0;34m,\u001b[0m \u001b[0mnew_circ\u001b[0m \u001b[0;34m=\u001b[0m \u001b[0mself\u001b[0m\u001b[0;34m.\u001b[0m\u001b[0m_resynthesize_run\u001b[0m\u001b[0;34m(\u001b[0m\u001b[0mrun\u001b[0m\u001b[0;34m)\u001b[0m\u001b[0;34m\u001b[0m\u001b[0;34m\u001b[0m\u001b[0m\n\u001b[0m\u001b[1;32m    169\u001b[0m \u001b[0;34m\u001b[0m\u001b[0m\n\u001b[1;32m    170\u001b[0m             \u001b[0;32mif\u001b[0m \u001b[0mnew_circ\u001b[0m \u001b[0;32mis\u001b[0m \u001b[0;32mnot\u001b[0m \u001b[0;32mNone\u001b[0m \u001b[0;32mand\u001b[0m \u001b[0mself\u001b[0m\u001b[0;34m.\u001b[0m\u001b[0m_substitution_checks\u001b[0m\u001b[0;34m(\u001b[0m\u001b[0mdag\u001b[0m\u001b[0;34m,\u001b[0m \u001b[0mrun\u001b[0m\u001b[0;34m,\u001b[0m \u001b[0mnew_circ\u001b[0m\u001b[0;34m,\u001b[0m \u001b[0mnew_basis\u001b[0m\u001b[0;34m)\u001b[0m\u001b[0;34m:\u001b[0m\u001b[0;34m\u001b[0m\u001b[0;34m\u001b[0m\u001b[0m\n",
      "\u001b[0;32m/opt/anaconda3/lib/python3.8/site-packages/qiskit/transpiler/passes/optimization/optimize_1q_decomposition.py\u001b[0m in \u001b[0;36m_resynthesize_run\u001b[0;34m(self, run)\u001b[0m\n\u001b[1;32m     76\u001b[0m             \u001b[0moperator\u001b[0m \u001b[0;34m=\u001b[0m \u001b[0mgate\u001b[0m\u001b[0;34m.\u001b[0m\u001b[0mop\u001b[0m\u001b[0;34m.\u001b[0m\u001b[0mto_matrix\u001b[0m\u001b[0;34m(\u001b[0m\u001b[0;34m)\u001b[0m\u001b[0;34m.\u001b[0m\u001b[0mdot\u001b[0m\u001b[0;34m(\u001b[0m\u001b[0moperator\u001b[0m\u001b[0;34m)\u001b[0m\u001b[0;34m\u001b[0m\u001b[0;34m\u001b[0m\u001b[0m\n\u001b[1;32m     77\u001b[0m \u001b[0;34m\u001b[0m\u001b[0m\n\u001b[0;32m---> 78\u001b[0;31m         \u001b[0mnew_circs\u001b[0m \u001b[0;34m=\u001b[0m \u001b[0;34m{\u001b[0m\u001b[0mk\u001b[0m\u001b[0;34m:\u001b[0m \u001b[0mv\u001b[0m\u001b[0;34m.\u001b[0m\u001b[0m_decompose\u001b[0m\u001b[0;34m(\u001b[0m\u001b[0moperator\u001b[0m\u001b[0;34m)\u001b[0m \u001b[0;32mfor\u001b[0m \u001b[0mk\u001b[0m\u001b[0;34m,\u001b[0m \u001b[0mv\u001b[0m \u001b[0;32min\u001b[0m \u001b[0mself\u001b[0m\u001b[0;34m.\u001b[0m\u001b[0m_decomposers\u001b[0m\u001b[0;34m.\u001b[0m\u001b[0mitems\u001b[0m\u001b[0;34m(\u001b[0m\u001b[0;34m)\u001b[0m\u001b[0;34m}\u001b[0m\u001b[0;34m\u001b[0m\u001b[0;34m\u001b[0m\u001b[0m\n\u001b[0m\u001b[1;32m     79\u001b[0m \u001b[0;34m\u001b[0m\u001b[0m\n\u001b[1;32m     80\u001b[0m         \u001b[0mnew_basis\u001b[0m\u001b[0;34m,\u001b[0m \u001b[0mnew_circ\u001b[0m \u001b[0;34m=\u001b[0m \u001b[0;32mNone\u001b[0m\u001b[0;34m,\u001b[0m \u001b[0;32mNone\u001b[0m\u001b[0;34m\u001b[0m\u001b[0;34m\u001b[0m\u001b[0m\n",
      "\u001b[0;32m/opt/anaconda3/lib/python3.8/site-packages/qiskit/transpiler/passes/optimization/optimize_1q_decomposition.py\u001b[0m in \u001b[0;36m<dictcomp>\u001b[0;34m(.0)\u001b[0m\n\u001b[1;32m     76\u001b[0m             \u001b[0moperator\u001b[0m \u001b[0;34m=\u001b[0m \u001b[0mgate\u001b[0m\u001b[0;34m.\u001b[0m\u001b[0mop\u001b[0m\u001b[0;34m.\u001b[0m\u001b[0mto_matrix\u001b[0m\u001b[0;34m(\u001b[0m\u001b[0;34m)\u001b[0m\u001b[0;34m.\u001b[0m\u001b[0mdot\u001b[0m\u001b[0;34m(\u001b[0m\u001b[0moperator\u001b[0m\u001b[0;34m)\u001b[0m\u001b[0;34m\u001b[0m\u001b[0;34m\u001b[0m\u001b[0m\n\u001b[1;32m     77\u001b[0m \u001b[0;34m\u001b[0m\u001b[0m\n\u001b[0;32m---> 78\u001b[0;31m         \u001b[0mnew_circs\u001b[0m \u001b[0;34m=\u001b[0m \u001b[0;34m{\u001b[0m\u001b[0mk\u001b[0m\u001b[0;34m:\u001b[0m \u001b[0mv\u001b[0m\u001b[0;34m.\u001b[0m\u001b[0m_decompose\u001b[0m\u001b[0;34m(\u001b[0m\u001b[0moperator\u001b[0m\u001b[0;34m)\u001b[0m \u001b[0;32mfor\u001b[0m \u001b[0mk\u001b[0m\u001b[0;34m,\u001b[0m \u001b[0mv\u001b[0m \u001b[0;32min\u001b[0m \u001b[0mself\u001b[0m\u001b[0;34m.\u001b[0m\u001b[0m_decomposers\u001b[0m\u001b[0;34m.\u001b[0m\u001b[0mitems\u001b[0m\u001b[0;34m(\u001b[0m\u001b[0;34m)\u001b[0m\u001b[0;34m}\u001b[0m\u001b[0;34m\u001b[0m\u001b[0;34m\u001b[0m\u001b[0m\n\u001b[0m\u001b[1;32m     79\u001b[0m \u001b[0;34m\u001b[0m\u001b[0m\n\u001b[1;32m     80\u001b[0m         \u001b[0mnew_basis\u001b[0m\u001b[0;34m,\u001b[0m \u001b[0mnew_circ\u001b[0m \u001b[0;34m=\u001b[0m \u001b[0;32mNone\u001b[0m\u001b[0;34m,\u001b[0m \u001b[0;32mNone\u001b[0m\u001b[0;34m\u001b[0m\u001b[0;34m\u001b[0m\u001b[0m\n",
      "\u001b[0;32m/opt/anaconda3/lib/python3.8/site-packages/qiskit/quantum_info/synthesis/one_qubit_decompose.py\u001b[0m in \u001b[0;36m_decompose\u001b[0;34m(self, unitary, simplify, atol)\u001b[0m\n\u001b[1;32m    166\u001b[0m     \u001b[0;32mdef\u001b[0m \u001b[0m_decompose\u001b[0m\u001b[0;34m(\u001b[0m\u001b[0mself\u001b[0m\u001b[0;34m,\u001b[0m \u001b[0munitary\u001b[0m\u001b[0;34m,\u001b[0m \u001b[0msimplify\u001b[0m\u001b[0;34m=\u001b[0m\u001b[0;32mTrue\u001b[0m\u001b[0;34m,\u001b[0m \u001b[0matol\u001b[0m\u001b[0;34m=\u001b[0m\u001b[0mDEFAULT_ATOL\u001b[0m\u001b[0;34m)\u001b[0m\u001b[0;34m:\u001b[0m\u001b[0;34m\u001b[0m\u001b[0;34m\u001b[0m\u001b[0m\n\u001b[1;32m    167\u001b[0m         \u001b[0mtheta\u001b[0m\u001b[0;34m,\u001b[0m \u001b[0mphi\u001b[0m\u001b[0;34m,\u001b[0m \u001b[0mlam\u001b[0m\u001b[0;34m,\u001b[0m \u001b[0mphase\u001b[0m \u001b[0;34m=\u001b[0m \u001b[0mself\u001b[0m\u001b[0;34m.\u001b[0m\u001b[0m_params\u001b[0m\u001b[0;34m(\u001b[0m\u001b[0munitary\u001b[0m\u001b[0;34m)\u001b[0m\u001b[0;34m\u001b[0m\u001b[0;34m\u001b[0m\u001b[0m\n\u001b[0;32m--> 168\u001b[0;31m         \u001b[0mcircuit\u001b[0m \u001b[0;34m=\u001b[0m \u001b[0mself\u001b[0m\u001b[0;34m.\u001b[0m\u001b[0m_circuit\u001b[0m\u001b[0;34m(\u001b[0m\u001b[0mtheta\u001b[0m\u001b[0;34m,\u001b[0m \u001b[0mphi\u001b[0m\u001b[0;34m,\u001b[0m \u001b[0mlam\u001b[0m\u001b[0;34m,\u001b[0m \u001b[0mphase\u001b[0m\u001b[0;34m,\u001b[0m \u001b[0msimplify\u001b[0m\u001b[0;34m=\u001b[0m\u001b[0msimplify\u001b[0m\u001b[0;34m,\u001b[0m \u001b[0matol\u001b[0m\u001b[0;34m=\u001b[0m\u001b[0matol\u001b[0m\u001b[0;34m)\u001b[0m\u001b[0;34m\u001b[0m\u001b[0;34m\u001b[0m\u001b[0m\n\u001b[0m\u001b[1;32m    169\u001b[0m         \u001b[0;32mreturn\u001b[0m \u001b[0mcircuit\u001b[0m\u001b[0;34m\u001b[0m\u001b[0;34m\u001b[0m\u001b[0m\n\u001b[1;32m    170\u001b[0m \u001b[0;34m\u001b[0m\u001b[0m\n",
      "\u001b[0;32m/opt/anaconda3/lib/python3.8/site-packages/qiskit/quantum_info/synthesis/one_qubit_decompose.py\u001b[0m in \u001b[0;36m_circuit_rr\u001b[0;34m(theta, phi, lam, phase, simplify, atol)\u001b[0m\n\u001b[1;32m    584\u001b[0m             \u001b[0;32mreturn\u001b[0m \u001b[0mcircuit\u001b[0m\u001b[0;34m\u001b[0m\u001b[0;34m\u001b[0m\u001b[0m\n\u001b[1;32m    585\u001b[0m         \u001b[0;32mif\u001b[0m \u001b[0mabs\u001b[0m\u001b[0;34m(\u001b[0m\u001b[0mtheta\u001b[0m \u001b[0;34m-\u001b[0m \u001b[0mnp\u001b[0m\u001b[0;34m.\u001b[0m\u001b[0mpi\u001b[0m\u001b[0;34m)\u001b[0m \u001b[0;34m>\u001b[0m \u001b[0matol\u001b[0m\u001b[0;34m:\u001b[0m\u001b[0;34m\u001b[0m\u001b[0;34m\u001b[0m\u001b[0m\n\u001b[0;32m--> 586\u001b[0;31m             \u001b[0mcircuit\u001b[0m\u001b[0;34m.\u001b[0m\u001b[0m_append\u001b[0m\u001b[0;34m(\u001b[0m\u001b[0mRGate\u001b[0m\u001b[0;34m(\u001b[0m\u001b[0mtheta\u001b[0m \u001b[0;34m-\u001b[0m \u001b[0mnp\u001b[0m\u001b[0;34m.\u001b[0m\u001b[0mpi\u001b[0m\u001b[0;34m,\u001b[0m \u001b[0m_mod_2pi\u001b[0m\u001b[0;34m(\u001b[0m\u001b[0mnp\u001b[0m\u001b[0;34m.\u001b[0m\u001b[0mpi\u001b[0m \u001b[0;34m/\u001b[0m \u001b[0;36m2\u001b[0m \u001b[0;34m-\u001b[0m \u001b[0mlam\u001b[0m\u001b[0;34m,\u001b[0m \u001b[0matol\u001b[0m\u001b[0;34m)\u001b[0m\u001b[0;34m)\u001b[0m\u001b[0;34m,\u001b[0m \u001b[0;34m[\u001b[0m\u001b[0mqr\u001b[0m\u001b[0;34m[\u001b[0m\u001b[0;36m0\u001b[0m\u001b[0;34m]\u001b[0m\u001b[0;34m]\u001b[0m\u001b[0;34m,\u001b[0m \u001b[0;34m[\u001b[0m\u001b[0;34m]\u001b[0m\u001b[0;34m)\u001b[0m\u001b[0;34m\u001b[0m\u001b[0;34m\u001b[0m\u001b[0m\n\u001b[0m\u001b[1;32m    587\u001b[0m         \u001b[0mcircuit\u001b[0m\u001b[0;34m.\u001b[0m\u001b[0m_append\u001b[0m\u001b[0;34m(\u001b[0m\u001b[0mRGate\u001b[0m\u001b[0;34m(\u001b[0m\u001b[0mnp\u001b[0m\u001b[0;34m.\u001b[0m\u001b[0mpi\u001b[0m\u001b[0;34m,\u001b[0m \u001b[0m_mod_2pi\u001b[0m\u001b[0;34m(\u001b[0m\u001b[0;36m0.5\u001b[0m \u001b[0;34m*\u001b[0m \u001b[0;34m(\u001b[0m\u001b[0mphi\u001b[0m \u001b[0;34m-\u001b[0m \u001b[0mlam\u001b[0m \u001b[0;34m+\u001b[0m \u001b[0mnp\u001b[0m\u001b[0;34m.\u001b[0m\u001b[0mpi\u001b[0m\u001b[0;34m)\u001b[0m\u001b[0;34m,\u001b[0m \u001b[0matol\u001b[0m\u001b[0;34m)\u001b[0m\u001b[0;34m)\u001b[0m\u001b[0;34m,\u001b[0m \u001b[0;34m[\u001b[0m\u001b[0mqr\u001b[0m\u001b[0;34m[\u001b[0m\u001b[0;36m0\u001b[0m\u001b[0;34m]\u001b[0m\u001b[0;34m]\u001b[0m\u001b[0;34m,\u001b[0m \u001b[0;34m[\u001b[0m\u001b[0;34m]\u001b[0m\u001b[0;34m)\u001b[0m\u001b[0;34m\u001b[0m\u001b[0;34m\u001b[0m\u001b[0m\n\u001b[1;32m    588\u001b[0m         \u001b[0;32mreturn\u001b[0m \u001b[0mcircuit\u001b[0m\u001b[0;34m\u001b[0m\u001b[0;34m\u001b[0m\u001b[0m\n",
      "\u001b[0;32m/opt/anaconda3/lib/python3.8/site-packages/qiskit/circuit/quantumcircuit.py\u001b[0m in \u001b[0;36m_append\u001b[0;34m(self, instruction, qargs, cargs)\u001b[0m\n\u001b[1;32m   1266\u001b[0m         \u001b[0mself\u001b[0m\u001b[0;34m.\u001b[0m\u001b[0m_check_dups\u001b[0m\u001b[0;34m(\u001b[0m\u001b[0mqargs\u001b[0m\u001b[0;34m)\u001b[0m\u001b[0;34m\u001b[0m\u001b[0;34m\u001b[0m\u001b[0m\n\u001b[1;32m   1267\u001b[0m         \u001b[0mself\u001b[0m\u001b[0;34m.\u001b[0m\u001b[0m_check_qargs\u001b[0m\u001b[0;34m(\u001b[0m\u001b[0mqargs\u001b[0m\u001b[0;34m)\u001b[0m\u001b[0;34m\u001b[0m\u001b[0;34m\u001b[0m\u001b[0m\n\u001b[0;32m-> 1268\u001b[0;31m         \u001b[0mself\u001b[0m\u001b[0;34m.\u001b[0m\u001b[0m_check_cargs\u001b[0m\u001b[0;34m(\u001b[0m\u001b[0mcargs\u001b[0m\u001b[0;34m)\u001b[0m\u001b[0;34m\u001b[0m\u001b[0;34m\u001b[0m\u001b[0m\n\u001b[0m\u001b[1;32m   1269\u001b[0m \u001b[0;34m\u001b[0m\u001b[0m\n\u001b[1;32m   1270\u001b[0m         \u001b[0;31m# add the instruction onto the given wires\u001b[0m\u001b[0;34m\u001b[0m\u001b[0;34m\u001b[0m\u001b[0;34m\u001b[0m\u001b[0m\n",
      "\u001b[0;32m/opt/anaconda3/lib/python3.8/site-packages/qiskit/circuit/quantumcircuit.py\u001b[0m in \u001b[0;36m_check_cargs\u001b[0;34m(self, cargs)\u001b[0m\n\u001b[1;32m   1459\u001b[0m         \u001b[0;32mif\u001b[0m \u001b[0;32mnot\u001b[0m \u001b[0mall\u001b[0m\u001b[0;34m(\u001b[0m\u001b[0misinstance\u001b[0m\u001b[0;34m(\u001b[0m\u001b[0mi\u001b[0m\u001b[0;34m,\u001b[0m \u001b[0mClbit\u001b[0m\u001b[0;34m)\u001b[0m \u001b[0;32mfor\u001b[0m \u001b[0mi\u001b[0m \u001b[0;32min\u001b[0m \u001b[0mcargs\u001b[0m\u001b[0;34m)\u001b[0m\u001b[0;34m:\u001b[0m\u001b[0;34m\u001b[0m\u001b[0;34m\u001b[0m\u001b[0m\n\u001b[1;32m   1460\u001b[0m             \u001b[0;32mraise\u001b[0m \u001b[0mCircuitError\u001b[0m\u001b[0;34m(\u001b[0m\u001b[0;34m\"carg is not a Clbit\"\u001b[0m\u001b[0;34m)\u001b[0m\u001b[0;34m\u001b[0m\u001b[0;34m\u001b[0m\u001b[0m\n\u001b[0;32m-> 1461\u001b[0;31m         \u001b[0;32mif\u001b[0m \u001b[0;32mnot\u001b[0m \u001b[0mset\u001b[0m\u001b[0;34m(\u001b[0m\u001b[0mcargs\u001b[0m\u001b[0;34m)\u001b[0m \u001b[0;34m<=\u001b[0m \u001b[0mself\u001b[0m\u001b[0;34m.\u001b[0m\u001b[0m_clbit_indices\u001b[0m\u001b[0;34m.\u001b[0m\u001b[0mkeys\u001b[0m\u001b[0;34m(\u001b[0m\u001b[0;34m)\u001b[0m\u001b[0;34m:\u001b[0m\u001b[0;34m\u001b[0m\u001b[0;34m\u001b[0m\u001b[0m\n\u001b[0m\u001b[1;32m   1462\u001b[0m             \u001b[0;32mraise\u001b[0m \u001b[0mCircuitError\u001b[0m\u001b[0;34m(\u001b[0m\u001b[0;34m\"cargs not in this circuit\"\u001b[0m\u001b[0;34m)\u001b[0m\u001b[0;34m\u001b[0m\u001b[0;34m\u001b[0m\u001b[0m\n\u001b[1;32m   1463\u001b[0m \u001b[0;34m\u001b[0m\u001b[0m\n",
      "\u001b[0;31mKeyboardInterrupt\u001b[0m: "
     ]
    }
   ],
   "source": [
    "states = []\n",
    "probs = []\n",
    "for m in range(M):\n",
    "    t0 = time.time()\n",
    "    # load the state from previous quench\n",
    "    circuit0.load_arbitrary_state(state)\n",
    "    \n",
    "    # First randomly select candidate configurations of hz for quench m:\n",
    "    mmds = []\n",
    "    mmds_theoretical= []\n",
    "    \n",
    "    theta_list_array = []\n",
    "    for b in range(n_branches):\n",
    "        # Only randomly earch prameterse for this specific quench\n",
    "        disorder_m = np.random.rand(n_qubits)\n",
    "        \n",
    "        theta_list_m = torch.FloatTensor( (disorder_m*2-1)*hd )\n",
    "        # use these parameters \n",
    "        px, _ = circuit0.pdf_actual(theta_list_m)\n",
    "        \n",
    "        \n",
    "        # theoretical:\n",
    "        H_total = realization(H_XXZ, basis, disorder_m, hd)\n",
    "        psi_m = H_total.evolve(state.data, 0.0, 1.0)\n",
    "        px_theoretical = reduced_prob(psi_m)\n",
    "        \n",
    "        pxy = p_data-px\n",
    "        mmd_distance = pxy@K@(pxy.T)\n",
    "        mmds.append(mmd_distance)\n",
    "        theta_list_array.append(theta_list_m) # keep a record of this for debugging\n",
    "        \n",
    "        pxy_th = p_data-torch.FloatTensor(px_theoretical)\n",
    "        mmd_distance_theoretical = pxy_th@K@(pxy_th.T)\n",
    "        mmds_theoretical.append(mmd_distance_theoretical)\n",
    "    \n",
    "    ind = np.argmin(mmds)\n",
    "    print('ind, best mmd', (ind, mmds[ind]))\n",
    "    ind_theoretical = np.argmin(mmds_theoretical)\n",
    "    print('ind_t, best theoretical mmd', (ind_theoretical, mmds_theoretical[ind_theoretical]) )\n",
    "    \n",
    "    \n",
    "    training_losses.append(mmds[ind])\n",
    "    # Recalculate the best evolved state for the next quench\n",
    "    px, state = circuit0.pdf_actual(theta_list_array[ind]) # returns a StateVector object\n",
    "    states.append(state)\n",
    "    probs.append(px)\n",
    "    t1 = time.time()\n",
    "    print('time', t1-t0)"
   ]
  },
  {
   "cell_type": "code",
   "execution_count": null,
   "metadata": {},
   "outputs": [],
   "source": [
    "plt.plot(probs[0])"
   ]
  },
  {
   "cell_type": "code",
   "execution_count": null,
   "metadata": {},
   "outputs": [],
   "source": [
    "plt.plot(probs[1])"
   ]
  },
  {
   "cell_type": "code",
   "execution_count": null,
   "metadata": {},
   "outputs": [],
   "source": [
    "plt.plot(probs[2])"
   ]
  },
  {
   "cell_type": "code",
   "execution_count": null,
   "metadata": {},
   "outputs": [],
   "source": [
    "plt.plot(states[0].data)"
   ]
  },
  {
   "cell_type": "code",
   "execution_count": null,
   "metadata": {},
   "outputs": [],
   "source": [
    "plt.plot(states[1].data)"
   ]
  },
  {
   "cell_type": "code",
   "execution_count": null,
   "metadata": {},
   "outputs": [],
   "source": [
    "plt.plot(states[2].data)"
   ]
  },
  {
   "cell_type": "code",
   "execution_count": null,
   "metadata": {},
   "outputs": [],
   "source": [
    "plt.plot(states[5].data)"
   ]
  },
  {
   "cell_type": "code",
   "execution_count": null,
   "metadata": {},
   "outputs": [],
   "source": [
    "circuit0.thetas"
   ]
  },
  {
   "cell_type": "code",
   "execution_count": null,
   "metadata": {},
   "outputs": [],
   "source": [
    "phi = qiskit.circuit.Parameter('phi')\n",
    "phi2 = qiskit.circuit.Parameter('phi')\n",
    "qc = qiskit.QuantumCircuit(1)\n",
    "print('qc first praemeter', qc._parameter_table)\n",
    "# parameterize the rotation\n",
    "qc.rx(phi, 0)\n",
    "print(qc.data)\n",
    "qc.draw()\n",
    "\n",
    "# bind the parameters after circuit to create a bound circuit\n",
    "bc = qc.bind_parameters({phi: 3.14})\n",
    "bc.measure_all()\n",
    "bc.draw()\n",
    "qc.rx(phi,0)\n",
    "qc.rx(phi,0)\n",
    "\n"
   ]
  },
  {
   "cell_type": "code",
   "execution_count": null,
   "metadata": {},
   "outputs": [],
   "source": [
    "A = []\n",
    "theta = qiskit.circuit.Parameter('t')\n",
    "A.append(theta)"
   ]
  },
  {
   "cell_type": "code",
   "execution_count": null,
   "metadata": {},
   "outputs": [],
   "source": [
    "theta in A"
   ]
  },
  {
   "cell_type": "code",
   "execution_count": null,
   "metadata": {},
   "outputs": [],
   "source": [
    "theta1 = qiskit.circuit.Parameter('t')\n",
    "theta1 in A"
   ]
  },
  {
   "cell_type": "code",
   "execution_count": null,
   "metadata": {},
   "outputs": [],
   "source": [
    "theta2 = copy.deepcopy(theta)\n",
    "theta2 in A"
   ]
  },
  {
   "cell_type": "code",
   "execution_count": null,
   "metadata": {},
   "outputs": [],
   "source": [
    "id(theta2)"
   ]
  },
  {
   "cell_type": "code",
   "execution_count": null,
   "metadata": {},
   "outputs": [],
   "source": [
    "id(theta)"
   ]
  },
  {
   "cell_type": "code",
   "execution_count": null,
   "metadata": {},
   "outputs": [],
   "source": [
    "id(theta1)"
   ]
  },
  {
   "cell_type": "code",
   "execution_count": null,
   "metadata": {},
   "outputs": [],
   "source": [
    "theta2.name='new-t'"
   ]
  },
  {
   "cell_type": "code",
   "execution_count": null,
   "metadata": {},
   "outputs": [],
   "source": [
    "qc._parameter_table\n",
    "\n",
    "phi5 = copy.deepcopy(phi4)"
   ]
  },
  {
   "cell_type": "code",
   "execution_count": null,
   "metadata": {},
   "outputs": [],
   "source": [
    "phi5 in qc._parameter_table"
   ]
  },
  {
   "cell_type": "code",
   "execution_count": null,
   "metadata": {},
   "outputs": [],
   "source": [
    "phi3=phi# pass by reference\n",
    "import copy\n",
    "phi4=copy.deepcopy(phi)\n",
    "qc.rx(phi4,0)# meaning that qiskist doesn't detect parameter duplicatres via address"
   ]
  },
  {
   "cell_type": "code",
   "execution_count": null,
   "metadata": {},
   "outputs": [],
   "source": [
    "psi0=qiskit.circuit.Parameter('psi0')\n",
    "qc._update_parameter_table(qc.data[0][0])"
   ]
  },
  {
   "cell_type": "code",
   "execution_count": null,
   "metadata": {},
   "outputs": [],
   "source": [
    "qc.rx(phi2,0)"
   ]
  },
  {
   "cell_type": "code",
   "execution_count": null,
   "metadata": {},
   "outputs": [],
   "source": [
    "qc.data"
   ]
  },
  {
   "cell_type": "code",
   "execution_count": null,
   "metadata": {},
   "outputs": [],
   "source": [
    "phi4==phi"
   ]
  },
  {
   "cell_type": "code",
   "execution_count": null,
   "metadata": {},
   "outputs": [],
   "source": [
    "phi.parameters"
   ]
  },
  {
   "cell_type": "code",
   "execution_count": null,
   "metadata": {},
   "outputs": [],
   "source": [
    "qc.rx(phi2,0)"
   ]
  },
  {
   "cell_type": "code",
   "execution_count": null,
   "metadata": {},
   "outputs": [],
   "source": [
    "qc._parameter_table.clear()"
   ]
  },
  {
   "cell_type": "code",
   "execution_count": null,
   "metadata": {},
   "outputs": [],
   "source": [
    "qc.rx(phi2,0)"
   ]
  },
  {
   "cell_type": "code",
   "execution_count": null,
   "metadata": {},
   "outputs": [],
   "source": [
    "circuit0._circuit.data"
   ]
  },
  {
   "cell_type": "code",
   "execution_count": null,
   "metadata": {},
   "outputs": [],
   "source": [
    "circuit0._circuit.draw()"
   ]
  },
  {
   "cell_type": "code",
   "execution_count": null,
   "metadata": {},
   "outputs": [],
   "source": [
    "torch.cat([torch.Tensor(), torch.zeros((3))])"
   ]
  },
  {
   "cell_type": "code",
   "execution_count": null,
   "metadata": {},
   "outputs": [],
   "source": []
  },
  {
   "cell_type": "code",
   "execution_count": null,
   "metadata": {},
   "outputs": [],
   "source": [
    "torch.ones(3)@torch.ones((3,3))@torch.ones(3)"
   ]
  },
  {
   "cell_type": "code",
   "execution_count": null,
   "metadata": {},
   "outputs": [],
   "source": [
    "(torch.rand( (circuit0.current_m+1)*circuit0.n_qubits )*2-1)*1.8"
   ]
  },
  {
   "cell_type": "code",
   "execution_count": null,
   "metadata": {},
   "outputs": [],
   "source": []
  }
 ],
 "metadata": {
  "kernelspec": {
   "display_name": "Python 3",
   "language": "python",
   "name": "python3"
  },
  "language_info": {
   "codemirror_mode": {
    "name": "ipython",
    "version": 3
   },
   "file_extension": ".py",
   "mimetype": "text/x-python",
   "name": "python",
   "nbconvert_exporter": "python",
   "pygments_lexer": "ipython3",
   "version": "3.8.5"
  }
 },
 "nbformat": 4,
 "nbformat_minor": 4
}
