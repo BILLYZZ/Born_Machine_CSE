{
 "cells": [
  {
   "cell_type": "code",
   "execution_count": 1,
   "metadata": {},
   "outputs": [],
   "source": [
    "# This file uses the inhouse qcbm code from the paper and compares MMD with MCR\n",
    "import numpy as np\n",
    "import matplotlib.pyplot as plt\n",
    "import copy\n",
    "import q_circuit as q # In house circuit code, to comare with Qiskit\n",
    "import torch\n",
    "import time\n",
    "import os\n",
    "\n",
    "# Oh Hail the almighty Qiskit:\n",
    "import qiskit\n",
    "from qiskit import transpile, assemble\n",
    "from qiskit.visualization import *\n",
    "from qiskit import IBMQ\n",
    "from qiskit.providers.jobstatus import JobStatus\n",
    "\n",
    "# Import custom packages: These are written by me\n",
    "import InHouse_Circuits as ihc\n",
    "import Qiskit_Circuits as qkc\n",
    "import Q_Generator as QG\n",
    "import Q_Loss_and_Gradients as Q_gradients\n",
    "import Utils\n",
    "import Discriminator_Utils as D_utils # A file that contains different discriminator architectures"
   ]
  },
  {
   "cell_type": "code",
   "execution_count": 2,
   "metadata": {},
   "outputs": [],
   "source": [
    "# IBMQ.enable_account(\"a66a83268fbf696a24b481c5d7568d50f14a1b2f28c6932d600a625b9cbffc6e28a6594bdd422676c9b2a214dcafa87d57012cc8678cbabaeecb319a0515f4c2\")"
   ]
  },
  {
   "cell_type": "code",
   "execution_count": 3,
   "metadata": {},
   "outputs": [],
   "source": [
    "# provider = IBMQ.get_provider(hub='ibm-q')\n",
    "# provider.backends()"
   ]
  },
  {
   "cell_type": "code",
   "execution_count": 4,
   "metadata": {},
   "outputs": [],
   "source": [
    "#backend = provider.get_backend('simulator_statevector')"
   ]
  },
  {
   "cell_type": "code",
   "execution_count": 2,
   "metadata": {},
   "outputs": [
    {
     "name": "stdout",
     "output_type": "stream",
     "text": [
      "connection scheme [(0, 1), (1, 2), (2, 3), (3, 4), (4, 5)]\n"
     ]
    }
   ],
   "source": [
    "#======================================Start of Configurations=================================\n",
    "n_qubits = 6 # We use 6 qubits, two hidden\n",
    "n_h_qubits = 0\n",
    "n_show_qubits = n_qubits-n_h_qubits\n",
    "x_basis_m_n = torch.FloatTensor(Utils.binary_basis((n_show_qubits,))) \n",
    "sigma_list = [0.5, 1]\n",
    "K = Utils.mix_rbf_kernel(x_basis_m_n, x_basis_m_n, sigma_list)\n",
    "\n",
    "geometry = (2,3) # The qubits are put on a 2 by 2 graph\n",
    "\n",
    "#connections = q.get_nn_pairs((6,))[:-1] # The qubits are CNOT-entangled by nearest neighbors on the 2 by 2 graph\n",
    "connections = [(0, 1), (1, 2), (2, 3), (3, 4), (4, 5)]\n",
    "print('connection scheme', connections)\n",
    "\n",
    "simulator = qiskit.Aer.get_backend('statevector_simulator')\n",
    "\n",
    "circuit0 = qkc.MBL_Circuit(delta_t=0.014, t_m=0.14, Jxy=0.0, Jzz=0.0, n_qubits=n_qubits, n_h_qubits=n_h_qubits, \n",
    "                           connections=connections, \n",
    "                           backend=simulator, shots=100, if_measure=False)"
   ]
  },
  {
   "cell_type": "markdown",
   "metadata": {},
   "source": [
    "Test out the circuit"
   ]
  },
  {
   "cell_type": "code",
   "execution_count": 3,
   "metadata": {},
   "outputs": [
    {
     "name": "stdout",
     "output_type": "stream",
     "text": [
      "0\n",
      "1\n",
      "2\n",
      "3\n",
      "4\n",
      "5\n",
      "6\n",
      "7\n",
      "8\n",
      "9\n",
      "10\n",
      "11\n",
      "12\n",
      "13\n",
      "14\n",
      "15\n"
     ]
    }
   ],
   "source": [
    "mags = []\n",
    "J_xy_list = np.linspace(0, 2.5, 16)\n",
    "for i in range(len(J_xy_list)):\n",
    "    # At initialization, the circuit does not have any gates\n",
    "    Jxy = -J_xy_list[i]\n",
    "    circuit0.Jxy = Jxy # changing Jxy for the new m group layer\n",
    "    circuit0.append_layers_m(m=i)\n",
    "    \n",
    "    \n",
    "    prob0, prob1 = circuit0.marginal(5, torch.zeros((circuit0.current_m+1, circuit0.n_qubits)))\n",
    "    mags.append(prob0-prob1)\n",
    "    \n",
    "    print(i)"
   ]
  },
  {
   "cell_type": "code",
   "execution_count": 4,
   "metadata": {},
   "outputs": [
    {
     "data": {
      "text/plain": [
       "[(0.9999999999999996+0j),\n",
       " (0.9999999994380194+0j),\n",
       " (0.999999587209262+0j),\n",
       " (0.999974013543017+0j),\n",
       " (0.9994679304163179+0j),\n",
       " (0.9944695357117213+0j),\n",
       " (0.964500928385426+0j),\n",
       " (0.8454851334175295+0j),\n",
       " (0.5246008940652918+0j),\n",
       " (-0.04668961457351406+0j),\n",
       " (-0.6518399226918729+0j),\n",
       " (-0.9212252952532554+0j),\n",
       " (-0.8657981281999649+0j),\n",
       " (-0.8198295507780315+0j),\n",
       " (-0.7712963492155356+0j),\n",
       " (-0.501688942103382+0j)]"
      ]
     },
     "execution_count": 4,
     "metadata": {},
     "output_type": "execute_result"
    }
   ],
   "source": [
    "mags"
   ]
  },
  {
   "cell_type": "code",
   "execution_count": 5,
   "metadata": {},
   "outputs": [
    {
     "name": "stderr",
     "output_type": "stream",
     "text": [
      "/opt/anaconda3/lib/python3.8/site-packages/numpy/core/_asarray.py:83: ComplexWarning: Casting complex values to real discards the imaginary part\n",
      "  return array(a, dtype, copy=False, order=order)\n"
     ]
    },
    {
     "data": {
      "text/plain": [
       "Text(0.5, 1.0, 'Aperiodic 1D, 10 trotter slices/quench')"
      ]
     },
     "execution_count": 5,
     "metadata": {},
     "output_type": "execute_result"
    },
    {
     "data": {
      "image/png": "[encoded data removed]",
      "text/plain": [
       "<Figure size 432x288 with 1 Axes>"
      ]
     },
     "metadata": {
      "needs_background": "light"
     },
     "output_type": "display_data"
    }
   ],
   "source": [
    "plt.plot(np.linspace(0, 2.5, 16),mags)\n",
    "plt.title('Aperiodic 1D, 10 trotter slices/quench')"
   ]
  },
  {
   "cell_type": "code",
   "execution_count": 6,
   "metadata": {},
   "outputs": [
    {
     "data": {
      "text/plain": [
       "[<matplotlib.lines.Line2D at 0x7fdfdd49e790>]"
      ]
     },
     "execution_count": 6,
     "metadata": {},
     "output_type": "execute_result"
    },
    {
     "data": {
      "image/png": "[encoded data removed]",
      "text/plain": [
       "<Figure size 432x288 with 1 Axes>"
      ]
     },
     "metadata": {
      "needs_background": "light"
     },
     "output_type": "display_data"
    }
   ],
   "source": [
    "plt.plot(mags)"
   ]
  }
 ],
 "metadata": {
  "kernelspec": {
   "display_name": "Python 3",
   "language": "python",
   "name": "python3"
  },
  "language_info": {
   "codemirror_mode": {
    "name": "ipython",
    "version": 3
   },
   "file_extension": ".py",
   "mimetype": "text/x-python",
   "name": "python",
   "nbconvert_exporter": "python",
   "pygments_lexer": "ipython3",
   "version": "3.8.5"
  }
 },
 "nbformat": 4,
 "nbformat_minor": 4
}
